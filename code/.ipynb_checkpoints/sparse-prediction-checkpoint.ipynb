{
 "cells": [
  {
   "cell_type": "markdown",
   "metadata": {},
   "source": [
    "## Test the Performance of Sparse Linear Regression\n",
    "\n",
    "Test the performance of regular/sparse linear regression."
   ]
  },
  {
   "cell_type": "code",
   "execution_count": 1,
   "metadata": {},
   "outputs": [],
   "source": [
    "import numpy as np\n",
    "import os, sys, copy\n",
    "import pandas as pd\n",
    "from matplotlib import pyplot as plt\n",
    "import seaborn as sns\n",
    "from sklearn import linear_model\n",
    "from scipy.stats import pearsonr\n",
    "from sklearn.utils.multiclass import type_of_target\n",
    "from sklearn.model_selection import train_test_split\n",
    "from sklearn.preprocessing import StandardScaler"
   ]
  },
  {
   "cell_type": "code",
   "execution_count": 2,
   "metadata": {},
   "outputs": [],
   "source": [
    "# Load the data\n",
    "metadata = pd.read_csv('../data/metafile_1026.csv', index_col=0, header=None, names=['feature', 'description'])\n",
    "data = pd.read_csv('../data/global_dams_db_1026.csv')"
   ]
  },
  {
   "cell_type": "code",
   "execution_count": 3,
   "metadata": {},
   "outputs": [],
   "source": [
    "# Delare a vector of features to use\n",
    "# features = ['DAM_HGT_M', 'DAM_LEN_M', 'AREA_SKM', 'DEPTH_M', 'DIS_AVG_LS', 'DOR_PC', 'ELEV_MASL', 'CATCH_SKM', \n",
    "#             'GDP_capita', 'Population', 'run_mm_syr', 'inu_pc_umn', 'sgr_dk_sav', 'clz_cl_smj', 'ari_ix_sav', \n",
    "#             'ari_ix_uav', 'glc_cl_smj', 'pnv_cl_smj', 'wet_cl_smj', 'for_pc_use', 'crp_pc_use', 'pst_pc_use', \n",
    "#             'ire_pc_use', 'gla_pc_use', 'prm_pc_use', 'pac_pc_use', 'fmh_cl_smj', 'soc_th_uav', 'swc_pc_uyr', \n",
    "#             'lit_cl_smj', 'ero_kh_uav', 'pop_ct_usu', 'ppd_pk_uav', 'urb_pc_use', 'hft_ix_u09', 'hdi_ix_sav']\n",
    "\n",
    "features = ['DAM_HGT_M', 'DAM_LEN_M', 'AREA_SKM', 'DEPTH_M', 'DIS_AVG_LS', 'DOR_PC', 'ELEV_MASL', 'CATCH_SKM', \n",
    "            'GDP_capita', 'Population', 'run_mm_syr', 'inu_pc_umn', 'sgr_dk_sav', 'ari_ix_sav', 'ari_ix_uav', \n",
    "            'for_pc_use', 'crp_pc_use', 'pst_pc_use', 'ire_pc_use', 'gla_pc_use', 'prm_pc_use', 'pac_pc_use', \n",
    "            'soc_th_uav', 'swc_pc_uyr', 'ero_kh_uav', 'pop_ct_usu', 'ppd_pk_uav', 'urb_pc_use', 'hft_ix_u09', \n",
    "            'hdi_ix_sav', 'YEAR', 'CAP_MCM', 'RES_YLD_TN', 'RES_LSS_TN', 'CO2_total_per_GWH',\n",
    "            'fish_per_GWH', 'capacity_factor']"
   ]
  },
  {
   "cell_type": "code",
   "execution_count": 4,
   "metadata": {},
   "outputs": [],
   "source": [
    "# # Change categorial features to one-hot encoding\n",
    "# categorial_features = ['clz_cl_smj', 'glc_cl_smj', 'pnv_cl_smj', 'wet_cl_smj', \n",
    "#                        'fmh_cl_smj', 'lit_cl_smj', 'MAIN_USE', 'LAKE_CTRL']\n",
    "\n",
    "# for feature in categorial_features:\n",
    "#     categories = pd.unique(data[feature])\n",
    "#     for category in categories:\n",
    "#         key = '{}-{}'.format(feature, category)\n",
    "#         data[key] = data[feature].apply(lambda x: 1 if x == category else 0)\n",
    "#         features.append(key)"
   ]
  },
  {
   "cell_type": "code",
   "execution_count": 5,
   "metadata": {},
   "outputs": [],
   "source": [
    "# # Add columns for CO2 per GWH and fish per GWH\n",
    "# data['CO2_areal_per_GWH'] = data.apply(lambda x: x['CO2EQ_areal']/x['GEN_GWH_YR'], axis=1)\n",
    "# data['CO2_total_per_GWH'] = data.apply(lambda x: x['CO2EQ_total']/x['GEN_GWH_YR'], axis=1)\n",
    "# data['fish_per_GWH'] = data.apply(lambda x: (x['RES_BAL']/x['GEN_GWH_YR']), axis=1)"
   ]
  },
  {
   "cell_type": "code",
   "execution_count": 6,
   "metadata": {},
   "outputs": [],
   "source": [
    "# Save the data with the new features\n",
    "# data.to_csv('../data/global_dams_db__with_objs_0922.csv')"
   ]
  },
  {
   "cell_type": "markdown",
   "metadata": {},
   "source": [
    "### CO2 per GWH"
   ]
  },
  {
   "cell_type": "code",
   "execution_count": 7,
   "metadata": {},
   "outputs": [
    {
     "data": {
      "text/plain": [
       "(477, 38)"
      ]
     },
     "execution_count": 7,
     "metadata": {},
     "output_type": "execute_result"
    }
   ],
   "source": [
    "# Filter for dams with CO2 and power information\n",
    "data_filt = data[data['CO2_total_per_GWH'].apply(lambda x: not pd.isna(x))]\n",
    "data_filt = data_filt[features + ['GEN_GWH_YR']]\n",
    "data_filt.shape"
   ]
  },
  {
   "cell_type": "code",
   "execution_count": 8,
   "metadata": {},
   "outputs": [],
   "source": [
    "# Generate the test and training data \n",
    "X = data_filt.drop(columns=['CO2_total_per_GWH'], inplace=False)\n",
    "y = np.log(data_filt['CO2_total_per_GWH'])\n",
    "X_train, X_test, y_train, y_test = train_test_split(X, y, test_size=0.9, random_state=42)"
   ]
  },
  {
   "cell_type": "code",
   "execution_count": 9,
   "metadata": {},
   "outputs": [],
   "source": [
    "# Standardize the data (i.e. set mean to 0 and std to 1)\n",
    "sc = StandardScaler()\n",
    "X_train = sc.fit_transform(X_train)\n",
    "X_test = sc.transform (X_test)"
   ]
  },
  {
   "cell_type": "code",
   "execution_count": 10,
   "metadata": {},
   "outputs": [
    {
     "data": {
      "text/plain": [
       "DAM_LEN_M       36\n",
       "YEAR             1\n",
       "RES_YLD_TN      24\n",
       "RES_LSS_TN      24\n",
       "fish_per_GWH    24\n",
       "dtype: int64"
      ]
     },
     "execution_count": 10,
     "metadata": {},
     "output_type": "execute_result"
    }
   ],
   "source": [
    "# Check for features containing NAs\n",
    "nas = X.isnull().sum()\n",
    "nas = nas[nas != 0]\n",
    "nas"
   ]
  },
  {
   "cell_type": "code",
   "execution_count": 11,
   "metadata": {},
   "outputs": [],
   "source": [
    "# For now, drop columns with NAs. Could potentially use imputation\n",
    "X.drop(columns=list(nas.index), inplace=True)\n",
    "X_train, X_test, y_train, y_test = train_test_split(X, y, test_size=0.3, random_state=0)"
   ]
  },
  {
   "cell_type": "code",
   "execution_count": 12,
   "metadata": {},
   "outputs": [],
   "source": [
    "# Define alphas\n",
    "alphas = [50, 25, 10, 5, 1, 0.5, 0]"
   ]
  },
  {
   "cell_type": "code",
   "execution_count": 13,
   "metadata": {},
   "outputs": [],
   "source": [
    "# Train models and record R2 values and the number of parameters\n",
    "test_r2s = np.zeros(len(alphas))\n",
    "train_r2s = np.zeros(len(alphas))\n",
    "n_params = np.zeros(len(alphas))\n",
    "coeffs = {}\n",
    "y_pred_test = {}\n",
    "y_pred_train = {}\n",
    "\n",
    "for i in range(len(alphas)):\n",
    "    alpha = alphas[i]\n",
    "    if alpha == 0:\n",
    "        reg = linear_model.LinearRegression()\n",
    "    else:\n",
    "        reg = linear_model.Lasso(alpha=alpha)\n",
    "    reg.fit(X_train, y_train)    \n",
    "    test_r2s[i] = reg.score(X_test, y_test)\n",
    "    train_r2s[i] = reg.score(X_train, y_train)\n",
    "    y_pred_test[alpha] = reg.predict(X_test)\n",
    "    y_pred_train[alpha] = reg.predict(X_train)\n",
    "    coeffs[alpha] = reg.coef_\n",
    "    n_params[i] = len(coeffs[alpha][coeffs[alpha] != 0])"
   ]
  },
  {
   "cell_type": "code",
   "execution_count": 14,
   "metadata": {},
   "outputs": [
    {
     "data": {
      "image/png": "[encoded data removed]",
      "text/plain": [
       "<Figure size 864x432 with 2 Axes>"
      ]
     },
     "metadata": {
      "needs_background": "light"
     },
     "output_type": "display_data"
    }
   ],
   "source": [
    "# Plot the y-values verus the predicted y-values for the regular regression\n",
    "fig = plt.figure(figsize=(12,6))\n",
    "plt.subplot(1,2,2)\n",
    "plt.scatter(y_test, y_pred_test[alphas[4]], alpha=0.5)\n",
    "plt.xlabel('y')\n",
    "plt.ylabel('y pred')\n",
    "plt.title('Test Data')\n",
    "\n",
    "plt.subplot(1,2,1)\n",
    "plt.scatter(y_train, y_pred_train[alphas[4]], alpha=0.5)\n",
    "plt.xlabel('y')\n",
    "plt.ylabel('y pred')\n",
    "plt.title('Training Data')\n",
    "plt.show()\n"
   ]
  },
  {
   "cell_type": "code",
   "execution_count": 15,
   "metadata": {},
   "outputs": [
    {
     "data": {
      "image/png": "[encoded data removed]",
      "text/plain": [
       "<Figure size 864x432 with 2 Axes>"
      ]
     },
     "metadata": {
      "needs_background": "light"
     },
     "output_type": "display_data"
    }
   ],
   "source": [
    "# Plot the R2 values of the models\n",
    "fig = plt.figure(figsize=(12,6))\n",
    "plt.subplot(1,2,1)\n",
    "plt.scatter(n_params, train_r2s)\n",
    "for i in range(len(n_params)):\n",
    "    plt.text(n_params[i], train_r2s[i], s=alphas[i])\n",
    "plt.xlabel('Number of parameters')\n",
    "plt.ylabel('$R^2$')\n",
    "plt.title('Training Data')\n",
    "\n",
    "plt.subplot(1,2,2)\n",
    "plt.scatter(n_params, test_r2s)\n",
    "for i in range(len(n_params)):\n",
    "    plt.text(n_params[i], test_r2s[i], s=alphas[i])\n",
    "plt.xlabel('Number of parameters')\n",
    "plt.ylabel('$R^2$')\n",
    "plt.title('Test Data')\n",
    "plt.show()\n"
   ]
  },
  {
   "cell_type": "code",
   "execution_count": 16,
   "metadata": {},
   "outputs": [
    {
     "data": {
      "text/plain": [
       "array([0.32201919, 0.34827813, 0.43756352, 0.53650294, 0.59037634,\n",
       "       0.60459448, 0.61219634])"
      ]
     },
     "execution_count": 16,
     "metadata": {},
     "output_type": "execute_result"
    }
   ],
   "source": [
    "train_r2s"
   ]
  },
  {
   "cell_type": "code",
   "execution_count": 17,
   "metadata": {},
   "outputs": [],
   "source": [
    "# Create summary dataframes\n",
    "summary = {}\n",
    "for alpha in alphas:\n",
    "    summary[alpha] = pd.DataFrame(columns=['feature', 'coeff'], data=np.array([X.columns[coeffs[alpha] > 0], coeffs[alpha][coeffs[alpha] > 0]]).T)\n",
    "    summary[alpha] = summary[alpha].join(metadata, on='feature')\n",
    "    summary[alpha].sort_values(by='coeff', inplace=True, ascending=False)"
   ]
  },
  {
   "cell_type": "code",
   "execution_count": 18,
   "metadata": {
    "scrolled": true
   },
   "outputs": [
    {
     "data": {
      "text/html": [
       "<div>\n",
       "<style scoped>\n",
       "    .dataframe tbody tr th:only-of-type {\n",
       "        vertical-align: middle;\n",
       "    }\n",
       "\n",
       "    .dataframe tbody tr th {\n",
       "        vertical-align: top;\n",
       "    }\n",
       "\n",
       "    .dataframe thead th {\n",
       "        text-align: right;\n",
       "    }\n",
       "</style>\n",
       "<table border=\"1\" class=\"dataframe\">\n",
       "  <thead>\n",
       "    <tr style=\"text-align: right;\">\n",
       "      <th></th>\n",
       "      <th>feature</th>\n",
       "      <th>coeff</th>\n",
       "      <th>description</th>\n",
       "    </tr>\n",
       "  </thead>\n",
       "  <tbody>\n",
       "    <tr>\n",
       "      <th>7</th>\n",
       "      <td>gla_pc_use</td>\n",
       "      <td>0.065374</td>\n",
       "      <td>Glacier extent, in percent, in total watershed...</td>\n",
       "    </tr>\n",
       "    <tr>\n",
       "      <th>11</th>\n",
       "      <td>urb_pc_use</td>\n",
       "      <td>0.0401286</td>\n",
       "      <td>Urban spatial extent, in percent, in total wat...</td>\n",
       "    </tr>\n",
       "    <tr>\n",
       "      <th>5</th>\n",
       "      <td>ari_ix_uav</td>\n",
       "      <td>0.00971423</td>\n",
       "      <td>Global aridity index, in total watershed upstr...</td>\n",
       "    </tr>\n",
       "    <tr>\n",
       "      <th>8</th>\n",
       "      <td>pac_pc_use</td>\n",
       "      <td>0.00527019</td>\n",
       "      <td>Protected area extent, in percent, in total wa...</td>\n",
       "    </tr>\n",
       "    <tr>\n",
       "      <th>4</th>\n",
       "      <td>inu_pc_umn</td>\n",
       "      <td>0.00516737</td>\n",
       "      <td>Annual minimum inundation extent in total wate...</td>\n",
       "    </tr>\n",
       "    <tr>\n",
       "      <th>1</th>\n",
       "      <td>DOR_PC</td>\n",
       "      <td>0.00215081</td>\n",
       "      <td>Degree of regulation in percent; equivalent to...</td>\n",
       "    </tr>\n",
       "    <tr>\n",
       "      <th>6</th>\n",
       "      <td>for_pc_use</td>\n",
       "      <td>0.000995473</td>\n",
       "      <td>Forest cover extent, in percent, in total wate...</td>\n",
       "    </tr>\n",
       "    <tr>\n",
       "      <th>0</th>\n",
       "      <td>AREA_SKM</td>\n",
       "      <td>0.000281177</td>\n",
       "      <td>Surface area of reservoir</td>\n",
       "    </tr>\n",
       "    <tr>\n",
       "      <th>10</th>\n",
       "      <td>pop_ct_usu</td>\n",
       "      <td>3.43738e-05</td>\n",
       "      <td>Population count, thousands of people</td>\n",
       "    </tr>\n",
       "    <tr>\n",
       "      <th>9</th>\n",
       "      <td>ero_kh_uav</td>\n",
       "      <td>1.13772e-05</td>\n",
       "      <td>Soil erosion, in kg per hectare per year, in t...</td>\n",
       "    </tr>\n",
       "    <tr>\n",
       "      <th>2</th>\n",
       "      <td>GDP_capita</td>\n",
       "      <td>1.08041e-05</td>\n",
       "      <td>GDP per capita of country, in 2020 US $</td>\n",
       "    </tr>\n",
       "    <tr>\n",
       "      <th>12</th>\n",
       "      <td>CAP_MCM</td>\n",
       "      <td>8.88038e-06</td>\n",
       "      <td>Maximum storage capacity of the reservoir, in ...</td>\n",
       "    </tr>\n",
       "    <tr>\n",
       "      <th>13</th>\n",
       "      <td>GEN_GWH_YR</td>\n",
       "      <td>8.73929e-06</td>\n",
       "      <td>Annual generation of hydropower dams, in GWh p...</td>\n",
       "    </tr>\n",
       "    <tr>\n",
       "      <th>3</th>\n",
       "      <td>Population</td>\n",
       "      <td>5.219e-10</td>\n",
       "      <td>Populatin of country</td>\n",
       "    </tr>\n",
       "  </tbody>\n",
       "</table>\n",
       "</div>"
      ],
      "text/plain": [
       "       feature        coeff                                        description\n",
       "7   gla_pc_use     0.065374  Glacier extent, in percent, in total watershed...\n",
       "11  urb_pc_use    0.0401286  Urban spatial extent, in percent, in total wat...\n",
       "5   ari_ix_uav   0.00971423  Global aridity index, in total watershed upstr...\n",
       "8   pac_pc_use   0.00527019  Protected area extent, in percent, in total wa...\n",
       "4   inu_pc_umn   0.00516737  Annual minimum inundation extent in total wate...\n",
       "1       DOR_PC   0.00215081  Degree of regulation in percent; equivalent to...\n",
       "6   for_pc_use  0.000995473  Forest cover extent, in percent, in total wate...\n",
       "0     AREA_SKM  0.000281177                          Surface area of reservoir\n",
       "10  pop_ct_usu  3.43738e-05              Population count, thousands of people\n",
       "9   ero_kh_uav  1.13772e-05  Soil erosion, in kg per hectare per year, in t...\n",
       "2   GDP_capita  1.08041e-05            GDP per capita of country, in 2020 US $\n",
       "12     CAP_MCM  8.88038e-06  Maximum storage capacity of the reservoir, in ...\n",
       "13  GEN_GWH_YR  8.73929e-06  Annual generation of hydropower dams, in GWh p...\n",
       "3   Population    5.219e-10                               Populatin of country"
      ]
     },
     "execution_count": 18,
     "metadata": {},
     "output_type": "execute_result"
    }
   ],
   "source": [
    "summary[0]"
   ]
  },
  {
   "cell_type": "code",
   "execution_count": 19,
   "metadata": {},
   "outputs": [
    {
     "data": {
      "text/html": [
       "<div>\n",
       "<style scoped>\n",
       "    .dataframe tbody tr th:only-of-type {\n",
       "        vertical-align: middle;\n",
       "    }\n",
       "\n",
       "    .dataframe tbody tr th {\n",
       "        vertical-align: top;\n",
       "    }\n",
       "\n",
       "    .dataframe thead th {\n",
       "        text-align: right;\n",
       "    }\n",
       "</style>\n",
       "<table border=\"1\" class=\"dataframe\">\n",
       "  <thead>\n",
       "    <tr style=\"text-align: right;\">\n",
       "      <th></th>\n",
       "      <th>feature</th>\n",
       "      <th>coeff</th>\n",
       "      <th>description</th>\n",
       "    </tr>\n",
       "  </thead>\n",
       "  <tbody>\n",
       "    <tr>\n",
       "      <th>10</th>\n",
       "      <td>urb_pc_use</td>\n",
       "      <td>0.0214564</td>\n",
       "      <td>Urban spatial extent, in percent, in total wat...</td>\n",
       "    </tr>\n",
       "    <tr>\n",
       "      <th>5</th>\n",
       "      <td>ari_ix_uav</td>\n",
       "      <td>0.00421911</td>\n",
       "      <td>Global aridity index, in total watershed upstr...</td>\n",
       "    </tr>\n",
       "    <tr>\n",
       "      <th>7</th>\n",
       "      <td>pac_pc_use</td>\n",
       "      <td>0.00375943</td>\n",
       "      <td>Protected area extent, in percent, in total wa...</td>\n",
       "    </tr>\n",
       "    <tr>\n",
       "      <th>4</th>\n",
       "      <td>inu_pc_umn</td>\n",
       "      <td>0.00297439</td>\n",
       "      <td>Annual minimum inundation extent in total wate...</td>\n",
       "    </tr>\n",
       "    <tr>\n",
       "      <th>1</th>\n",
       "      <td>DOR_PC</td>\n",
       "      <td>0.00208082</td>\n",
       "      <td>Degree of regulation in percent; equivalent to...</td>\n",
       "    </tr>\n",
       "    <tr>\n",
       "      <th>6</th>\n",
       "      <td>for_pc_use</td>\n",
       "      <td>0.000409079</td>\n",
       "      <td>Forest cover extent, in percent, in total wate...</td>\n",
       "    </tr>\n",
       "    <tr>\n",
       "      <th>0</th>\n",
       "      <td>AREA_SKM</td>\n",
       "      <td>0.000276992</td>\n",
       "      <td>Surface area of reservoir</td>\n",
       "    </tr>\n",
       "    <tr>\n",
       "      <th>9</th>\n",
       "      <td>pop_ct_usu</td>\n",
       "      <td>3.22313e-05</td>\n",
       "      <td>Population count, thousands of people</td>\n",
       "    </tr>\n",
       "    <tr>\n",
       "      <th>11</th>\n",
       "      <td>CAP_MCM</td>\n",
       "      <td>1.15648e-05</td>\n",
       "      <td>Maximum storage capacity of the reservoir, in ...</td>\n",
       "    </tr>\n",
       "    <tr>\n",
       "      <th>2</th>\n",
       "      <td>GDP_capita</td>\n",
       "      <td>1.09146e-05</td>\n",
       "      <td>GDP per capita of country, in 2020 US $</td>\n",
       "    </tr>\n",
       "    <tr>\n",
       "      <th>12</th>\n",
       "      <td>GEN_GWH_YR</td>\n",
       "      <td>7.4847e-06</td>\n",
       "      <td>Annual generation of hydropower dams, in GWh p...</td>\n",
       "    </tr>\n",
       "    <tr>\n",
       "      <th>8</th>\n",
       "      <td>ero_kh_uav</td>\n",
       "      <td>7.23548e-06</td>\n",
       "      <td>Soil erosion, in kg per hectare per year, in t...</td>\n",
       "    </tr>\n",
       "    <tr>\n",
       "      <th>3</th>\n",
       "      <td>Population</td>\n",
       "      <td>4.55554e-10</td>\n",
       "      <td>Populatin of country</td>\n",
       "    </tr>\n",
       "  </tbody>\n",
       "</table>\n",
       "</div>"
      ],
      "text/plain": [
       "       feature        coeff                                        description\n",
       "10  urb_pc_use    0.0214564  Urban spatial extent, in percent, in total wat...\n",
       "5   ari_ix_uav   0.00421911  Global aridity index, in total watershed upstr...\n",
       "7   pac_pc_use   0.00375943  Protected area extent, in percent, in total wa...\n",
       "4   inu_pc_umn   0.00297439  Annual minimum inundation extent in total wate...\n",
       "1       DOR_PC   0.00208082  Degree of regulation in percent; equivalent to...\n",
       "6   for_pc_use  0.000409079  Forest cover extent, in percent, in total wate...\n",
       "0     AREA_SKM  0.000276992                          Surface area of reservoir\n",
       "9   pop_ct_usu  3.22313e-05              Population count, thousands of people\n",
       "11     CAP_MCM  1.15648e-05  Maximum storage capacity of the reservoir, in ...\n",
       "2   GDP_capita  1.09146e-05            GDP per capita of country, in 2020 US $\n",
       "12  GEN_GWH_YR   7.4847e-06  Annual generation of hydropower dams, in GWh p...\n",
       "8   ero_kh_uav  7.23548e-06  Soil erosion, in kg per hectare per year, in t...\n",
       "3   Population  4.55554e-10                               Populatin of country"
      ]
     },
     "execution_count": 19,
     "metadata": {},
     "output_type": "execute_result"
    }
   ],
   "source": [
    "summary[0.5]"
   ]
  },
  {
   "cell_type": "markdown",
   "metadata": {},
   "source": [
    "### Change in Fish per GWH"
   ]
  },
  {
   "cell_type": "code",
   "execution_count": 20,
   "metadata": {},
   "outputs": [],
   "source": [
    "# Filter for dams with fish and power information\n",
    "data_filt = data[data['fish_per_GWH'].apply(lambda x: not pd.isna(x))]\n",
    "data_filt = data_filt[features]"
   ]
  },
  {
   "cell_type": "code",
   "execution_count": 21,
   "metadata": {},
   "outputs": [],
   "source": [
    "# Generate the test and training data \n",
    "X = data_filt.drop(columns=['fish_per_GWH'], inplace=False)\n",
    "y = np.log(np.abs(data_filt['fish_per_GWH'])) * np.sign(data_filt['fish_per_GWH'])\n",
    "X_train, X_test, y_train, y_test = train_test_split(X, y, test_size=0.3, random_state=0)"
   ]
  },
  {
   "cell_type": "code",
   "execution_count": 22,
   "metadata": {},
   "outputs": [],
   "source": [
    "# Check for features containing NAs\n",
    "nas = X.isnull().sum()\n",
    "nas = nas[nas != 0]"
   ]
  },
  {
   "cell_type": "code",
   "execution_count": 23,
   "metadata": {},
   "outputs": [],
   "source": [
    "# For now, drop columns with NAs. Could potentially use imputation\n",
    "X.drop(columns=list(nas.index), inplace=True)\n",
    "X_train, X_test, y_train, y_test = train_test_split(X, y, test_size=0.3, random_state=42)"
   ]
  },
  {
   "cell_type": "code",
   "execution_count": 24,
   "metadata": {},
   "outputs": [],
   "source": [
    "# Standardize the data (i.e. set mean to 0 and std to 1)\n",
    "sc = StandardScaler()\n",
    "X_train = sc.fit_transform(X_train)\n",
    "X_test = sc.transform (X_test)"
   ]
  },
  {
   "cell_type": "code",
   "execution_count": 25,
   "metadata": {},
   "outputs": [],
   "source": [
    "# Define alphas\n",
    "alphas = [1, 0.5, 0.1, 0.05, 0]"
   ]
  },
  {
   "cell_type": "code",
   "execution_count": 26,
   "metadata": {},
   "outputs": [],
   "source": [
    "# Train models and record R2 values and the number of parameters\n",
    "test_r2s = np.zeros(len(alphas))\n",
    "train_r2s = np.zeros(len(alphas))\n",
    "n_params = np.zeros(len(alphas))\n",
    "coeffs = {}\n",
    "y_pred_test = {}\n",
    "y_pred_train = {}\n",
    "\n",
    "for i in range(len(alphas)):\n",
    "    alpha = alphas[i]\n",
    "    if alpha == 0:\n",
    "        reg = linear_model.LinearRegression()\n",
    "    else:\n",
    "        reg = linear_model.Lasso(alpha=alpha)\n",
    "    reg.fit(X_train, y_train)    \n",
    "    test_r2s[i] = reg.score(X_test, y_test)\n",
    "    train_r2s[i] = reg.score(X_train, y_train)\n",
    "    y_pred_test[alpha] = reg.predict(X_test)\n",
    "    y_pred_train[alpha] = reg.predict(X_train)\n",
    "    coeffs[alpha] = reg.coef_\n",
    "    n_params[i] = len(coeffs[alpha][coeffs[alpha] != 0])"
   ]
  },
  {
   "cell_type": "code",
   "execution_count": 27,
   "metadata": {},
   "outputs": [
    {
     "data": {
      "image/png": "[encoded data removed]",
      "text/plain": [
       "<Figure size 864x432 with 2 Axes>"
      ]
     },
     "metadata": {
      "needs_background": "light"
     },
     "output_type": "display_data"
    }
   ],
   "source": [
    "# Plot the y-values verus the predicted y-values for the regular regression\n",
    "fig = plt.figure(figsize=(12,6))\n",
    "plt.subplot(1,2,2)\n",
    "plt.scatter(y_test, y_pred_test[alphas[4]], alpha=0.5)\n",
    "plt.xlabel('y')\n",
    "plt.ylabel('y pred')\n",
    "plt.title('Test Data')\n",
    "\n",
    "plt.subplot(1,2,1)\n",
    "plt.scatter(y_train, y_pred_train[alphas[4]], alpha=0.5)\n",
    "plt.xlabel('y')\n",
    "plt.ylabel('y pred')\n",
    "plt.title('Training Data')\n",
    "plt.show()\n"
   ]
  },
  {
   "cell_type": "code",
   "execution_count": 28,
   "metadata": {},
   "outputs": [
    {
     "data": {
      "image/png": "[encoded data removed]",
      "text/plain": [
       "<Figure size 864x432 with 2 Axes>"
      ]
     },
     "metadata": {
      "needs_background": "light"
     },
     "output_type": "display_data"
    }
   ],
   "source": [
    "# Plot the R2 values of the models\n",
    "fig = plt.figure(figsize=(12,6))\n",
    "plt.subplot(1,2,1)\n",
    "plt.scatter(n_params, train_r2s)\n",
    "for i in range(len(n_params)):\n",
    "    plt.text(n_params[i], train_r2s[i], s=alphas[i])\n",
    "plt.xlabel('Number of parameters')\n",
    "plt.ylabel('$R^2$')\n",
    "plt.title('Training Data')\n",
    "\n",
    "plt.subplot(1,2,2)\n",
    "plt.scatter(n_params, test_r2s)\n",
    "for i in range(len(n_params)):\n",
    "    plt.text(n_params[i], test_r2s[i], s=alphas[i])\n",
    "plt.xlabel('Number of parameters')\n",
    "plt.ylabel('$R^2$')\n",
    "plt.title('Test Data')\n",
    "plt.show()\n"
   ]
  },
  {
   "cell_type": "code",
   "execution_count": 29,
   "metadata": {},
   "outputs": [
    {
     "data": {
      "text/plain": [
       "array([0.        , 0.14086563, 0.35257602, 0.38582191, 0.42161139])"
      ]
     },
     "execution_count": 29,
     "metadata": {},
     "output_type": "execute_result"
    }
   ],
   "source": [
    "train_r2s"
   ]
  },
  {
   "cell_type": "code",
   "execution_count": 30,
   "metadata": {},
   "outputs": [],
   "source": [
    "# Create summary dataframes\n",
    "summary = {}\n",
    "for alpha in alphas:\n",
    "    summary[alpha] = pd.DataFrame(columns=['feature', 'coeff'], data=np.array([X.columns[coeffs[alpha] > 0], coeffs[alpha][coeffs[alpha] > 0]]).T)\n",
    "    summary[alpha] = summary[alpha].join(metadata, on='feature')\n",
    "    summary[alpha].sort_values(by='coeff', inplace=True, ascending=False)"
   ]
  },
  {
   "cell_type": "code",
   "execution_count": 31,
   "metadata": {},
   "outputs": [
    {
     "data": {
      "text/html": [
       "<div>\n",
       "<style scoped>\n",
       "    .dataframe tbody tr th:only-of-type {\n",
       "        vertical-align: middle;\n",
       "    }\n",
       "\n",
       "    .dataframe tbody tr th {\n",
       "        vertical-align: top;\n",
       "    }\n",
       "\n",
       "    .dataframe thead th {\n",
       "        text-align: right;\n",
       "    }\n",
       "</style>\n",
       "<table border=\"1\" class=\"dataframe\">\n",
       "  <thead>\n",
       "    <tr style=\"text-align: right;\">\n",
       "      <th></th>\n",
       "      <th>feature</th>\n",
       "      <th>coeff</th>\n",
       "      <th>description</th>\n",
       "    </tr>\n",
       "  </thead>\n",
       "  <tbody>\n",
       "    <tr>\n",
       "      <th>4</th>\n",
       "      <td>Population</td>\n",
       "      <td>0.673008</td>\n",
       "      <td>Populatin of country</td>\n",
       "    </tr>\n",
       "    <tr>\n",
       "      <th>16</th>\n",
       "      <td>CO2_total_per_GWH</td>\n",
       "      <td>0.665153</td>\n",
       "      <td>NaN</td>\n",
       "    </tr>\n",
       "    <tr>\n",
       "      <th>2</th>\n",
       "      <td>DIS_AVG_LS</td>\n",
       "      <td>0.372373</td>\n",
       "      <td>Long-term average discharge, in liters per second</td>\n",
       "    </tr>\n",
       "    <tr>\n",
       "      <th>15</th>\n",
       "      <td>RES_LSS_TN</td>\n",
       "      <td>0.313278</td>\n",
       "      <td>Fish catch from the pre-dam riverine area in t...</td>\n",
       "    </tr>\n",
       "    <tr>\n",
       "      <th>0</th>\n",
       "      <td>DAM_HGT_M</td>\n",
       "      <td>0.305545</td>\n",
       "      <td>Height of dam structure, in meters</td>\n",
       "    </tr>\n",
       "    <tr>\n",
       "      <th>12</th>\n",
       "      <td>ppd_pk_uav</td>\n",
       "      <td>0.256974</td>\n",
       "      <td>Population density, people per km2</td>\n",
       "    </tr>\n",
       "    <tr>\n",
       "      <th>11</th>\n",
       "      <td>pop_ct_usu</td>\n",
       "      <td>0.222526</td>\n",
       "      <td>Population count, thousands of people</td>\n",
       "    </tr>\n",
       "    <tr>\n",
       "      <th>6</th>\n",
       "      <td>sgr_dk_sav</td>\n",
       "      <td>0.185229</td>\n",
       "      <td>Stream gradient, in decimeters per km, along t...</td>\n",
       "    </tr>\n",
       "    <tr>\n",
       "      <th>1</th>\n",
       "      <td>AREA_SKM</td>\n",
       "      <td>0.18151</td>\n",
       "      <td>Surface area of reservoir</td>\n",
       "    </tr>\n",
       "    <tr>\n",
       "      <th>7</th>\n",
       "      <td>ari_ix_sav</td>\n",
       "      <td>0.144433</td>\n",
       "      <td>Global aridity index, in the reach catchment</td>\n",
       "    </tr>\n",
       "    <tr>\n",
       "      <th>13</th>\n",
       "      <td>hft_ix_u09</td>\n",
       "      <td>0.143428</td>\n",
       "      <td>Average human footprint as of 2009, in percent...</td>\n",
       "    </tr>\n",
       "    <tr>\n",
       "      <th>3</th>\n",
       "      <td>DOR_PC</td>\n",
       "      <td>0.0948275</td>\n",
       "      <td>Degree of regulation in percent; equivalent to...</td>\n",
       "    </tr>\n",
       "    <tr>\n",
       "      <th>10</th>\n",
       "      <td>soc_th_uav</td>\n",
       "      <td>0.0940274</td>\n",
       "      <td>Organic carbon content in soil, in tonnes per ...</td>\n",
       "    </tr>\n",
       "    <tr>\n",
       "      <th>9</th>\n",
       "      <td>crp_pc_use</td>\n",
       "      <td>0.0876562</td>\n",
       "      <td>Cropland extent, in percent, in total watershe...</td>\n",
       "    </tr>\n",
       "    <tr>\n",
       "      <th>8</th>\n",
       "      <td>ari_ix_uav</td>\n",
       "      <td>0.0705613</td>\n",
       "      <td>Global aridity index, in total watershed upstr...</td>\n",
       "    </tr>\n",
       "    <tr>\n",
       "      <th>14</th>\n",
       "      <td>CAP_MCM</td>\n",
       "      <td>0.06292</td>\n",
       "      <td>Maximum storage capacity of the reservoir, in ...</td>\n",
       "    </tr>\n",
       "    <tr>\n",
       "      <th>5</th>\n",
       "      <td>inu_pc_umn</td>\n",
       "      <td>0.0471725</td>\n",
       "      <td>Annual minimum inundation extent in total wate...</td>\n",
       "    </tr>\n",
       "  </tbody>\n",
       "</table>\n",
       "</div>"
      ],
      "text/plain": [
       "              feature      coeff  \\\n",
       "4          Population   0.673008   \n",
       "16  CO2_total_per_GWH   0.665153   \n",
       "2          DIS_AVG_LS   0.372373   \n",
       "15         RES_LSS_TN   0.313278   \n",
       "0           DAM_HGT_M   0.305545   \n",
       "12         ppd_pk_uav   0.256974   \n",
       "11         pop_ct_usu   0.222526   \n",
       "6          sgr_dk_sav   0.185229   \n",
       "1            AREA_SKM    0.18151   \n",
       "7          ari_ix_sav   0.144433   \n",
       "13         hft_ix_u09   0.143428   \n",
       "3              DOR_PC  0.0948275   \n",
       "10         soc_th_uav  0.0940274   \n",
       "9          crp_pc_use  0.0876562   \n",
       "8          ari_ix_uav  0.0705613   \n",
       "14            CAP_MCM    0.06292   \n",
       "5          inu_pc_umn  0.0471725   \n",
       "\n",
       "                                          description  \n",
       "4                                Populatin of country  \n",
       "16                                                NaN  \n",
       "2   Long-term average discharge, in liters per second  \n",
       "15  Fish catch from the pre-dam riverine area in t...  \n",
       "0                  Height of dam structure, in meters  \n",
       "12                 Population density, people per km2  \n",
       "11              Population count, thousands of people  \n",
       "6   Stream gradient, in decimeters per km, along t...  \n",
       "1                           Surface area of reservoir  \n",
       "7        Global aridity index, in the reach catchment  \n",
       "13  Average human footprint as of 2009, in percent...  \n",
       "3   Degree of regulation in percent; equivalent to...  \n",
       "10  Organic carbon content in soil, in tonnes per ...  \n",
       "9   Cropland extent, in percent, in total watershe...  \n",
       "8   Global aridity index, in total watershed upstr...  \n",
       "14  Maximum storage capacity of the reservoir, in ...  \n",
       "5   Annual minimum inundation extent in total wate...  "
      ]
     },
     "execution_count": 31,
     "metadata": {},
     "output_type": "execute_result"
    }
   ],
   "source": [
    "summary[0]"
   ]
  }
 ],
 "metadata": {
  "kernelspec": {
   "display_name": "Python 3",
   "language": "python",
   "name": "python3"
  },
  "language_info": {
   "codemirror_mode": {
    "name": "ipython",
    "version": 3
   },
   "file_extension": ".py",
   "mimetype": "text/x-python",
   "name": "python",
   "nbconvert_exporter": "python",
   "pygments_lexer": "ipython3",
   "version": "3.8.5"
  }
 },
 "nbformat": 4,
 "nbformat_minor": 4
}
