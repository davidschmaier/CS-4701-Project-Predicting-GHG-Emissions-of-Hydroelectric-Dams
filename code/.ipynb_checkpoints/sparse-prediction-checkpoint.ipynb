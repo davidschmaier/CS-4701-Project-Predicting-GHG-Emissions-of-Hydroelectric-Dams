{
 "cells": [
  {
   "cell_type": "markdown",
   "metadata": {},
   "source": [
    "## Test the Performance of Sparse Linear Regression\n",
    "\n",
    "Test the performance of regular/L1 regularized linear regression."
   ]
  },
  {
   "cell_type": "code",
   "execution_count": 1,
   "metadata": {},
   "outputs": [],
   "source": [
    "import numpy as np\n",
    "import os, sys, copy\n",
    "import pandas as pd\n",
    "from matplotlib import pyplot as plt\n",
    "import seaborn as sns\n",
    "from sklearn import linear_model\n",
    "from scipy.stats import pearsonr\n",
    "from sklearn.utils.multiclass import type_of_target\n",
    "from sklearn.model_selection import train_test_split\n",
    "from sklearn.preprocessing import StandardScaler"
   ]
  },
  {
   "cell_type": "code",
   "execution_count": 2,
   "metadata": {},
   "outputs": [],
   "source": [
    "# Load the data\n",
    "metadata = pd.read_csv('../data/metafile_1026.csv', index_col=0, header=None, names=['feature', 'description'])\n",
    "data = pd.read_csv('../data/global_dams_db_1026.csv')"
   ]
  },
  {
   "cell_type": "code",
   "execution_count": 3,
   "metadata": {},
   "outputs": [],
   "source": [
    "# Delare a vector of numerical features to use\n",
    "features = ['DAM_HGT_M', 'DAM_LEN_M', 'AREA_SKM', 'DEPTH_M', 'DIS_AVG_LS', 'DOR_PC', 'ELEV_MASL', 'CATCH_SKM', \n",
    "            'GDP_capita', 'Population', 'run_mm_syr', 'inu_pc_umn', 'sgr_dk_sav', 'ari_ix_sav', 'ari_ix_uav', \n",
    "            'for_pc_use', 'crp_pc_use', 'pst_pc_use', 'ire_pc_use', 'gla_pc_use', 'prm_pc_use', 'pac_pc_use', \n",
    "            'soc_th_uav', 'swc_pc_uyr', 'ero_kh_uav', 'pop_ct_usu', 'ppd_pk_uav', 'urb_pc_use', 'hft_ix_u09', \n",
    "            'hdi_ix_sav', 'YEAR', 'CAP_MCM', 'RES_YLD_TN', 'RES_LSS_TN', 'CO2_total_per_GWH', 'fish_per_GWH', \n",
    "            'capacity_factor']"
   ]
  },
  {
   "cell_type": "code",
   "execution_count": 4,
   "metadata": {},
   "outputs": [
    {
     "name": "stderr",
     "output_type": "stream",
     "text": [
      "/var/folders/j2/hzydqpsj70x2_l0y6kvd0v8w0000gn/T/ipykernel_66413/71607837.py:9: PerformanceWarning: DataFrame is highly fragmented.  This is usually the result of calling `frame.insert` many times, which has poor performance.  Consider joining all columns at once using pd.concat(axis=1) instead.  To get a de-fragmented frame, use `newframe = frame.copy()`\n",
      "  data[key] = data[feature].apply(lambda x: 1 if x == category else 0)\n"
     ]
    }
   ],
   "source": [
    "# # Change categorial features to one-hot encoding\n",
    "# categorial_features = ['clz_cl_smj', 'glc_cl_smj', 'pnv_cl_smj', 'wet_cl_smj', \n",
    "#                        'fmh_cl_smj', 'lit_cl_smj', 'MAIN_USE', 'LAKE_CTRL']\n",
    "\n",
    "# for feature in categorial_features:\n",
    "#     categories = pd.unique(data[feature])\n",
    "#     for category in categories:\n",
    "#         key = '{}-{}'.format(feature, category)\n",
    "#         data[key] = data[feature].apply(lambda x: 1 if x == category else 0)\n",
    "#         features.append(key)"
   ]
  },
  {
   "cell_type": "code",
   "execution_count": 5,
   "metadata": {},
   "outputs": [],
   "source": [
    "# # Add columns for CO2 per GWH and fish per GWH\n",
    "data['CO2_areal_per_GWH'] = data.apply(lambda x: x['CO2EQ_areal']/x['GEN_GWH_YR'], axis=1)\n",
    "data['CO2_total_per_GWH'] = data.apply(lambda x: x['CO2EQ_total']/x['GEN_GWH_YR'], axis=1)\n",
    "data['fish_per_GWH'] = data.apply(lambda x: (x['RES_BAL']/x['GEN_GWH_YR']), axis=1)"
   ]
  },
  {
   "cell_type": "code",
   "execution_count": 6,
   "metadata": {},
   "outputs": [],
   "source": [
    "# Save the data with the new features\n",
    "# data.to_csv('../data/global_dams_db__with_objs_0922.csv')"
   ]
  },
  {
   "cell_type": "markdown",
   "metadata": {},
   "source": [
    "### CO2 per GWH"
   ]
  },
  {
   "cell_type": "code",
   "execution_count": 7,
   "metadata": {},
   "outputs": [
    {
     "data": {
      "text/plain": [
       "(477, 141)"
      ]
     },
     "execution_count": 7,
     "metadata": {},
     "output_type": "execute_result"
    }
   ],
   "source": [
    "# Filter for dams with CO2 and power information\n",
    "CO2_data = data[data['CO2_total_per_GWH'].apply(lambda x: not pd.isna(x))]\n",
    "CO2_data = CO2_data[features]\n",
    "CO2_data.shape"
   ]
  },
  {
   "cell_type": "code",
   "execution_count": 8,
   "metadata": {},
   "outputs": [],
   "source": [
    "# Generate the test and training data \n",
    "X = CO2_data.drop(columns=['CO2_total_per_GWH'], inplace=False)\n",
    "y = CO2_data['CO2_total_per_GWH'] # np.log(CO2_data['CO2_total_per_GWH'])\n",
    "X_train, X_test, y_train, y_test = train_test_split(X, y, test_size=0.8, random_state=42)"
   ]
  },
  {
   "cell_type": "code",
   "execution_count": 9,
   "metadata": {},
   "outputs": [],
   "source": [
    "# Standardize the data (i.e. set mean to 0 and std to 1)\n",
    "sc = StandardScaler()\n",
    "X_train = sc.fit_transform(X_train)\n",
    "X_test = sc.transform (X_test)"
   ]
  },
  {
   "cell_type": "code",
   "execution_count": 10,
   "metadata": {},
   "outputs": [
    {
     "data": {
      "text/plain": [
       "DAM_LEN_M       36\n",
       "YEAR             1\n",
       "RES_YLD_TN      24\n",
       "RES_LSS_TN      24\n",
       "fish_per_GWH    24\n",
       "dtype: int64"
      ]
     },
     "execution_count": 10,
     "metadata": {},
     "output_type": "execute_result"
    }
   ],
   "source": [
    "# Check for features containing NAs\n",
    "nas = X.isnull().sum()\n",
    "nas = nas[nas != 0]\n",
    "nas"
   ]
  },
  {
   "cell_type": "code",
   "execution_count": 11,
   "metadata": {},
   "outputs": [],
   "source": [
    "# For now, drop columns with NAs. Could potentially use imputation\n",
    "X.drop(columns=list(nas.index), inplace=True)\n",
    "X_train, X_test, y_train, y_test = train_test_split(X, y, test_size=0.3, random_state=0)"
   ]
  },
  {
   "cell_type": "code",
   "execution_count": 12,
   "metadata": {},
   "outputs": [],
   "source": [
    "# Define alphas\n",
    "alphas = [5, 2, 1, 0.5, 0]"
   ]
  },
  {
   "cell_type": "code",
   "execution_count": 13,
   "metadata": {},
   "outputs": [
    {
     "name": "stderr",
     "output_type": "stream",
     "text": [
      "/var/folders/j2/hzydqpsj70x2_l0y6kvd0v8w0000gn/T/ipykernel_66413/917595828.py:12: UserWarning: With alpha=0, this algorithm does not converge well. You are advised to use the LinearRegression estimator\n",
      "  reg.fit(X_train, y_train)\n",
      "/Users/green/opt/anaconda3/lib/python3.8/site-packages/sklearn/linear_model/_coordinate_descent.py:647: UserWarning: Coordinate descent with no regularization may lead to unexpected results and is discouraged.\n",
      "  model = cd_fast.enet_coordinate_descent(\n",
      "/Users/green/opt/anaconda3/lib/python3.8/site-packages/sklearn/linear_model/_coordinate_descent.py:647: ConvergenceWarning: Objective did not converge. You might want to increase the number of iterations, check the scale of the features or consider increasing regularisation. Duality gap: 3.767e+07, tolerance: 1.970e+04 Linear regression models with null weight for the l1 regularization term are more efficiently fitted using one of the solvers implemented in sklearn.linear_model.Ridge/RidgeCV instead.\n",
      "  model = cd_fast.enet_coordinate_descent(\n"
     ]
    }
   ],
   "source": [
    "# Train models and record R2 values and the number of parameters\n",
    "CO2_test_r2s = np.zeros(len(alphas))\n",
    "CO2_train_r2s = np.zeros(len(alphas))\n",
    "CO2_n_params = np.zeros(len(alphas))\n",
    "CO2_coeffs = {}\n",
    "CO2_y_pred_test = {}\n",
    "CO2_y_pred_train = {}\n",
    "\n",
    "for i in range(len(alphas)):\n",
    "    alpha = alphas[i]\n",
    "    reg = linear_model.Lasso(alpha=alpha, fit_intercept=True, positive=False)\n",
    "    reg.fit(X_train, y_train)    \n",
    "    CO2_test_r2s[i] = reg.score(X_test, y_test)\n",
    "    CO2_train_r2s[i] = reg.score(X_train, y_train)\n",
    "    CO2_y_pred_test[alpha] = reg.predict(X_test)\n",
    "    CO2_y_pred_train[alpha] = reg.predict(X_train)\n",
    "    CO2_coeffs[alpha] = reg.coef_\n",
    "    CO2_n_params[i] = len(CO2_coeffs[alpha][CO2_coeffs[alpha] != 0])"
   ]
  },
  {
   "cell_type": "code",
   "execution_count": 14,
   "metadata": {},
   "outputs": [
    {
     "data": {
      "image/png": "[encoded data removed]",
      "text/plain": [
       "<Figure size 864x432 with 2 Axes>"
      ]
     },
     "metadata": {
      "needs_background": "light"
     },
     "output_type": "display_data"
    }
   ],
   "source": [
    "# Plot the y-values verus the predicted y-values for the regular regression for one model\n",
    "model_alpha = 0\n",
    "\n",
    "fig = plt.figure(figsize=(12,6))\n",
    "plt.subplot(1,2,2)\n",
    "plt.scatter(y_train, CO2_y_pred_train[model_alpha], alpha=0.5, c='lightgrey')\n",
    "plt.scatter(y_test, CO2_y_pred_test[model_alpha], alpha=0.5)\n",
    "plt.xlabel('y')\n",
    "plt.ylabel('y pred')\n",
    "plt.title('Test Data')\n",
    "\n",
    "plt.subplot(1,2,1)\n",
    "plt.scatter(y_train, CO2_y_pred_train[model_alpha], alpha=0.5,)\n",
    "plt.xlabel('y')\n",
    "plt.ylabel('y pred')\n",
    "plt.title('Training Data')\n",
    "plt.show()\n"
   ]
  },
  {
   "cell_type": "code",
   "execution_count": 15,
   "metadata": {
    "scrolled": true
   },
   "outputs": [
    {
     "data": {
      "image/png": "[encoded data removed]",
      "text/plain": [
       "<Figure size 864x432 with 2 Axes>"
      ]
     },
     "metadata": {
      "needs_background": "light"
     },
     "output_type": "display_data"
    }
   ],
   "source": [
    "# Plot the R2 values of the models\n",
    "fig = plt.figure(figsize=(12,6))\n",
    "plt.subplot(1,2,1)\n",
    "plt.scatter(CO2_n_params, CO2_train_r2s)\n",
    "for i in range(len(CO2_n_params)):\n",
    "    plt.text(CO2_n_params[i], CO2_train_r2s[i], s=alphas[i])\n",
    "plt.xlabel('Number of parameters')\n",
    "plt.ylabel('$R^2$')\n",
    "plt.title('Training Data')\n",
    "plt.ylim([0,1])\n",
    "\n",
    "plt.subplot(1,2,2)\n",
    "plt.scatter(CO2_n_params, CO2_test_r2s)\n",
    "for i in range(len(CO2_n_params)):\n",
    "    plt.text(CO2_n_params[i], CO2_test_r2s[i], s=alphas[i])\n",
    "plt.xlabel('Number of parameters')\n",
    "plt.ylabel('$R^2$')\n",
    "plt.title('Test Data')\n",
    "plt.ylim([0,1])\n",
    "plt.show()"
   ]
  },
  {
   "cell_type": "code",
   "execution_count": 16,
   "metadata": {},
   "outputs": [
    {
     "data": {
      "text/plain": [
       "0.6176754211693384"
      ]
     },
     "execution_count": 16,
     "metadata": {},
     "output_type": "execute_result"
    }
   ],
   "source": [
    "max(CO2_train_r2s)"
   ]
  },
  {
   "cell_type": "code",
   "execution_count": 17,
   "metadata": {},
   "outputs": [
    {
     "data": {
      "text/plain": [
       "-0.12804268003070085"
      ]
     },
     "execution_count": 17,
     "metadata": {},
     "output_type": "execute_result"
    }
   ],
   "source": [
    "max(CO2_test_r2s)"
   ]
  },
  {
   "cell_type": "code",
   "execution_count": 18,
   "metadata": {},
   "outputs": [],
   "source": [
    "# Create CO2_summary dataframes\n",
    "CO2_summary = {}\n",
    "for alpha in alphas:\n",
    "    CO2_summary[alpha] = pd.DataFrame(columns=['feature', 'coeff'], data=np.array([X.columns[CO2_coeffs[alpha] != 0], CO2_coeffs[alpha][CO2_coeffs[alpha] != 0]]).T)\n",
    "    CO2_summary[alpha] = CO2_summary[alpha].join(metadata, on='feature')\n",
    "    CO2_summary[alpha]['coeff_abs'] = CO2_summary[alpha]['coeff'].apply(np.abs)\n",
    "    CO2_summary[alpha].sort_values(by='coeff_abs', inplace=True, ascending=False)"
   ]
  },
  {
   "cell_type": "code",
   "execution_count": 19,
   "metadata": {
    "scrolled": true
   },
   "outputs": [
    {
     "data": {
      "text/html": [
       "<div>\n",
       "<style scoped>\n",
       "    .dataframe tbody tr th:only-of-type {\n",
       "        vertical-align: middle;\n",
       "    }\n",
       "\n",
       "    .dataframe tbody tr th {\n",
       "        vertical-align: top;\n",
       "    }\n",
       "\n",
       "    .dataframe thead th {\n",
       "        text-align: right;\n",
       "    }\n",
       "</style>\n",
       "<table border=\"1\" class=\"dataframe\">\n",
       "  <thead>\n",
       "    <tr style=\"text-align: right;\">\n",
       "      <th></th>\n",
       "      <th>feature</th>\n",
       "      <th>coeff</th>\n",
       "      <th>description</th>\n",
       "      <th>coeff_abs</th>\n",
       "    </tr>\n",
       "  </thead>\n",
       "  <tbody>\n",
       "    <tr>\n",
       "      <th>79</th>\n",
       "      <td>wet_cl_smj-5.0</td>\n",
       "      <td>3431.390454</td>\n",
       "      <td>NaN</td>\n",
       "      <td>3431.390454</td>\n",
       "    </tr>\n",
       "    <tr>\n",
       "      <th>107</th>\n",
       "      <td>MAIN_USE-Flood control</td>\n",
       "      <td>1917.387816</td>\n",
       "      <td>NaN</td>\n",
       "      <td>1917.387816</td>\n",
       "    </tr>\n",
       "    <tr>\n",
       "      <th>39</th>\n",
       "      <td>clz_cl_smj-15</td>\n",
       "      <td>1153.944348</td>\n",
       "      <td>NaN</td>\n",
       "      <td>1153.944348</td>\n",
       "    </tr>\n",
       "    <tr>\n",
       "      <th>110</th>\n",
       "      <td>MAIN_USE-Navigation</td>\n",
       "      <td>834.725988</td>\n",
       "      <td>NaN</td>\n",
       "      <td>834.725988</td>\n",
       "    </tr>\n",
       "    <tr>\n",
       "      <th>72</th>\n",
       "      <td>pnv_cl_smj-7.0</td>\n",
       "      <td>-772.158551</td>\n",
       "      <td>NaN</td>\n",
       "      <td>772.158551</td>\n",
       "    </tr>\n",
       "    <tr>\n",
       "      <th>...</th>\n",
       "      <td>...</td>\n",
       "      <td>...</td>\n",
       "      <td>...</td>\n",
       "      <td>...</td>\n",
       "    </tr>\n",
       "    <tr>\n",
       "      <th>24</th>\n",
       "      <td>pop_ct_usu</td>\n",
       "      <td>0.001493</td>\n",
       "      <td>Population count, thousands of people</td>\n",
       "      <td>0.001493</td>\n",
       "    </tr>\n",
       "    <tr>\n",
       "      <th>29</th>\n",
       "      <td>CAP_MCM</td>\n",
       "      <td>-0.000564</td>\n",
       "      <td>Maximum storage capacity of the reservoir, in ...</td>\n",
       "      <td>0.000564</td>\n",
       "    </tr>\n",
       "    <tr>\n",
       "      <th>6</th>\n",
       "      <td>CATCH_SKM</td>\n",
       "      <td>-0.000322</td>\n",
       "      <td>Area of upstream catchment draining into the r...</td>\n",
       "      <td>0.000322</td>\n",
       "    </tr>\n",
       "    <tr>\n",
       "      <th>3</th>\n",
       "      <td>DIS_AVG_LS</td>\n",
       "      <td>0.000027</td>\n",
       "      <td>Long-term average discharge, in liters per second</td>\n",
       "      <td>0.000027</td>\n",
       "    </tr>\n",
       "    <tr>\n",
       "      <th>8</th>\n",
       "      <td>Population</td>\n",
       "      <td>0.0</td>\n",
       "      <td>Populatin of country</td>\n",
       "      <td>0.0</td>\n",
       "    </tr>\n",
       "  </tbody>\n",
       "</table>\n",
       "<p>112 rows × 4 columns</p>\n",
       "</div>"
      ],
      "text/plain": [
       "                    feature        coeff  \\\n",
       "79           wet_cl_smj-5.0  3431.390454   \n",
       "107  MAIN_USE-Flood control  1917.387816   \n",
       "39            clz_cl_smj-15  1153.944348   \n",
       "110     MAIN_USE-Navigation   834.725988   \n",
       "72           pnv_cl_smj-7.0  -772.158551   \n",
       "..                      ...          ...   \n",
       "24               pop_ct_usu     0.001493   \n",
       "29                  CAP_MCM    -0.000564   \n",
       "6                 CATCH_SKM    -0.000322   \n",
       "3                DIS_AVG_LS     0.000027   \n",
       "8                Population          0.0   \n",
       "\n",
       "                                           description    coeff_abs  \n",
       "79                                                 NaN  3431.390454  \n",
       "107                                                NaN  1917.387816  \n",
       "39                                                 NaN  1153.944348  \n",
       "110                                                NaN   834.725988  \n",
       "72                                                 NaN   772.158551  \n",
       "..                                                 ...          ...  \n",
       "24               Population count, thousands of people     0.001493  \n",
       "29   Maximum storage capacity of the reservoir, in ...     0.000564  \n",
       "6    Area of upstream catchment draining into the r...     0.000322  \n",
       "3    Long-term average discharge, in liters per second     0.000027  \n",
       "8                                 Populatin of country          0.0  \n",
       "\n",
       "[112 rows x 4 columns]"
      ]
     },
     "execution_count": 19,
     "metadata": {},
     "output_type": "execute_result"
    }
   ],
   "source": [
    "CO2_summary[0]"
   ]
  },
  {
   "cell_type": "code",
   "execution_count": 20,
   "metadata": {},
   "outputs": [
    {
     "data": {
      "text/html": [
       "<div>\n",
       "<style scoped>\n",
       "    .dataframe tbody tr th:only-of-type {\n",
       "        vertical-align: middle;\n",
       "    }\n",
       "\n",
       "    .dataframe tbody tr th {\n",
       "        vertical-align: top;\n",
       "    }\n",
       "\n",
       "    .dataframe thead th {\n",
       "        text-align: right;\n",
       "    }\n",
       "</style>\n",
       "<table border=\"1\" class=\"dataframe\">\n",
       "  <thead>\n",
       "    <tr style=\"text-align: right;\">\n",
       "      <th></th>\n",
       "      <th>feature</th>\n",
       "      <th>coeff</th>\n",
       "      <th>description</th>\n",
       "      <th>coeff_abs</th>\n",
       "    </tr>\n",
       "  </thead>\n",
       "  <tbody>\n",
       "    <tr>\n",
       "      <th>41</th>\n",
       "      <td>wet_cl_smj-5.0</td>\n",
       "      <td>1825.760518</td>\n",
       "      <td>NaN</td>\n",
       "      <td>1825.760518</td>\n",
       "    </tr>\n",
       "    <tr>\n",
       "      <th>49</th>\n",
       "      <td>MAIN_USE-Flood control</td>\n",
       "      <td>1042.796194</td>\n",
       "      <td>NaN</td>\n",
       "      <td>1042.796194</td>\n",
       "    </tr>\n",
       "    <tr>\n",
       "      <th>33</th>\n",
       "      <td>clz_cl_smj-12</td>\n",
       "      <td>-248.135476</td>\n",
       "      <td>NaN</td>\n",
       "      <td>248.135476</td>\n",
       "    </tr>\n",
       "    <tr>\n",
       "      <th>43</th>\n",
       "      <td>fmh_cl_smj-6</td>\n",
       "      <td>-231.383753</td>\n",
       "      <td>NaN</td>\n",
       "      <td>231.383753</td>\n",
       "    </tr>\n",
       "    <tr>\n",
       "      <th>44</th>\n",
       "      <td>lit_cl_smj-8</td>\n",
       "      <td>-135.429658</td>\n",
       "      <td>NaN</td>\n",
       "      <td>135.429658</td>\n",
       "    </tr>\n",
       "    <tr>\n",
       "      <th>30</th>\n",
       "      <td>capacity_factor</td>\n",
       "      <td>133.803297</td>\n",
       "      <td>NaN</td>\n",
       "      <td>133.803297</td>\n",
       "    </tr>\n",
       "    <tr>\n",
       "      <th>37</th>\n",
       "      <td>glc_cl_smj-6</td>\n",
       "      <td>125.964748</td>\n",
       "      <td>NaN</td>\n",
       "      <td>125.964748</td>\n",
       "    </tr>\n",
       "    <tr>\n",
       "      <th>32</th>\n",
       "      <td>clz_cl_smj-13</td>\n",
       "      <td>123.494537</td>\n",
       "      <td>NaN</td>\n",
       "      <td>123.494537</td>\n",
       "    </tr>\n",
       "    <tr>\n",
       "      <th>46</th>\n",
       "      <td>lit_cl_smj-1</td>\n",
       "      <td>104.699418</td>\n",
       "      <td>NaN</td>\n",
       "      <td>104.699418</td>\n",
       "    </tr>\n",
       "    <tr>\n",
       "      <th>35</th>\n",
       "      <td>clz_cl_smj-10</td>\n",
       "      <td>-96.40257</td>\n",
       "      <td>NaN</td>\n",
       "      <td>96.40257</td>\n",
       "    </tr>\n",
       "    <tr>\n",
       "      <th>31</th>\n",
       "      <td>clz_cl_smj-11</td>\n",
       "      <td>-71.492072</td>\n",
       "      <td>NaN</td>\n",
       "      <td>71.492072</td>\n",
       "    </tr>\n",
       "    <tr>\n",
       "      <th>40</th>\n",
       "      <td>wet_cl_smj-2.0</td>\n",
       "      <td>-70.468166</td>\n",
       "      <td>NaN</td>\n",
       "      <td>70.468166</td>\n",
       "    </tr>\n",
       "    <tr>\n",
       "      <th>34</th>\n",
       "      <td>clz_cl_smj-7</td>\n",
       "      <td>51.332305</td>\n",
       "      <td>NaN</td>\n",
       "      <td>51.332305</td>\n",
       "    </tr>\n",
       "    <tr>\n",
       "      <th>18</th>\n",
       "      <td>gla_pc_use</td>\n",
       "      <td>45.905274</td>\n",
       "      <td>Glacier extent, in percent, in total watershed...</td>\n",
       "      <td>45.905274</td>\n",
       "    </tr>\n",
       "    <tr>\n",
       "      <th>45</th>\n",
       "      <td>lit_cl_smj-9</td>\n",
       "      <td>33.066624</td>\n",
       "      <td>NaN</td>\n",
       "      <td>33.066624</td>\n",
       "    </tr>\n",
       "    <tr>\n",
       "      <th>48</th>\n",
       "      <td>MAIN_USE-Water supply</td>\n",
       "      <td>-26.645543</td>\n",
       "      <td>NaN</td>\n",
       "      <td>26.645543</td>\n",
       "    </tr>\n",
       "    <tr>\n",
       "      <th>17</th>\n",
       "      <td>ire_pc_use</td>\n",
       "      <td>-24.552717</td>\n",
       "      <td>Irrigated area extent, in percent, in total wa...</td>\n",
       "      <td>24.552717</td>\n",
       "    </tr>\n",
       "    <tr>\n",
       "      <th>39</th>\n",
       "      <td>wet_cl_smj-1.0</td>\n",
       "      <td>24.445598</td>\n",
       "      <td>NaN</td>\n",
       "      <td>24.445598</td>\n",
       "    </tr>\n",
       "    <tr>\n",
       "      <th>22</th>\n",
       "      <td>swc_pc_uyr</td>\n",
       "      <td>-9.934457</td>\n",
       "      <td>Annual average of soil water content, in perce...</td>\n",
       "      <td>9.934457</td>\n",
       "    </tr>\n",
       "    <tr>\n",
       "      <th>47</th>\n",
       "      <td>lit_cl_smj-5</td>\n",
       "      <td>-7.258133</td>\n",
       "      <td>NaN</td>\n",
       "      <td>7.258133</td>\n",
       "    </tr>\n",
       "    <tr>\n",
       "      <th>19</th>\n",
       "      <td>prm_pc_use</td>\n",
       "      <td>3.470019</td>\n",
       "      <td>Permafrost extent, in percent, in total waters...</td>\n",
       "      <td>3.470019</td>\n",
       "    </tr>\n",
       "    <tr>\n",
       "      <th>10</th>\n",
       "      <td>inu_pc_umn</td>\n",
       "      <td>-3.146428</td>\n",
       "      <td>Annual minimum inundation extent in total wate...</td>\n",
       "      <td>3.146428</td>\n",
       "    </tr>\n",
       "    <tr>\n",
       "      <th>20</th>\n",
       "      <td>pac_pc_use</td>\n",
       "      <td>2.907917</td>\n",
       "      <td>Protected area extent, in percent, in total wa...</td>\n",
       "      <td>2.907917</td>\n",
       "    </tr>\n",
       "    <tr>\n",
       "      <th>16</th>\n",
       "      <td>pst_pc_use</td>\n",
       "      <td>2.533944</td>\n",
       "      <td>Pasture extent, in percent, in total watershed...</td>\n",
       "      <td>2.533944</td>\n",
       "    </tr>\n",
       "    <tr>\n",
       "      <th>12</th>\n",
       "      <td>ari_ix_sav</td>\n",
       "      <td>-2.50612</td>\n",
       "      <td>Global aridity index, in the reach catchment</td>\n",
       "      <td>2.50612</td>\n",
       "    </tr>\n",
       "    <tr>\n",
       "      <th>2</th>\n",
       "      <td>DEPTH_M</td>\n",
       "      <td>-2.451712</td>\n",
       "      <td>Average depth of reservoir, in meters</td>\n",
       "      <td>2.451712</td>\n",
       "    </tr>\n",
       "    <tr>\n",
       "      <th>26</th>\n",
       "      <td>urb_pc_use</td>\n",
       "      <td>2.161891</td>\n",
       "      <td>Urban spatial extent, in percent, in total wat...</td>\n",
       "      <td>2.161891</td>\n",
       "    </tr>\n",
       "    <tr>\n",
       "      <th>14</th>\n",
       "      <td>for_pc_use</td>\n",
       "      <td>2.055443</td>\n",
       "      <td>Forest cover extent, in percent, in total wate...</td>\n",
       "      <td>2.055443</td>\n",
       "    </tr>\n",
       "    <tr>\n",
       "      <th>4</th>\n",
       "      <td>DOR_PC</td>\n",
       "      <td>1.939914</td>\n",
       "      <td>Degree of regulation in percent; equivalent to...</td>\n",
       "      <td>1.939914</td>\n",
       "    </tr>\n",
       "    <tr>\n",
       "      <th>0</th>\n",
       "      <td>DAM_HGT_M</td>\n",
       "      <td>-1.923887</td>\n",
       "      <td>Height of dam structure, in meters</td>\n",
       "      <td>1.923887</td>\n",
       "    </tr>\n",
       "    <tr>\n",
       "      <th>13</th>\n",
       "      <td>ari_ix_uav</td>\n",
       "      <td>1.623973</td>\n",
       "      <td>Global aridity index, in total watershed upstr...</td>\n",
       "      <td>1.623973</td>\n",
       "    </tr>\n",
       "    <tr>\n",
       "      <th>15</th>\n",
       "      <td>crp_pc_use</td>\n",
       "      <td>1.466054</td>\n",
       "      <td>Cropland extent, in percent, in total watershe...</td>\n",
       "      <td>1.466054</td>\n",
       "    </tr>\n",
       "    <tr>\n",
       "      <th>28</th>\n",
       "      <td>hdi_ix_sav</td>\n",
       "      <td>-0.990708</td>\n",
       "      <td>Average human development index</td>\n",
       "      <td>0.990708</td>\n",
       "    </tr>\n",
       "    <tr>\n",
       "      <th>27</th>\n",
       "      <td>hft_ix_u09</td>\n",
       "      <td>0.931098</td>\n",
       "      <td>Average human footprint as of 2009, in percent...</td>\n",
       "      <td>0.931098</td>\n",
       "    </tr>\n",
       "    <tr>\n",
       "      <th>36</th>\n",
       "      <td>glc_cl_smj-4</td>\n",
       "      <td>-0.708831</td>\n",
       "      <td>NaN</td>\n",
       "      <td>0.708831</td>\n",
       "    </tr>\n",
       "    <tr>\n",
       "      <th>38</th>\n",
       "      <td>pnv_cl_smj-6.0</td>\n",
       "      <td>-0.463329</td>\n",
       "      <td>NaN</td>\n",
       "      <td>0.463329</td>\n",
       "    </tr>\n",
       "    <tr>\n",
       "      <th>21</th>\n",
       "      <td>soc_th_uav</td>\n",
       "      <td>-0.398913</td>\n",
       "      <td>Organic carbon content in soil, in tonnes per ...</td>\n",
       "      <td>0.398913</td>\n",
       "    </tr>\n",
       "    <tr>\n",
       "      <th>5</th>\n",
       "      <td>ELEV_MASL</td>\n",
       "      <td>-0.281646</td>\n",
       "      <td>Elevation of reservoir surface in meters above...</td>\n",
       "      <td>0.281646</td>\n",
       "    </tr>\n",
       "    <tr>\n",
       "      <th>9</th>\n",
       "      <td>run_mm_syr</td>\n",
       "      <td>0.2423</td>\n",
       "      <td>Land surface runoff, in mm</td>\n",
       "      <td>0.2423</td>\n",
       "    </tr>\n",
       "    <tr>\n",
       "      <th>42</th>\n",
       "      <td>fmh_cl_smj-7</td>\n",
       "      <td>0.208095</td>\n",
       "      <td>NaN</td>\n",
       "      <td>0.208095</td>\n",
       "    </tr>\n",
       "    <tr>\n",
       "      <th>1</th>\n",
       "      <td>AREA_SKM</td>\n",
       "      <td>0.154881</td>\n",
       "      <td>Surface area of reservoir</td>\n",
       "      <td>0.154881</td>\n",
       "    </tr>\n",
       "    <tr>\n",
       "      <th>11</th>\n",
       "      <td>sgr_dk_sav</td>\n",
       "      <td>0.112906</td>\n",
       "      <td>Stream gradient, in decimeters per km, along t...</td>\n",
       "      <td>0.112906</td>\n",
       "    </tr>\n",
       "    <tr>\n",
       "      <th>23</th>\n",
       "      <td>ero_kh_uav</td>\n",
       "      <td>-0.013392</td>\n",
       "      <td>Soil erosion, in kg per hectare per year, in t...</td>\n",
       "      <td>0.013392</td>\n",
       "    </tr>\n",
       "    <tr>\n",
       "      <th>25</th>\n",
       "      <td>ppd_pk_uav</td>\n",
       "      <td>-0.007439</td>\n",
       "      <td>Population density, people per km2</td>\n",
       "      <td>0.007439</td>\n",
       "    </tr>\n",
       "    <tr>\n",
       "      <th>29</th>\n",
       "      <td>CAP_MCM</td>\n",
       "      <td>-0.004105</td>\n",
       "      <td>Maximum storage capacity of the reservoir, in ...</td>\n",
       "      <td>0.004105</td>\n",
       "    </tr>\n",
       "    <tr>\n",
       "      <th>24</th>\n",
       "      <td>pop_ct_usu</td>\n",
       "      <td>0.003872</td>\n",
       "      <td>Population count, thousands of people</td>\n",
       "      <td>0.003872</td>\n",
       "    </tr>\n",
       "    <tr>\n",
       "      <th>7</th>\n",
       "      <td>GDP_capita</td>\n",
       "      <td>0.000217</td>\n",
       "      <td>GDP per capita of country, in 2020 US $</td>\n",
       "      <td>0.000217</td>\n",
       "    </tr>\n",
       "    <tr>\n",
       "      <th>6</th>\n",
       "      <td>CATCH_SKM</td>\n",
       "      <td>-0.000152</td>\n",
       "      <td>Area of upstream catchment draining into the r...</td>\n",
       "      <td>0.000152</td>\n",
       "    </tr>\n",
       "    <tr>\n",
       "      <th>3</th>\n",
       "      <td>DIS_AVG_LS</td>\n",
       "      <td>-0.000032</td>\n",
       "      <td>Long-term average discharge, in liters per second</td>\n",
       "      <td>0.000032</td>\n",
       "    </tr>\n",
       "    <tr>\n",
       "      <th>8</th>\n",
       "      <td>Population</td>\n",
       "      <td>0.0</td>\n",
       "      <td>Populatin of country</td>\n",
       "      <td>0.0</td>\n",
       "    </tr>\n",
       "  </tbody>\n",
       "</table>\n",
       "</div>"
      ],
      "text/plain": [
       "                   feature        coeff  \\\n",
       "41          wet_cl_smj-5.0  1825.760518   \n",
       "49  MAIN_USE-Flood control  1042.796194   \n",
       "33           clz_cl_smj-12  -248.135476   \n",
       "43            fmh_cl_smj-6  -231.383753   \n",
       "44            lit_cl_smj-8  -135.429658   \n",
       "30         capacity_factor   133.803297   \n",
       "37            glc_cl_smj-6   125.964748   \n",
       "32           clz_cl_smj-13   123.494537   \n",
       "46            lit_cl_smj-1   104.699418   \n",
       "35           clz_cl_smj-10    -96.40257   \n",
       "31           clz_cl_smj-11   -71.492072   \n",
       "40          wet_cl_smj-2.0   -70.468166   \n",
       "34            clz_cl_smj-7    51.332305   \n",
       "18              gla_pc_use    45.905274   \n",
       "45            lit_cl_smj-9    33.066624   \n",
       "48   MAIN_USE-Water supply   -26.645543   \n",
       "17              ire_pc_use   -24.552717   \n",
       "39          wet_cl_smj-1.0    24.445598   \n",
       "22              swc_pc_uyr    -9.934457   \n",
       "47            lit_cl_smj-5    -7.258133   \n",
       "19              prm_pc_use     3.470019   \n",
       "10              inu_pc_umn    -3.146428   \n",
       "20              pac_pc_use     2.907917   \n",
       "16              pst_pc_use     2.533944   \n",
       "12              ari_ix_sav     -2.50612   \n",
       "2                  DEPTH_M    -2.451712   \n",
       "26              urb_pc_use     2.161891   \n",
       "14              for_pc_use     2.055443   \n",
       "4                   DOR_PC     1.939914   \n",
       "0                DAM_HGT_M    -1.923887   \n",
       "13              ari_ix_uav     1.623973   \n",
       "15              crp_pc_use     1.466054   \n",
       "28              hdi_ix_sav    -0.990708   \n",
       "27              hft_ix_u09     0.931098   \n",
       "36            glc_cl_smj-4    -0.708831   \n",
       "38          pnv_cl_smj-6.0    -0.463329   \n",
       "21              soc_th_uav    -0.398913   \n",
       "5                ELEV_MASL    -0.281646   \n",
       "9               run_mm_syr       0.2423   \n",
       "42            fmh_cl_smj-7     0.208095   \n",
       "1                 AREA_SKM     0.154881   \n",
       "11              sgr_dk_sav     0.112906   \n",
       "23              ero_kh_uav    -0.013392   \n",
       "25              ppd_pk_uav    -0.007439   \n",
       "29                 CAP_MCM    -0.004105   \n",
       "24              pop_ct_usu     0.003872   \n",
       "7               GDP_capita     0.000217   \n",
       "6                CATCH_SKM    -0.000152   \n",
       "3               DIS_AVG_LS    -0.000032   \n",
       "8               Population          0.0   \n",
       "\n",
       "                                          description    coeff_abs  \n",
       "41                                                NaN  1825.760518  \n",
       "49                                                NaN  1042.796194  \n",
       "33                                                NaN   248.135476  \n",
       "43                                                NaN   231.383753  \n",
       "44                                                NaN   135.429658  \n",
       "30                                                NaN   133.803297  \n",
       "37                                                NaN   125.964748  \n",
       "32                                                NaN   123.494537  \n",
       "46                                                NaN   104.699418  \n",
       "35                                                NaN     96.40257  \n",
       "31                                                NaN    71.492072  \n",
       "40                                                NaN    70.468166  \n",
       "34                                                NaN    51.332305  \n",
       "18  Glacier extent, in percent, in total watershed...    45.905274  \n",
       "45                                                NaN    33.066624  \n",
       "48                                                NaN    26.645543  \n",
       "17  Irrigated area extent, in percent, in total wa...    24.552717  \n",
       "39                                                NaN    24.445598  \n",
       "22  Annual average of soil water content, in perce...     9.934457  \n",
       "47                                                NaN     7.258133  \n",
       "19  Permafrost extent, in percent, in total waters...     3.470019  \n",
       "10  Annual minimum inundation extent in total wate...     3.146428  \n",
       "20  Protected area extent, in percent, in total wa...     2.907917  \n",
       "16  Pasture extent, in percent, in total watershed...     2.533944  \n",
       "12       Global aridity index, in the reach catchment      2.50612  \n",
       "2               Average depth of reservoir, in meters     2.451712  \n",
       "26  Urban spatial extent, in percent, in total wat...     2.161891  \n",
       "14  Forest cover extent, in percent, in total wate...     2.055443  \n",
       "4   Degree of regulation in percent; equivalent to...     1.939914  \n",
       "0                  Height of dam structure, in meters     1.923887  \n",
       "13  Global aridity index, in total watershed upstr...     1.623973  \n",
       "15  Cropland extent, in percent, in total watershe...     1.466054  \n",
       "28                    Average human development index     0.990708  \n",
       "27  Average human footprint as of 2009, in percent...     0.931098  \n",
       "36                                                NaN     0.708831  \n",
       "38                                                NaN     0.463329  \n",
       "21  Organic carbon content in soil, in tonnes per ...     0.398913  \n",
       "5   Elevation of reservoir surface in meters above...     0.281646  \n",
       "9                          Land surface runoff, in mm       0.2423  \n",
       "42                                                NaN     0.208095  \n",
       "1                           Surface area of reservoir     0.154881  \n",
       "11  Stream gradient, in decimeters per km, along t...     0.112906  \n",
       "23  Soil erosion, in kg per hectare per year, in t...     0.013392  \n",
       "25                 Population density, people per km2     0.007439  \n",
       "29  Maximum storage capacity of the reservoir, in ...     0.004105  \n",
       "24              Population count, thousands of people     0.003872  \n",
       "7             GDP per capita of country, in 2020 US $     0.000217  \n",
       "6   Area of upstream catchment draining into the r...     0.000152  \n",
       "3   Long-term average discharge, in liters per second     0.000032  \n",
       "8                                Populatin of country          0.0  "
      ]
     },
     "execution_count": 20,
     "metadata": {},
     "output_type": "execute_result"
    }
   ],
   "source": [
    "CO2_summary[5]"
   ]
  },
  {
   "cell_type": "markdown",
   "metadata": {},
   "source": [
    "### Change in Fish per GWH"
   ]
  },
  {
   "cell_type": "code",
   "execution_count": 21,
   "metadata": {},
   "outputs": [
    {
     "data": {
      "text/plain": [
       "(453, 141)"
      ]
     },
     "execution_count": 21,
     "metadata": {},
     "output_type": "execute_result"
    }
   ],
   "source": [
    "# Filter for dams with fish and power information\n",
    "fish_data = data[data['fish_per_GWH'].apply(lambda x: not pd.isna(x))]\n",
    "fish_data = fish_data[features]\n",
    "fish_data.shape"
   ]
  },
  {
   "cell_type": "code",
   "execution_count": 22,
   "metadata": {},
   "outputs": [],
   "source": [
    "# Generate the test and training data \n",
    "X = fish_data.drop(columns=['fish_per_GWH'], inplace=False)\n",
    "y = fish_data['fish_per_GWH'] # np.log(np.ceil(np.abs(fish_data['fish_per_GWH']))) * np.sign(fish_data['fish_per_GWH'])\n",
    "X_train, X_test, y_train, y_test = train_test_split(X, y, test_size=0.3, random_state=0)"
   ]
  },
  {
   "cell_type": "code",
   "execution_count": 23,
   "metadata": {},
   "outputs": [],
   "source": [
    "# Check for features containing NAs\n",
    "nas = X.isnull().sum()\n",
    "nas = nas[nas != 0]"
   ]
  },
  {
   "cell_type": "code",
   "execution_count": 24,
   "metadata": {},
   "outputs": [],
   "source": [
    "# For now, drop columns with NAs. Could potentially use imputation\n",
    "X.drop(columns=list(nas.index), inplace=True)\n",
    "X_train, X_test, y_train, y_test = train_test_split(X, y, test_size=0.3, random_state=42)"
   ]
  },
  {
   "cell_type": "code",
   "execution_count": 25,
   "metadata": {},
   "outputs": [],
   "source": [
    "# Standardize the data (i.e. set mean to 0 and std to 1)\n",
    "sc = StandardScaler()\n",
    "X_train = sc.fit_transform(X_train)\n",
    "X_test = sc.transform (X_test)"
   ]
  },
  {
   "cell_type": "code",
   "execution_count": 26,
   "metadata": {},
   "outputs": [],
   "source": [
    "# Define alphas\n",
    "alphas = [1, 0.5, 0.1, 0.05, 0]"
   ]
  },
  {
   "cell_type": "code",
   "execution_count": 27,
   "metadata": {},
   "outputs": [
    {
     "name": "stderr",
     "output_type": "stream",
     "text": [
      "/var/folders/j2/hzydqpsj70x2_l0y6kvd0v8w0000gn/T/ipykernel_66413/3246559428.py:12: UserWarning: With alpha=0, this algorithm does not converge well. You are advised to use the LinearRegression estimator\n",
      "  reg.fit(X_train, y_train)\n",
      "/Users/green/opt/anaconda3/lib/python3.8/site-packages/sklearn/linear_model/_coordinate_descent.py:647: UserWarning: Coordinate descent with no regularization may lead to unexpected results and is discouraged.\n",
      "  model = cd_fast.enet_coordinate_descent(\n",
      "/Users/green/opt/anaconda3/lib/python3.8/site-packages/sklearn/linear_model/_coordinate_descent.py:647: ConvergenceWarning: Objective did not converge. You might want to increase the number of iterations, check the scale of the features or consider increasing regularisation. Duality gap: 6.451e+01, tolerance: 1.359e-01 Linear regression models with null weight for the l1 regularization term are more efficiently fitted using one of the solvers implemented in sklearn.linear_model.Ridge/RidgeCV instead.\n",
      "  model = cd_fast.enet_coordinate_descent(\n"
     ]
    }
   ],
   "source": [
    "# Train models and record R2 values and the number of parameters\n",
    "fish_test_r2s = np.zeros(len(alphas))\n",
    "fish_train_r2s = np.zeros(len(alphas))\n",
    "fish_n_params = np.zeros(len(alphas))\n",
    "fish_coeffs = {}\n",
    "fish_y_pred_test = {}\n",
    "fish_y_pred_train = {}\n",
    "\n",
    "for i in range(len(alphas)):\n",
    "    alpha = alphas[i]\n",
    "    reg = linear_model.Lasso(alpha=alpha)\n",
    "    reg.fit(X_train, y_train)    \n",
    "    fish_test_r2s[i] = reg.score(X_test, y_test)\n",
    "    fish_train_r2s[i] = reg.score(X_train, y_train)\n",
    "    fish_y_pred_test[alpha] = reg.predict(X_test)\n",
    "    fish_y_pred_train[alpha] = reg.predict(X_train)\n",
    "    fish_coeffs[alpha] = reg.coef_\n",
    "    fish_n_params[i] = len(fish_coeffs[alpha][fish_coeffs[alpha] != 0])"
   ]
  },
  {
   "cell_type": "code",
   "execution_count": 28,
   "metadata": {},
   "outputs": [
    {
     "data": {
      "image/png": "[encoded data removed]",
      "text/plain": [
       "<Figure size 864x432 with 2 Axes>"
      ]
     },
     "metadata": {
      "needs_background": "light"
     },
     "output_type": "display_data"
    }
   ],
   "source": [
    "# Plot the y-values verus the predicted y-values for the regular regression\n",
    "fig = plt.figure(figsize=(12,6))\n",
    "plt.subplot(1,2,2)\n",
    "plt.scatter(y_train, fish_y_pred_train[alphas[4]], alpha=0.5, c='lightgrey')\n",
    "plt.scatter(y_test, fish_y_pred_test[alphas[4]], alpha=0.5)\n",
    "plt.xlabel('y')\n",
    "plt.ylabel('y pred')\n",
    "plt.title('Test Data')\n",
    "\n",
    "plt.subplot(1,2,1)\n",
    "plt.scatter(y_train, fish_y_pred_train[alphas[4]], alpha=0.5)\n",
    "plt.xlabel('y')\n",
    "plt.ylabel('y pred')\n",
    "plt.title('Training Data')\n",
    "plt.show()\n"
   ]
  },
  {
   "cell_type": "code",
   "execution_count": 29,
   "metadata": {},
   "outputs": [
    {
     "data": {
      "image/png": "[encoded data removed]",
      "text/plain": [
       "<Figure size 864x432 with 2 Axes>"
      ]
     },
     "metadata": {
      "needs_background": "light"
     },
     "output_type": "display_data"
    }
   ],
   "source": [
    "# Plot the R2 values of the models\n",
    "fig = plt.figure(figsize=(12,6))\n",
    "plt.subplot(1,2,1)\n",
    "plt.scatter(fish_n_params, fish_train_r2s)\n",
    "for i in range(len(fish_n_params)):\n",
    "    plt.text(fish_n_params[i], fish_train_r2s[i], s=alphas[i])\n",
    "plt.xlabel('Number of parameters')\n",
    "plt.ylabel('$R^2$')\n",
    "plt.title('Training Data')\n",
    "plt.axhline(0, c='k')\n",
    "plt.ylim([-0.1,1])\n",
    "\n",
    "plt.subplot(1,2,2)\n",
    "plt.scatter(fish_n_params, fish_test_r2s)\n",
    "for i in range(len(fish_n_params)):\n",
    "    plt.text(fish_n_params[i], fish_test_r2s[i], s=alphas[i])\n",
    "plt.xlabel('Number of parameters')\n",
    "plt.ylabel('$R^2$')\n",
    "plt.title('Test Data')\n",
    "plt.axhline(0, c='k')\n",
    "plt.ylim([-0.1,1])\n",
    "plt.show()\n"
   ]
  },
  {
   "cell_type": "code",
   "execution_count": 30,
   "metadata": {},
   "outputs": [
    {
     "data": {
      "text/plain": [
       "0.9050662338415951"
      ]
     },
     "execution_count": 30,
     "metadata": {},
     "output_type": "execute_result"
    }
   ],
   "source": [
    "max(fish_train_r2s)"
   ]
  },
  {
   "cell_type": "code",
   "execution_count": 31,
   "metadata": {},
   "outputs": [
    {
     "data": {
      "text/plain": [
       "0.515082388092921"
      ]
     },
     "execution_count": 31,
     "metadata": {},
     "output_type": "execute_result"
    }
   ],
   "source": [
    "max(fish_test_r2s)"
   ]
  },
  {
   "cell_type": "code",
   "execution_count": 32,
   "metadata": {},
   "outputs": [],
   "source": [
    "# Create fish_summary dataframes\n",
    "fish_summary = {}\n",
    "for alpha in alphas:\n",
    "    fish_summary[alpha] = pd.DataFrame(columns=['feature', 'coeff'], data=np.array([X.columns[fish_coeffs[alpha] > 0], fish_coeffs[alpha][fish_coeffs[alpha] > 0]]).T)\n",
    "    fish_summary[alpha] = fish_summary[alpha].join(metadata, on='feature')\n",
    "    fish_summary[alpha]['coeff_abs'] = fish_summary[alpha]['coeff'].apply(np.abs)\n",
    "    fish_summary[alpha].sort_values(by='coeff_abs', inplace=True, ascending=False)"
   ]
  },
  {
   "cell_type": "code",
   "execution_count": 33,
   "metadata": {},
   "outputs": [
    {
     "data": {
      "text/html": [
       "<div>\n",
       "<style scoped>\n",
       "    .dataframe tbody tr th:only-of-type {\n",
       "        vertical-align: middle;\n",
       "    }\n",
       "\n",
       "    .dataframe tbody tr th {\n",
       "        vertical-align: top;\n",
       "    }\n",
       "\n",
       "    .dataframe thead th {\n",
       "        text-align: right;\n",
       "    }\n",
       "</style>\n",
       "<table border=\"1\" class=\"dataframe\">\n",
       "  <thead>\n",
       "    <tr style=\"text-align: right;\">\n",
       "      <th></th>\n",
       "      <th>feature</th>\n",
       "      <th>coeff</th>\n",
       "      <th>description</th>\n",
       "      <th>coeff_abs</th>\n",
       "    </tr>\n",
       "  </thead>\n",
       "  <tbody>\n",
       "    <tr>\n",
       "      <th>7</th>\n",
       "      <td>CO2_total_per_GWH</td>\n",
       "      <td>1.840636</td>\n",
       "      <td>NaN</td>\n",
       "      <td>1.840636</td>\n",
       "    </tr>\n",
       "    <tr>\n",
       "      <th>4</th>\n",
       "      <td>ppd_pk_uav</td>\n",
       "      <td>0.240954</td>\n",
       "      <td>Population density, people per km2</td>\n",
       "      <td>0.240954</td>\n",
       "    </tr>\n",
       "    <tr>\n",
       "      <th>8</th>\n",
       "      <td>capacity_factor</td>\n",
       "      <td>0.145474</td>\n",
       "      <td>NaN</td>\n",
       "      <td>0.145474</td>\n",
       "    </tr>\n",
       "    <tr>\n",
       "      <th>16</th>\n",
       "      <td>lit_cl_smj-2</td>\n",
       "      <td>0.13336</td>\n",
       "      <td>NaN</td>\n",
       "      <td>0.13336</td>\n",
       "    </tr>\n",
       "    <tr>\n",
       "      <th>0</th>\n",
       "      <td>ELEV_MASL</td>\n",
       "      <td>0.090823</td>\n",
       "      <td>Elevation of reservoir surface in meters above...</td>\n",
       "      <td>0.090823</td>\n",
       "    </tr>\n",
       "    <tr>\n",
       "      <th>12</th>\n",
       "      <td>pnv_cl_smj-5.0</td>\n",
       "      <td>0.089079</td>\n",
       "      <td>NaN</td>\n",
       "      <td>0.089079</td>\n",
       "    </tr>\n",
       "    <tr>\n",
       "      <th>1</th>\n",
       "      <td>inu_pc_umn</td>\n",
       "      <td>0.088908</td>\n",
       "      <td>Annual minimum inundation extent in total wate...</td>\n",
       "      <td>0.088908</td>\n",
       "    </tr>\n",
       "    <tr>\n",
       "      <th>9</th>\n",
       "      <td>glc_cl_smj-3</td>\n",
       "      <td>0.049905</td>\n",
       "      <td>NaN</td>\n",
       "      <td>0.049905</td>\n",
       "    </tr>\n",
       "    <tr>\n",
       "      <th>3</th>\n",
       "      <td>pac_pc_use</td>\n",
       "      <td>0.048034</td>\n",
       "      <td>Protected area extent, in percent, in total wa...</td>\n",
       "      <td>0.048034</td>\n",
       "    </tr>\n",
       "    <tr>\n",
       "      <th>15</th>\n",
       "      <td>wet_cl_smj-9.0</td>\n",
       "      <td>0.031442</td>\n",
       "      <td>NaN</td>\n",
       "      <td>0.031442</td>\n",
       "    </tr>\n",
       "    <tr>\n",
       "      <th>10</th>\n",
       "      <td>glc_cl_smj-6</td>\n",
       "      <td>0.028742</td>\n",
       "      <td>NaN</td>\n",
       "      <td>0.028742</td>\n",
       "    </tr>\n",
       "    <tr>\n",
       "      <th>14</th>\n",
       "      <td>wet_cl_smj-1.0</td>\n",
       "      <td>0.020242</td>\n",
       "      <td>NaN</td>\n",
       "      <td>0.020242</td>\n",
       "    </tr>\n",
       "    <tr>\n",
       "      <th>11</th>\n",
       "      <td>glc_cl_smj-20</td>\n",
       "      <td>0.01839</td>\n",
       "      <td>NaN</td>\n",
       "      <td>0.01839</td>\n",
       "    </tr>\n",
       "    <tr>\n",
       "      <th>2</th>\n",
       "      <td>crp_pc_use</td>\n",
       "      <td>0.015184</td>\n",
       "      <td>Cropland extent, in percent, in total watershe...</td>\n",
       "      <td>0.015184</td>\n",
       "    </tr>\n",
       "    <tr>\n",
       "      <th>5</th>\n",
       "      <td>hft_ix_u09</td>\n",
       "      <td>0.012536</td>\n",
       "      <td>Average human footprint as of 2009, in percent...</td>\n",
       "      <td>0.012536</td>\n",
       "    </tr>\n",
       "    <tr>\n",
       "      <th>6</th>\n",
       "      <td>hdi_ix_sav</td>\n",
       "      <td>0.007107</td>\n",
       "      <td>Average human development index</td>\n",
       "      <td>0.007107</td>\n",
       "    </tr>\n",
       "    <tr>\n",
       "      <th>13</th>\n",
       "      <td>pnv_cl_smj-11.0</td>\n",
       "      <td>0.006487</td>\n",
       "      <td>NaN</td>\n",
       "      <td>0.006487</td>\n",
       "    </tr>\n",
       "  </tbody>\n",
       "</table>\n",
       "</div>"
      ],
      "text/plain": [
       "              feature     coeff  \\\n",
       "7   CO2_total_per_GWH  1.840636   \n",
       "4          ppd_pk_uav  0.240954   \n",
       "8     capacity_factor  0.145474   \n",
       "16       lit_cl_smj-2   0.13336   \n",
       "0           ELEV_MASL  0.090823   \n",
       "12     pnv_cl_smj-5.0  0.089079   \n",
       "1          inu_pc_umn  0.088908   \n",
       "9        glc_cl_smj-3  0.049905   \n",
       "3          pac_pc_use  0.048034   \n",
       "15     wet_cl_smj-9.0  0.031442   \n",
       "10       glc_cl_smj-6  0.028742   \n",
       "14     wet_cl_smj-1.0  0.020242   \n",
       "11      glc_cl_smj-20   0.01839   \n",
       "2          crp_pc_use  0.015184   \n",
       "5          hft_ix_u09  0.012536   \n",
       "6          hdi_ix_sav  0.007107   \n",
       "13    pnv_cl_smj-11.0  0.006487   \n",
       "\n",
       "                                          description coeff_abs  \n",
       "7                                                 NaN  1.840636  \n",
       "4                  Population density, people per km2  0.240954  \n",
       "8                                                 NaN  0.145474  \n",
       "16                                                NaN   0.13336  \n",
       "0   Elevation of reservoir surface in meters above...  0.090823  \n",
       "12                                                NaN  0.089079  \n",
       "1   Annual minimum inundation extent in total wate...  0.088908  \n",
       "9                                                 NaN  0.049905  \n",
       "3   Protected area extent, in percent, in total wa...  0.048034  \n",
       "15                                                NaN  0.031442  \n",
       "10                                                NaN  0.028742  \n",
       "14                                                NaN  0.020242  \n",
       "11                                                NaN   0.01839  \n",
       "2   Cropland extent, in percent, in total watershe...  0.015184  \n",
       "5   Average human footprint as of 2009, in percent...  0.012536  \n",
       "6                     Average human development index  0.007107  \n",
       "13                                                NaN  0.006487  "
      ]
     },
     "execution_count": 33,
     "metadata": {},
     "output_type": "execute_result"
    }
   ],
   "source": [
    "fish_summary[0.05]"
   ]
  }
 ],
 "metadata": {
  "kernelspec": {
   "display_name": "Python 3 (ipykernel)",
   "language": "python",
   "name": "python3"
  },
  "language_info": {
   "codemirror_mode": {
    "name": "ipython",
    "version": 3
   },
   "file_extension": ".py",
   "mimetype": "text/x-python",
   "name": "python",
   "nbconvert_exporter": "python",
   "pygments_lexer": "ipython3",
   "version": "3.8.12"
  }
 },
 "nbformat": 4,
 "nbformat_minor": 4
}
