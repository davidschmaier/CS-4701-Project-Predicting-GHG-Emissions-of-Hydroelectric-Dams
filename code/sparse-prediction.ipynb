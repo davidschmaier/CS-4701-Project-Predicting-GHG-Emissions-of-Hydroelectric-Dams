{
 "cells": [
  {
   "cell_type": "markdown",
   "metadata": {},
   "source": [
    "## Test the Performance of Sparse Linear Regression\n",
    "\n",
    "Test the performance of regular/L1 regularized linear regression."
   ]
  },
  {
   "cell_type": "code",
   "execution_count": 1,
   "metadata": {},
   "outputs": [],
   "source": [
    "import numpy as np\n",
    "import os, sys, copy\n",
    "import pandas as pd\n",
    "from matplotlib import pyplot as plt\n",
    "import seaborn as sns\n",
    "from sklearn import linear_model\n",
    "from scipy.stats import pearsonr\n",
    "from sklearn.utils.multiclass import type_of_target\n",
    "from sklearn.model_selection import train_test_split\n",
    "from sklearn.preprocessing import StandardScaler"
   ]
  },
  {
   "cell_type": "code",
   "execution_count": 2,
   "metadata": {},
   "outputs": [],
   "source": [
    "# Load the data\n",
    "metadata = pd.read_csv('../data/metafile_1026.csv', index_col=0, header=None, names=['feature', 'description'])\n",
    "data = pd.read_csv('../data/global_dams_db_1026.csv')"
   ]
  },
  {
   "cell_type": "code",
   "execution_count": 3,
   "metadata": {},
   "outputs": [],
   "source": [
    "# Delare a vector of numerical features to use\n",
    "features = ['DAM_HGT_M', 'DAM_LEN_M', 'AREA_SKM', 'DEPTH_M', 'DIS_AVG_LS', 'DOR_PC', 'ELEV_MASL', 'CATCH_SKM', \n",
    "            'GDP_capita', 'Population', 'run_mm_syr', 'inu_pc_umn', 'sgr_dk_sav', 'ari_ix_sav', 'ari_ix_uav', \n",
    "            'for_pc_use', 'crp_pc_use', 'pst_pc_use', 'ire_pc_use', 'gla_pc_use', 'prm_pc_use', 'pac_pc_use', \n",
    "            'soc_th_uav', 'swc_pc_uyr', 'ero_kh_uav', 'pop_ct_usu', 'ppd_pk_uav', 'urb_pc_use', 'hft_ix_u09', \n",
    "            'hdi_ix_sav', 'YEAR', 'CAP_MCM', 'RES_YLD_TN', 'RES_LSS_TN', 'CO2_total_per_GWH', 'fish_per_GWH', \n",
    "            'capacity_factor']"
   ]
  },
  {
   "cell_type": "code",
   "execution_count": 4,
   "metadata": {},
   "outputs": [],
   "source": [
    "# # Change categorial features to one-hot encoding\n",
    "# categorial_features = ['clz_cl_smj', 'glc_cl_smj', 'pnv_cl_smj', 'wet_cl_smj', \n",
    "#                        'fmh_cl_smj', 'lit_cl_smj', 'MAIN_USE', 'LAKE_CTRL']\n",
    "\n",
    "# for feature in categorial_features:\n",
    "#     categories = pd.unique(data[feature])\n",
    "#     for category in categories:\n",
    "#         key = '{}-{}'.format(feature, category)\n",
    "#         data[key] = data[feature].apply(lambda x: 1 if x == category else 0)\n",
    "#         features.append(key)"
   ]
  },
  {
   "cell_type": "code",
   "execution_count": 5,
   "metadata": {},
   "outputs": [],
   "source": [
    "# # Add columns for CO2 per GWH and fish per GWH\n",
    "# data['CO2_areal_per_GWH'] = data.apply(lambda x: x['CO2EQ_areal']/x['GEN_GWH_YR'], axis=1)\n",
    "# data['CO2_total_per_GWH'] = data.apply(lambda x: x['CO2EQ_total']/x['GEN_GWH_YR'], axis=1)\n",
    "# data['fish_per_GWH'] = data.apply(lambda x: (x['RES_BAL']/x['GEN_GWH_YR']), axis=1)"
   ]
  },
  {
   "cell_type": "code",
   "execution_count": 6,
   "metadata": {},
   "outputs": [],
   "source": [
    "# Save the data with the new features\n",
    "# data.to_csv('../data/global_dams_db__with_objs_0922.csv')"
   ]
  },
  {
   "cell_type": "markdown",
   "metadata": {},
   "source": [
    "### CO2 per GWH"
   ]
  },
  {
   "cell_type": "code",
   "execution_count": 7,
   "metadata": {},
   "outputs": [
    {
     "data": {
      "text/plain": [
       "(477, 37)"
      ]
     },
     "execution_count": 7,
     "metadata": {},
     "output_type": "execute_result"
    }
   ],
   "source": [
    "# Filter for dams with CO2 and power information\n",
    "CO2_data = data[data['CO2_total_per_GWH'].apply(lambda x: not pd.isna(x))]\n",
    "CO2_data = CO2_data[features]\n",
    "CO2_data.shape"
   ]
  },
  {
   "cell_type": "code",
   "execution_count": 8,
   "metadata": {},
   "outputs": [],
   "source": [
    "# Generate the test and training data \n",
    "X = CO2_data.drop(columns=['CO2_total_per_GWH'], inplace=False)\n",
    "y = np.log(CO2_data['CO2_total_per_GWH'])\n",
    "X_train, X_test, y_train, y_test = train_test_split(X, y, test_size=0.8, random_state=42)"
   ]
  },
  {
   "cell_type": "code",
   "execution_count": 9,
   "metadata": {},
   "outputs": [],
   "source": [
    "# Standardize the data (i.e. set mean to 0 and std to 1)\n",
    "sc = StandardScaler()\n",
    "X_train = sc.fit_transform(X_train)\n",
    "X_test = sc.transform (X_test)"
   ]
  },
  {
   "cell_type": "code",
   "execution_count": 10,
   "metadata": {},
   "outputs": [
    {
     "data": {
      "text/plain": [
       "DAM_LEN_M       36\n",
       "YEAR             1\n",
       "RES_YLD_TN      24\n",
       "RES_LSS_TN      24\n",
       "fish_per_GWH    24\n",
       "dtype: int64"
      ]
     },
     "execution_count": 10,
     "metadata": {},
     "output_type": "execute_result"
    }
   ],
   "source": [
    "# Check for features containing NAs\n",
    "nas = X.isnull().sum()\n",
    "nas = nas[nas != 0]\n",
    "nas"
   ]
  },
  {
   "cell_type": "code",
   "execution_count": 11,
   "metadata": {},
   "outputs": [],
   "source": [
    "# For now, drop columns with NAs. Could potentially use imputation\n",
    "X.drop(columns=list(nas.index), inplace=True)\n",
    "X_train, X_test, y_train, y_test = train_test_split(X, y, test_size=0.3, random_state=0)"
   ]
  },
  {
   "cell_type": "code",
   "execution_count": 12,
   "metadata": {},
   "outputs": [],
   "source": [
    "# Define alphas\n",
    "alphas = [2, 1, 0.5, 0.1, 0]"
   ]
  },
  {
   "cell_type": "code",
   "execution_count": 13,
   "metadata": {},
   "outputs": [],
   "source": [
    "# Train models and record R2 values and the number of parameters\n",
    "CO2_test_r2s = np.zeros(len(alphas))\n",
    "CO2_train_r2s = np.zeros(len(alphas))\n",
    "CO2_n_params = np.zeros(len(alphas))\n",
    "CO2_coeffs = {}\n",
    "CO2_y_pred_test = {}\n",
    "CO2_y_pred_train = {}\n",
    "\n",
    "for i in range(len(alphas)):\n",
    "    alpha = alphas[i]\n",
    "    if alpha == 0:\n",
    "        reg = linear_model.LinearRegression(fit_intercept=True, positive=False)\n",
    "    else:\n",
    "        reg = linear_model.Lasso(alpha=alpha, fit_intercept=True, positive=False)\n",
    "    reg.fit(X_train, y_train)    \n",
    "    CO2_test_r2s[i] = reg.score(X_test, y_test)\n",
    "    CO2_train_r2s[i] = reg.score(X_train, y_train)\n",
    "    CO2_y_pred_test[alpha] = reg.predict(X_test)\n",
    "    CO2_y_pred_train[alpha] = reg.predict(X_train)\n",
    "    CO2_coeffs[alpha] = reg.coef_\n",
    "    CO2_n_params[i] = len(CO2_coeffs[alpha][CO2_coeffs[alpha] != 0])"
   ]
  },
  {
   "cell_type": "code",
   "execution_count": 14,
   "metadata": {},
   "outputs": [
    {
     "data": {
      "image/png": "[encoded data removed]",
      "text/plain": [
       "<Figure size 864x432 with 2 Axes>"
      ]
     },
     "metadata": {
      "needs_background": "light"
     },
     "output_type": "display_data"
    }
   ],
   "source": [
    "# Plot the y-values verus the predicted y-values for the regular regression for one model\n",
    "model_alpha = 0\n",
    "\n",
    "fig = plt.figure(figsize=(12,6))\n",
    "plt.subplot(1,2,2)\n",
    "plt.scatter(y_test, CO2_y_pred_test[model_alpha], alpha=0.5)\n",
    "plt.xlabel('y')\n",
    "plt.ylabel('y pred')\n",
    "plt.title('Test Data')\n",
    "\n",
    "plt.subplot(1,2,1)\n",
    "plt.scatter(y_train, CO2_y_pred_train[model_alpha], alpha=0.5)\n",
    "plt.xlabel('y')\n",
    "plt.ylabel('y pred')\n",
    "plt.title('Training Data')\n",
    "plt.show()\n"
   ]
  },
  {
   "cell_type": "code",
   "execution_count": 15,
   "metadata": {},
   "outputs": [
    {
     "data": {
      "image/png": "[encoded data removed]",
      "text/plain": [
       "<Figure size 864x432 with 2 Axes>"
      ]
     },
     "metadata": {
      "needs_background": "light"
     },
     "output_type": "display_data"
    }
   ],
   "source": [
    "# Plot the R2 values of the models\n",
    "fig = plt.figure(figsize=(12,6))\n",
    "plt.subplot(1,2,1)\n",
    "plt.scatter(CO2_n_params, CO2_train_r2s)\n",
    "for i in range(len(CO2_n_params)):\n",
    "    plt.text(CO2_n_params[i], CO2_train_r2s[i], s=alphas[i])\n",
    "plt.xlabel('Number of parameters')\n",
    "plt.ylabel('$R^2$')\n",
    "plt.title('Training Data')\n",
    "plt.ylim([0,1])\n",
    "\n",
    "plt.subplot(1,2,2)\n",
    "plt.scatter(CO2_n_params, CO2_test_r2s)\n",
    "for i in range(len(CO2_n_params)):\n",
    "    plt.text(CO2_n_params[i], CO2_test_r2s[i], s=alphas[i])\n",
    "plt.xlabel('Number of parameters')\n",
    "plt.ylabel('$R^2$')\n",
    "plt.title('Test Data')\n",
    "plt.ylim([0,1])\n",
    "plt.show()"
   ]
  },
  {
   "cell_type": "code",
   "execution_count": 16,
   "metadata": {},
   "outputs": [
    {
     "data": {
      "text/plain": [
       "array([0.57968742, 0.59023349, 0.60430698, 0.61110603, 0.61195002])"
      ]
     },
     "execution_count": 16,
     "metadata": {},
     "output_type": "execute_result"
    }
   ],
   "source": [
    "CO2_train_r2s"
   ]
  },
  {
   "cell_type": "code",
   "execution_count": 17,
   "metadata": {},
   "outputs": [],
   "source": [
    "# Create CO2_summary dataframes\n",
    "CO2_summary = {}\n",
    "for alpha in alphas:\n",
    "    CO2_summary[alpha] = pd.DataFrame(columns=['feature', 'coeff'], data=np.array([X.columns[CO2_coeffs[alpha] != 0], CO2_coeffs[alpha][CO2_coeffs[alpha] != 0]]).T)\n",
    "    CO2_summary[alpha] = CO2_summary[alpha].join(metadata, on='feature')\n",
    "    CO2_summary[alpha]['coeff_abs'] = CO2_summary[alpha]['coeff'].apply(np.abs)\n",
    "    CO2_summary[alpha].sort_values(by='coeff_abs', inplace=True, ascending=False)"
   ]
  },
  {
   "cell_type": "code",
   "execution_count": 18,
   "metadata": {
    "scrolled": true
   },
   "outputs": [
    {
     "data": {
      "text/html": [
       "<div>\n",
       "<style scoped>\n",
       "    .dataframe tbody tr th:only-of-type {\n",
       "        vertical-align: middle;\n",
       "    }\n",
       "\n",
       "    .dataframe tbody tr th {\n",
       "        vertical-align: top;\n",
       "    }\n",
       "\n",
       "    .dataframe thead th {\n",
       "        text-align: right;\n",
       "    }\n",
       "</style>\n",
       "<table border=\"1\" class=\"dataframe\">\n",
       "  <thead>\n",
       "    <tr style=\"text-align: right;\">\n",
       "      <th></th>\n",
       "      <th>feature</th>\n",
       "      <th>coeff</th>\n",
       "      <th>description</th>\n",
       "      <th>coeff_abs</th>\n",
       "    </tr>\n",
       "  </thead>\n",
       "  <tbody>\n",
       "    <tr>\n",
       "      <th>30</th>\n",
       "      <td>capacity_factor</td>\n",
       "      <td>-0.134285</td>\n",
       "      <td>NaN</td>\n",
       "      <td>0.134285</td>\n",
       "    </tr>\n",
       "    <tr>\n",
       "      <th>18</th>\n",
       "      <td>gla_pc_use</td>\n",
       "      <td>0.067121</td>\n",
       "      <td>Glacier extent, in percent, in total watershed...</td>\n",
       "      <td>0.067121</td>\n",
       "    </tr>\n",
       "    <tr>\n",
       "      <th>22</th>\n",
       "      <td>swc_pc_uyr</td>\n",
       "      <td>-0.058071</td>\n",
       "      <td>Annual average of soil water content, in perce...</td>\n",
       "      <td>0.058071</td>\n",
       "    </tr>\n",
       "    <tr>\n",
       "      <th>26</th>\n",
       "      <td>urb_pc_use</td>\n",
       "      <td>0.039788</td>\n",
       "      <td>Urban spatial extent, in percent, in total wat...</td>\n",
       "      <td>0.039788</td>\n",
       "    </tr>\n",
       "    <tr>\n",
       "      <th>2</th>\n",
       "      <td>DEPTH_M</td>\n",
       "      <td>-0.025599</td>\n",
       "      <td>Average depth of reservoir, in meters</td>\n",
       "      <td>0.025599</td>\n",
       "    </tr>\n",
       "    <tr>\n",
       "      <th>17</th>\n",
       "      <td>ire_pc_use</td>\n",
       "      <td>-0.019822</td>\n",
       "      <td>Irrigated area extent, in percent, in total wa...</td>\n",
       "      <td>0.019822</td>\n",
       "    </tr>\n",
       "    <tr>\n",
       "      <th>21</th>\n",
       "      <td>soc_th_uav</td>\n",
       "      <td>-0.011488</td>\n",
       "      <td>Organic carbon content in soil, in tonnes per ...</td>\n",
       "      <td>0.011488</td>\n",
       "    </tr>\n",
       "    <tr>\n",
       "      <th>13</th>\n",
       "      <td>ari_ix_uav</td>\n",
       "      <td>0.009729</td>\n",
       "      <td>Global aridity index, in total watershed upstr...</td>\n",
       "      <td>0.009729</td>\n",
       "    </tr>\n",
       "    <tr>\n",
       "      <th>15</th>\n",
       "      <td>crp_pc_use</td>\n",
       "      <td>-0.007986</td>\n",
       "      <td>Cropland extent, in percent, in total watershe...</td>\n",
       "      <td>0.007986</td>\n",
       "    </tr>\n",
       "    <tr>\n",
       "      <th>20</th>\n",
       "      <td>pac_pc_use</td>\n",
       "      <td>0.005418</td>\n",
       "      <td>Protected area extent, in percent, in total wa...</td>\n",
       "      <td>0.005418</td>\n",
       "    </tr>\n",
       "    <tr>\n",
       "      <th>10</th>\n",
       "      <td>inu_pc_umn</td>\n",
       "      <td>0.005178</td>\n",
       "      <td>Annual minimum inundation extent in total wate...</td>\n",
       "      <td>0.005178</td>\n",
       "    </tr>\n",
       "    <tr>\n",
       "      <th>28</th>\n",
       "      <td>hdi_ix_sav</td>\n",
       "      <td>-0.003921</td>\n",
       "      <td>Average human development index</td>\n",
       "      <td>0.003921</td>\n",
       "    </tr>\n",
       "    <tr>\n",
       "      <th>16</th>\n",
       "      <td>pst_pc_use</td>\n",
       "      <td>-0.002942</td>\n",
       "      <td>Pasture extent, in percent, in total watershed...</td>\n",
       "      <td>0.002942</td>\n",
       "    </tr>\n",
       "    <tr>\n",
       "      <th>11</th>\n",
       "      <td>sgr_dk_sav</td>\n",
       "      <td>-0.002466</td>\n",
       "      <td>Stream gradient, in decimeters per km, along t...</td>\n",
       "      <td>0.002466</td>\n",
       "    </tr>\n",
       "    <tr>\n",
       "      <th>12</th>\n",
       "      <td>ari_ix_sav</td>\n",
       "      <td>-0.002423</td>\n",
       "      <td>Global aridity index, in the reach catchment</td>\n",
       "      <td>0.002423</td>\n",
       "    </tr>\n",
       "    <tr>\n",
       "      <th>27</th>\n",
       "      <td>hft_ix_u09</td>\n",
       "      <td>-0.002185</td>\n",
       "      <td>Average human footprint as of 2009, in percent...</td>\n",
       "      <td>0.002185</td>\n",
       "    </tr>\n",
       "    <tr>\n",
       "      <th>0</th>\n",
       "      <td>DAM_HGT_M</td>\n",
       "      <td>-0.002159</td>\n",
       "      <td>Height of dam structure, in meters</td>\n",
       "      <td>0.002159</td>\n",
       "    </tr>\n",
       "    <tr>\n",
       "      <th>4</th>\n",
       "      <td>DOR_PC</td>\n",
       "      <td>0.002144</td>\n",
       "      <td>Degree of regulation in percent; equivalent to...</td>\n",
       "      <td>0.002144</td>\n",
       "    </tr>\n",
       "    <tr>\n",
       "      <th>5</th>\n",
       "      <td>ELEV_MASL</td>\n",
       "      <td>-0.001289</td>\n",
       "      <td>Elevation of reservoir surface in meters above...</td>\n",
       "      <td>0.001289</td>\n",
       "    </tr>\n",
       "    <tr>\n",
       "      <th>14</th>\n",
       "      <td>for_pc_use</td>\n",
       "      <td>0.000922</td>\n",
       "      <td>Forest cover extent, in percent, in total wate...</td>\n",
       "      <td>0.000922</td>\n",
       "    </tr>\n",
       "    <tr>\n",
       "      <th>9</th>\n",
       "      <td>run_mm_syr</td>\n",
       "      <td>-0.00045</td>\n",
       "      <td>Land surface runoff, in mm</td>\n",
       "      <td>0.00045</td>\n",
       "    </tr>\n",
       "    <tr>\n",
       "      <th>1</th>\n",
       "      <td>AREA_SKM</td>\n",
       "      <td>0.000277</td>\n",
       "      <td>Surface area of reservoir</td>\n",
       "      <td>0.000277</td>\n",
       "    </tr>\n",
       "    <tr>\n",
       "      <th>25</th>\n",
       "      <td>ppd_pk_uav</td>\n",
       "      <td>-0.000276</td>\n",
       "      <td>Population density, people per km2</td>\n",
       "      <td>0.000276</td>\n",
       "    </tr>\n",
       "    <tr>\n",
       "      <th>19</th>\n",
       "      <td>prm_pc_use</td>\n",
       "      <td>0.000216</td>\n",
       "      <td>Permafrost extent, in percent, in total waters...</td>\n",
       "      <td>0.000216</td>\n",
       "    </tr>\n",
       "    <tr>\n",
       "      <th>24</th>\n",
       "      <td>pop_ct_usu</td>\n",
       "      <td>0.000033</td>\n",
       "      <td>Population count, thousands of people</td>\n",
       "      <td>0.000033</td>\n",
       "    </tr>\n",
       "    <tr>\n",
       "      <th>23</th>\n",
       "      <td>ero_kh_uav</td>\n",
       "      <td>0.000011</td>\n",
       "      <td>Soil erosion, in kg per hectare per year, in t...</td>\n",
       "      <td>0.000011</td>\n",
       "    </tr>\n",
       "    <tr>\n",
       "      <th>7</th>\n",
       "      <td>GDP_capita</td>\n",
       "      <td>0.000011</td>\n",
       "      <td>GDP per capita of country, in 2020 US $</td>\n",
       "      <td>0.000011</td>\n",
       "    </tr>\n",
       "    <tr>\n",
       "      <th>29</th>\n",
       "      <td>CAP_MCM</td>\n",
       "      <td>0.000009</td>\n",
       "      <td>Maximum storage capacity of the reservoir, in ...</td>\n",
       "      <td>0.000009</td>\n",
       "    </tr>\n",
       "    <tr>\n",
       "      <th>6</th>\n",
       "      <td>CATCH_SKM</td>\n",
       "      <td>-0.000003</td>\n",
       "      <td>Area of upstream catchment draining into the r...</td>\n",
       "      <td>0.000003</td>\n",
       "    </tr>\n",
       "    <tr>\n",
       "      <th>3</th>\n",
       "      <td>DIS_AVG_LS</td>\n",
       "      <td>-0.0</td>\n",
       "      <td>Long-term average discharge, in liters per second</td>\n",
       "      <td>0.0</td>\n",
       "    </tr>\n",
       "    <tr>\n",
       "      <th>8</th>\n",
       "      <td>Population</td>\n",
       "      <td>0.0</td>\n",
       "      <td>Populatin of country</td>\n",
       "      <td>0.0</td>\n",
       "    </tr>\n",
       "  </tbody>\n",
       "</table>\n",
       "</div>"
      ],
      "text/plain": [
       "            feature     coeff  \\\n",
       "30  capacity_factor -0.134285   \n",
       "18       gla_pc_use  0.067121   \n",
       "22       swc_pc_uyr -0.058071   \n",
       "26       urb_pc_use  0.039788   \n",
       "2           DEPTH_M -0.025599   \n",
       "17       ire_pc_use -0.019822   \n",
       "21       soc_th_uav -0.011488   \n",
       "13       ari_ix_uav  0.009729   \n",
       "15       crp_pc_use -0.007986   \n",
       "20       pac_pc_use  0.005418   \n",
       "10       inu_pc_umn  0.005178   \n",
       "28       hdi_ix_sav -0.003921   \n",
       "16       pst_pc_use -0.002942   \n",
       "11       sgr_dk_sav -0.002466   \n",
       "12       ari_ix_sav -0.002423   \n",
       "27       hft_ix_u09 -0.002185   \n",
       "0         DAM_HGT_M -0.002159   \n",
       "4            DOR_PC  0.002144   \n",
       "5         ELEV_MASL -0.001289   \n",
       "14       for_pc_use  0.000922   \n",
       "9        run_mm_syr  -0.00045   \n",
       "1          AREA_SKM  0.000277   \n",
       "25       ppd_pk_uav -0.000276   \n",
       "19       prm_pc_use  0.000216   \n",
       "24       pop_ct_usu  0.000033   \n",
       "23       ero_kh_uav  0.000011   \n",
       "7        GDP_capita  0.000011   \n",
       "29          CAP_MCM  0.000009   \n",
       "6         CATCH_SKM -0.000003   \n",
       "3        DIS_AVG_LS      -0.0   \n",
       "8        Population       0.0   \n",
       "\n",
       "                                          description coeff_abs  \n",
       "30                                                NaN  0.134285  \n",
       "18  Glacier extent, in percent, in total watershed...  0.067121  \n",
       "22  Annual average of soil water content, in perce...  0.058071  \n",
       "26  Urban spatial extent, in percent, in total wat...  0.039788  \n",
       "2               Average depth of reservoir, in meters  0.025599  \n",
       "17  Irrigated area extent, in percent, in total wa...  0.019822  \n",
       "21  Organic carbon content in soil, in tonnes per ...  0.011488  \n",
       "13  Global aridity index, in total watershed upstr...  0.009729  \n",
       "15  Cropland extent, in percent, in total watershe...  0.007986  \n",
       "20  Protected area extent, in percent, in total wa...  0.005418  \n",
       "10  Annual minimum inundation extent in total wate...  0.005178  \n",
       "28                    Average human development index  0.003921  \n",
       "16  Pasture extent, in percent, in total watershed...  0.002942  \n",
       "11  Stream gradient, in decimeters per km, along t...  0.002466  \n",
       "12       Global aridity index, in the reach catchment  0.002423  \n",
       "27  Average human footprint as of 2009, in percent...  0.002185  \n",
       "0                  Height of dam structure, in meters  0.002159  \n",
       "4   Degree of regulation in percent; equivalent to...  0.002144  \n",
       "5   Elevation of reservoir surface in meters above...  0.001289  \n",
       "14  Forest cover extent, in percent, in total wate...  0.000922  \n",
       "9                          Land surface runoff, in mm   0.00045  \n",
       "1                           Surface area of reservoir  0.000277  \n",
       "25                 Population density, people per km2  0.000276  \n",
       "19  Permafrost extent, in percent, in total waters...  0.000216  \n",
       "24              Population count, thousands of people  0.000033  \n",
       "23  Soil erosion, in kg per hectare per year, in t...  0.000011  \n",
       "7             GDP per capita of country, in 2020 US $  0.000011  \n",
       "29  Maximum storage capacity of the reservoir, in ...  0.000009  \n",
       "6   Area of upstream catchment draining into the r...  0.000003  \n",
       "3   Long-term average discharge, in liters per second       0.0  \n",
       "8                                Populatin of country       0.0  "
      ]
     },
     "execution_count": 18,
     "metadata": {},
     "output_type": "execute_result"
    }
   ],
   "source": [
    "CO2_summary[0]"
   ]
  },
  {
   "cell_type": "code",
   "execution_count": 19,
   "metadata": {},
   "outputs": [
    {
     "data": {
      "text/html": [
       "<div>\n",
       "<style scoped>\n",
       "    .dataframe tbody tr th:only-of-type {\n",
       "        vertical-align: middle;\n",
       "    }\n",
       "\n",
       "    .dataframe tbody tr th {\n",
       "        vertical-align: top;\n",
       "    }\n",
       "\n",
       "    .dataframe thead th {\n",
       "        text-align: right;\n",
       "    }\n",
       "</style>\n",
       "<table border=\"1\" class=\"dataframe\">\n",
       "  <thead>\n",
       "    <tr style=\"text-align: right;\">\n",
       "      <th></th>\n",
       "      <th>feature</th>\n",
       "      <th>coeff</th>\n",
       "      <th>description</th>\n",
       "      <th>coeff_abs</th>\n",
       "    </tr>\n",
       "  </thead>\n",
       "  <tbody>\n",
       "    <tr>\n",
       "      <th>17</th>\n",
       "      <td>swc_pc_uyr</td>\n",
       "      <td>-0.048467</td>\n",
       "      <td>Annual average of soil water content, in perce...</td>\n",
       "      <td>0.048467</td>\n",
       "    </tr>\n",
       "    <tr>\n",
       "      <th>2</th>\n",
       "      <td>DEPTH_M</td>\n",
       "      <td>-0.02488</td>\n",
       "      <td>Average depth of reservoir, in meters</td>\n",
       "      <td>0.02488</td>\n",
       "    </tr>\n",
       "    <tr>\n",
       "      <th>21</th>\n",
       "      <td>urb_pc_use</td>\n",
       "      <td>0.021296</td>\n",
       "      <td>Urban spatial extent, in percent, in total wat...</td>\n",
       "      <td>0.021296</td>\n",
       "    </tr>\n",
       "    <tr>\n",
       "      <th>16</th>\n",
       "      <td>soc_th_uav</td>\n",
       "      <td>-0.009762</td>\n",
       "      <td>Organic carbon content in soil, in tonnes per ...</td>\n",
       "      <td>0.009762</td>\n",
       "    </tr>\n",
       "    <tr>\n",
       "      <th>14</th>\n",
       "      <td>crp_pc_use</td>\n",
       "      <td>-0.00577</td>\n",
       "      <td>Cropland extent, in percent, in total watershe...</td>\n",
       "      <td>0.00577</td>\n",
       "    </tr>\n",
       "    <tr>\n",
       "      <th>12</th>\n",
       "      <td>ari_ix_uav</td>\n",
       "      <td>0.004192</td>\n",
       "      <td>Global aridity index, in total watershed upstr...</td>\n",
       "      <td>0.004192</td>\n",
       "    </tr>\n",
       "    <tr>\n",
       "      <th>23</th>\n",
       "      <td>hdi_ix_sav</td>\n",
       "      <td>-0.003884</td>\n",
       "      <td>Average human development index</td>\n",
       "      <td>0.003884</td>\n",
       "    </tr>\n",
       "    <tr>\n",
       "      <th>15</th>\n",
       "      <td>pac_pc_use</td>\n",
       "      <td>0.003862</td>\n",
       "      <td>Protected area extent, in percent, in total wa...</td>\n",
       "      <td>0.003862</td>\n",
       "    </tr>\n",
       "    <tr>\n",
       "      <th>10</th>\n",
       "      <td>inu_pc_umn</td>\n",
       "      <td>0.002988</td>\n",
       "      <td>Annual minimum inundation extent in total wate...</td>\n",
       "      <td>0.002988</td>\n",
       "    </tr>\n",
       "    <tr>\n",
       "      <th>0</th>\n",
       "      <td>DAM_HGT_M</td>\n",
       "      <td>-0.002706</td>\n",
       "      <td>Height of dam structure, in meters</td>\n",
       "      <td>0.002706</td>\n",
       "    </tr>\n",
       "    <tr>\n",
       "      <th>11</th>\n",
       "      <td>sgr_dk_sav</td>\n",
       "      <td>-0.002212</td>\n",
       "      <td>Stream gradient, in decimeters per km, along t...</td>\n",
       "      <td>0.002212</td>\n",
       "    </tr>\n",
       "    <tr>\n",
       "      <th>4</th>\n",
       "      <td>DOR_PC</td>\n",
       "      <td>0.002073</td>\n",
       "      <td>Degree of regulation in percent; equivalent to...</td>\n",
       "      <td>0.002073</td>\n",
       "    </tr>\n",
       "    <tr>\n",
       "      <th>5</th>\n",
       "      <td>ELEV_MASL</td>\n",
       "      <td>-0.00126</td>\n",
       "      <td>Elevation of reservoir surface in meters above...</td>\n",
       "      <td>0.00126</td>\n",
       "    </tr>\n",
       "    <tr>\n",
       "      <th>22</th>\n",
       "      <td>hft_ix_u09</td>\n",
       "      <td>-0.000835</td>\n",
       "      <td>Average human footprint as of 2009, in percent...</td>\n",
       "      <td>0.000835</td>\n",
       "    </tr>\n",
       "    <tr>\n",
       "      <th>13</th>\n",
       "      <td>for_pc_use</td>\n",
       "      <td>0.00036</td>\n",
       "      <td>Forest cover extent, in percent, in total wate...</td>\n",
       "      <td>0.00036</td>\n",
       "    </tr>\n",
       "    <tr>\n",
       "      <th>9</th>\n",
       "      <td>run_mm_syr</td>\n",
       "      <td>-0.000296</td>\n",
       "      <td>Land surface runoff, in mm</td>\n",
       "      <td>0.000296</td>\n",
       "    </tr>\n",
       "    <tr>\n",
       "      <th>1</th>\n",
       "      <td>AREA_SKM</td>\n",
       "      <td>0.000273</td>\n",
       "      <td>Surface area of reservoir</td>\n",
       "      <td>0.000273</td>\n",
       "    </tr>\n",
       "    <tr>\n",
       "      <th>20</th>\n",
       "      <td>ppd_pk_uav</td>\n",
       "      <td>-0.000068</td>\n",
       "      <td>Population density, people per km2</td>\n",
       "      <td>0.000068</td>\n",
       "    </tr>\n",
       "    <tr>\n",
       "      <th>19</th>\n",
       "      <td>pop_ct_usu</td>\n",
       "      <td>0.000031</td>\n",
       "      <td>Population count, thousands of people</td>\n",
       "      <td>0.000031</td>\n",
       "    </tr>\n",
       "    <tr>\n",
       "      <th>24</th>\n",
       "      <td>CAP_MCM</td>\n",
       "      <td>0.000012</td>\n",
       "      <td>Maximum storage capacity of the reservoir, in ...</td>\n",
       "      <td>0.000012</td>\n",
       "    </tr>\n",
       "    <tr>\n",
       "      <th>7</th>\n",
       "      <td>GDP_capita</td>\n",
       "      <td>0.000011</td>\n",
       "      <td>GDP per capita of country, in 2020 US $</td>\n",
       "      <td>0.000011</td>\n",
       "    </tr>\n",
       "    <tr>\n",
       "      <th>18</th>\n",
       "      <td>ero_kh_uav</td>\n",
       "      <td>0.000007</td>\n",
       "      <td>Soil erosion, in kg per hectare per year, in t...</td>\n",
       "      <td>0.000007</td>\n",
       "    </tr>\n",
       "    <tr>\n",
       "      <th>6</th>\n",
       "      <td>CATCH_SKM</td>\n",
       "      <td>-0.000003</td>\n",
       "      <td>Area of upstream catchment draining into the r...</td>\n",
       "      <td>0.000003</td>\n",
       "    </tr>\n",
       "    <tr>\n",
       "      <th>3</th>\n",
       "      <td>DIS_AVG_LS</td>\n",
       "      <td>-0.0</td>\n",
       "      <td>Long-term average discharge, in liters per second</td>\n",
       "      <td>0.0</td>\n",
       "    </tr>\n",
       "    <tr>\n",
       "      <th>8</th>\n",
       "      <td>Population</td>\n",
       "      <td>0.0</td>\n",
       "      <td>Populatin of country</td>\n",
       "      <td>0.0</td>\n",
       "    </tr>\n",
       "  </tbody>\n",
       "</table>\n",
       "</div>"
      ],
      "text/plain": [
       "       feature     coeff                                        description  \\\n",
       "17  swc_pc_uyr -0.048467  Annual average of soil water content, in perce...   \n",
       "2      DEPTH_M  -0.02488              Average depth of reservoir, in meters   \n",
       "21  urb_pc_use  0.021296  Urban spatial extent, in percent, in total wat...   \n",
       "16  soc_th_uav -0.009762  Organic carbon content in soil, in tonnes per ...   \n",
       "14  crp_pc_use  -0.00577  Cropland extent, in percent, in total watershe...   \n",
       "12  ari_ix_uav  0.004192  Global aridity index, in total watershed upstr...   \n",
       "23  hdi_ix_sav -0.003884                    Average human development index   \n",
       "15  pac_pc_use  0.003862  Protected area extent, in percent, in total wa...   \n",
       "10  inu_pc_umn  0.002988  Annual minimum inundation extent in total wate...   \n",
       "0    DAM_HGT_M -0.002706                 Height of dam structure, in meters   \n",
       "11  sgr_dk_sav -0.002212  Stream gradient, in decimeters per km, along t...   \n",
       "4       DOR_PC  0.002073  Degree of regulation in percent; equivalent to...   \n",
       "5    ELEV_MASL  -0.00126  Elevation of reservoir surface in meters above...   \n",
       "22  hft_ix_u09 -0.000835  Average human footprint as of 2009, in percent...   \n",
       "13  for_pc_use   0.00036  Forest cover extent, in percent, in total wate...   \n",
       "9   run_mm_syr -0.000296                         Land surface runoff, in mm   \n",
       "1     AREA_SKM  0.000273                          Surface area of reservoir   \n",
       "20  ppd_pk_uav -0.000068                 Population density, people per km2   \n",
       "19  pop_ct_usu  0.000031              Population count, thousands of people   \n",
       "24     CAP_MCM  0.000012  Maximum storage capacity of the reservoir, in ...   \n",
       "7   GDP_capita  0.000011            GDP per capita of country, in 2020 US $   \n",
       "18  ero_kh_uav  0.000007  Soil erosion, in kg per hectare per year, in t...   \n",
       "6    CATCH_SKM -0.000003  Area of upstream catchment draining into the r...   \n",
       "3   DIS_AVG_LS      -0.0  Long-term average discharge, in liters per second   \n",
       "8   Population       0.0                               Populatin of country   \n",
       "\n",
       "   coeff_abs  \n",
       "17  0.048467  \n",
       "2    0.02488  \n",
       "21  0.021296  \n",
       "16  0.009762  \n",
       "14   0.00577  \n",
       "12  0.004192  \n",
       "23  0.003884  \n",
       "15  0.003862  \n",
       "10  0.002988  \n",
       "0   0.002706  \n",
       "11  0.002212  \n",
       "4   0.002073  \n",
       "5    0.00126  \n",
       "22  0.000835  \n",
       "13   0.00036  \n",
       "9   0.000296  \n",
       "1   0.000273  \n",
       "20  0.000068  \n",
       "19  0.000031  \n",
       "24  0.000012  \n",
       "7   0.000011  \n",
       "18  0.000007  \n",
       "6   0.000003  \n",
       "3        0.0  \n",
       "8        0.0  "
      ]
     },
     "execution_count": 19,
     "metadata": {},
     "output_type": "execute_result"
    }
   ],
   "source": [
    "CO2_summary[0.5]"
   ]
  },
  {
   "cell_type": "markdown",
   "metadata": {},
   "source": [
    "### Change in Fish per GWH"
   ]
  },
  {
   "cell_type": "code",
   "execution_count": 20,
   "metadata": {},
   "outputs": [],
   "source": [
    "# Filter for dams with fish and power information\n",
    "fish_data = data[data['fish_per_GWH'].apply(lambda x: not pd.isna(x))]\n",
    "fish_data = fish_data[features]"
   ]
  },
  {
   "cell_type": "code",
   "execution_count": 21,
   "metadata": {},
   "outputs": [],
   "source": [
    "# Generate the test and training data \n",
    "X = fish_data.drop(columns=['fish_per_GWH'], inplace=False)\n",
    "y = np.log(np.abs(fish_data['fish_per_GWH'])) * np.sign(fish_data['fish_per_GWH'])\n",
    "X_train, X_test, y_train, y_test = train_test_split(X, y, test_size=0.3, random_state=0)"
   ]
  },
  {
   "cell_type": "code",
   "execution_count": 22,
   "metadata": {},
   "outputs": [],
   "source": [
    "# Check for features containing NAs\n",
    "nas = X.isnull().sum()\n",
    "nas = nas[nas != 0]"
   ]
  },
  {
   "cell_type": "code",
   "execution_count": 23,
   "metadata": {},
   "outputs": [],
   "source": [
    "# For now, drop columns with NAs. Could potentially use imputation\n",
    "X.drop(columns=list(nas.index), inplace=True)\n",
    "X_train, X_test, y_train, y_test = train_test_split(X, y, test_size=0.3, random_state=42)"
   ]
  },
  {
   "cell_type": "code",
   "execution_count": 24,
   "metadata": {},
   "outputs": [],
   "source": [
    "# Standardize the data (i.e. set mean to 0 and std to 1)\n",
    "sc = StandardScaler()\n",
    "X_train = sc.fit_transform(X_train)\n",
    "X_test = sc.transform (X_test)"
   ]
  },
  {
   "cell_type": "code",
   "execution_count": 25,
   "metadata": {},
   "outputs": [],
   "source": [
    "# Define alphas\n",
    "alphas = [1, 0.5, 0.1, 0.05, 0]"
   ]
  },
  {
   "cell_type": "code",
   "execution_count": 26,
   "metadata": {},
   "outputs": [],
   "source": [
    "# Train models and record R2 values and the number of parameters\n",
    "fish_test_r2s = np.zeros(len(alphas))\n",
    "fish_train_r2s = np.zeros(len(alphas))\n",
    "fish_n_params = np.zeros(len(alphas))\n",
    "fish_coeffs = {}\n",
    "fish_y_pred_test = {}\n",
    "fish_y_pred_train = {}\n",
    "\n",
    "for i in range(len(alphas)):\n",
    "    alpha = alphas[i]\n",
    "    if alpha == 0:\n",
    "        reg = linear_model.LinearRegression()\n",
    "    else:\n",
    "        reg = linear_model.Lasso(alpha=alpha)\n",
    "    reg.fit(X_train, y_train)    \n",
    "    fish_test_r2s[i] = reg.score(X_test, y_test)\n",
    "    fish_train_r2s[i] = reg.score(X_train, y_train)\n",
    "    fish_y_pred_test[alpha] = reg.predict(X_test)\n",
    "    fish_y_pred_train[alpha] = reg.predict(X_train)\n",
    "    fish_coeffs[alpha] = reg.coef_\n",
    "    fish_n_params[i] = len(fish_coeffs[alpha][fish_coeffs[alpha] != 0])"
   ]
  },
  {
   "cell_type": "code",
   "execution_count": 27,
   "metadata": {},
   "outputs": [
    {
     "data": {
      "image/png": "[encoded data removed]",
      "text/plain": [
       "<Figure size 864x432 with 2 Axes>"
      ]
     },
     "metadata": {
      "needs_background": "light"
     },
     "output_type": "display_data"
    }
   ],
   "source": [
    "# Plot the y-values verus the predicted y-values for the regular regression\n",
    "fig = plt.figure(figsize=(12,6))\n",
    "plt.subplot(1,2,2)\n",
    "plt.scatter(y_test, fish_y_pred_test[alphas[4]], alpha=0.5)\n",
    "plt.xlabel('y')\n",
    "plt.ylabel('y pred')\n",
    "plt.title('Test Data')\n",
    "\n",
    "plt.subplot(1,2,1)\n",
    "plt.scatter(y_train, fish_y_pred_train[alphas[4]], alpha=0.5)\n",
    "plt.xlabel('y')\n",
    "plt.ylabel('y pred')\n",
    "plt.title('Training Data')\n",
    "plt.show()\n"
   ]
  },
  {
   "cell_type": "code",
   "execution_count": 28,
   "metadata": {},
   "outputs": [
    {
     "data": {
      "image/png": "[encoded data removed]",
      "text/plain": [
       "<Figure size 864x432 with 2 Axes>"
      ]
     },
     "metadata": {
      "needs_background": "light"
     },
     "output_type": "display_data"
    }
   ],
   "source": [
    "# Plot the R2 values of the models\n",
    "fig = plt.figure(figsize=(12,6))\n",
    "plt.subplot(1,2,1)\n",
    "plt.scatter(fish_n_params, fish_train_r2s)\n",
    "for i in range(len(fish_n_params)):\n",
    "    plt.text(fish_n_params[i], fish_train_r2s[i], s=alphas[i])\n",
    "plt.xlabel('Number of parameters')\n",
    "plt.ylabel('$R^2$')\n",
    "plt.title('Training Data')\n",
    "plt.axhline(0, c='k')\n",
    "plt.ylim([-0.1,1])\n",
    "\n",
    "plt.subplot(1,2,2)\n",
    "plt.scatter(fish_n_params, fish_test_r2s)\n",
    "for i in range(len(fish_n_params)):\n",
    "    plt.text(fish_n_params[i], fish_test_r2s[i], s=alphas[i])\n",
    "plt.xlabel('Number of parameters')\n",
    "plt.ylabel('$R^2$')\n",
    "plt.title('Test Data')\n",
    "plt.axhline(0, c='k')\n",
    "plt.ylim([-0.1,1])\n",
    "plt.show()\n"
   ]
  },
  {
   "cell_type": "code",
   "execution_count": 29,
   "metadata": {},
   "outputs": [
    {
     "data": {
      "text/plain": [
       "array([-0.003962  ,  0.09803047,  0.13225536,  0.10744575, -0.01051531])"
      ]
     },
     "execution_count": 29,
     "metadata": {},
     "output_type": "execute_result"
    }
   ],
   "source": [
    "fish_test_r2s"
   ]
  },
  {
   "cell_type": "code",
   "execution_count": 30,
   "metadata": {},
   "outputs": [],
   "source": [
    "# Create fish_summary dataframes\n",
    "fish_summary = {}\n",
    "for alpha in alphas:\n",
    "    fish_summary[alpha] = pd.DataFrame(columns=['feature', 'coeff'], data=np.array([X.columns[fish_coeffs[alpha] > 0], fish_coeffs[alpha][fish_coeffs[alpha] > 0]]).T)\n",
    "    fish_summary[alpha] = fish_summary[alpha].join(metadata, on='feature')\n",
    "    fish_summary[alpha]['coeff_abs'] = fish_summary[alpha]['coeff'].apply(np.abs)\n",
    "    fish_summary[alpha].sort_values(by='coeff_abs', inplace=True, ascending=False)"
   ]
  },
  {
   "cell_type": "code",
   "execution_count": 31,
   "metadata": {},
   "outputs": [
    {
     "data": {
      "text/html": [
       "<div>\n",
       "<style scoped>\n",
       "    .dataframe tbody tr th:only-of-type {\n",
       "        vertical-align: middle;\n",
       "    }\n",
       "\n",
       "    .dataframe tbody tr th {\n",
       "        vertical-align: top;\n",
       "    }\n",
       "\n",
       "    .dataframe thead th {\n",
       "        text-align: right;\n",
       "    }\n",
       "</style>\n",
       "<table border=\"1\" class=\"dataframe\">\n",
       "  <thead>\n",
       "    <tr style=\"text-align: right;\">\n",
       "      <th></th>\n",
       "      <th>feature</th>\n",
       "      <th>coeff</th>\n",
       "      <th>description</th>\n",
       "      <th>coeff_abs</th>\n",
       "    </tr>\n",
       "  </thead>\n",
       "  <tbody>\n",
       "    <tr>\n",
       "      <th>1</th>\n",
       "      <td>CO2_total_per_GWH</td>\n",
       "      <td>0.189267</td>\n",
       "      <td>NaN</td>\n",
       "      <td>0.189267</td>\n",
       "    </tr>\n",
       "    <tr>\n",
       "      <th>0</th>\n",
       "      <td>Population</td>\n",
       "      <td>0.086411</td>\n",
       "      <td>Populatin of country</td>\n",
       "      <td>0.086411</td>\n",
       "    </tr>\n",
       "  </tbody>\n",
       "</table>\n",
       "</div>"
      ],
      "text/plain": [
       "             feature     coeff           description coeff_abs\n",
       "1  CO2_total_per_GWH  0.189267                   NaN  0.189267\n",
       "0         Population  0.086411  Populatin of country  0.086411"
      ]
     },
     "execution_count": 31,
     "metadata": {},
     "output_type": "execute_result"
    }
   ],
   "source": [
    "fish_summary[0.5]"
   ]
  }
 ],
 "metadata": {
  "kernelspec": {
   "display_name": "Python 3 (ipykernel)",
   "language": "python",
   "name": "python3"
  },
  "language_info": {
   "codemirror_mode": {
    "name": "ipython",
    "version": 3
   },
   "file_extension": ".py",
   "mimetype": "text/x-python",
   "name": "python",
   "nbconvert_exporter": "python",
   "pygments_lexer": "ipython3",
   "version": "3.8.12"
  }
 },
 "nbformat": 4,
 "nbformat_minor": 4
}
