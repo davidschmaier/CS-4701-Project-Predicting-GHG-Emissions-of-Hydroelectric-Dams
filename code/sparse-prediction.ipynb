{
 "cells": [
  {
   "cell_type": "markdown",
   "metadata": {},
   "source": [
    "## Test the Performance of Sparse Linear Regression\n",
    "\n",
    "Test the performance of regular/L1 regularized linear regression."
   ]
  },
  {
   "cell_type": "code",
   "execution_count": 1,
   "metadata": {},
   "outputs": [],
   "source": [
    "import numpy as np\n",
    "import os, sys, copy\n",
    "import pandas as pd\n",
    "from matplotlib import pyplot as plt\n",
    "import seaborn as sns\n",
    "from sklearn import linear_model\n",
    "from scipy.stats import pearsonr\n",
    "from sklearn.utils.multiclass import type_of_target\n",
    "from sklearn.model_selection import train_test_split\n",
    "from sklearn.preprocessing import StandardScaler"
   ]
  },
  {
   "cell_type": "code",
   "execution_count": 2,
   "metadata": {},
   "outputs": [],
   "source": [
    "# Load the data\n",
    "metadata = pd.read_csv('../data/metafile_1026.csv', index_col=0, header=None, names=['feature', 'description'])\n",
    "data = pd.read_csv('../data/global_dams_db_1026.csv')"
   ]
  },
  {
   "cell_type": "code",
   "execution_count": 3,
   "metadata": {},
   "outputs": [],
   "source": [
    "# Delare a vector of numerical features to use\n",
    "features = ['DAM_HGT_M', 'DAM_LEN_M', 'AREA_SKM', 'DEPTH_M', 'DIS_AVG_LS', 'DOR_PC', 'ELEV_MASL', 'CATCH_SKM', \n",
    "            'GDP_capita', 'Population', 'run_mm_syr', 'inu_pc_umn', 'sgr_dk_sav', 'ari_ix_sav', 'ari_ix_uav', \n",
    "            'for_pc_use', 'crp_pc_use', 'pst_pc_use', 'ire_pc_use', 'gla_pc_use', 'prm_pc_use', 'pac_pc_use', \n",
    "            'soc_th_uav', 'swc_pc_uyr', 'ero_kh_uav', 'pop_ct_usu', 'ppd_pk_uav', 'urb_pc_use', 'hft_ix_u09', \n",
    "            'hdi_ix_sav', 'YEAR', 'CAP_MCM', 'RES_YLD_TN', 'RES_LSS_TN', 'CO2_total_per_GWH', 'fish_per_GWH', \n",
    "            'capacity_factor']"
   ]
  },
  {
   "cell_type": "code",
   "execution_count": 4,
   "metadata": {},
   "outputs": [
    {
     "name": "stderr",
     "output_type": "stream",
     "text": [
      "/var/folders/j2/hzydqpsj70x2_l0y6kvd0v8w0000gn/T/ipykernel_66585/71607837.py:9: PerformanceWarning: DataFrame is highly fragmented.  This is usually the result of calling `frame.insert` many times, which has poor performance.  Consider joining all columns at once using pd.concat(axis=1) instead.  To get a de-fragmented frame, use `newframe = frame.copy()`\n",
      "  data[key] = data[feature].apply(lambda x: 1 if x == category else 0)\n"
     ]
    }
   ],
   "source": [
    "# Change categorial features to one-hot encoding\n",
    "categorial_features = ['clz_cl_smj', 'glc_cl_smj', 'pnv_cl_smj', 'wet_cl_smj', \n",
    "                       'fmh_cl_smj', 'lit_cl_smj', 'MAIN_USE', 'LAKE_CTRL']\n",
    "\n",
    "for feature in categorial_features:\n",
    "    categories = pd.unique(data[feature])\n",
    "    for category in categories:\n",
    "        key = '{}-{}'.format(feature, category)\n",
    "        data[key] = data[feature].apply(lambda x: 1 if x == category else 0)\n",
    "        features.append(key)"
   ]
  },
  {
   "cell_type": "code",
   "execution_count": 5,
   "metadata": {},
   "outputs": [],
   "source": [
    "# # Add columns for CO2 per GWH and fish per GWH\n",
    "data['CO2_areal_per_GWH'] = data.apply(lambda x: x['CO2EQ_areal']/x['pred_GEN_GWH_YR'], axis=1)\n",
    "data['CO2_total_per_GWH'] = data.apply(lambda x: x['CO2EQ_total']/x['pred_GEN_GWH_YR'], axis=1)\n",
    "data['fish_per_GWH'] = data.apply(lambda x: (x['RES_BAL']/x['pred_GEN_GWH_YR']), axis=1)"
   ]
  },
  {
   "cell_type": "code",
   "execution_count": 6,
   "metadata": {},
   "outputs": [],
   "source": [
    "# Save the data with the new features\n",
    "# data.to_csv('../data/global_dams_db__with_objs_0922.csv')"
   ]
  },
  {
   "cell_type": "markdown",
   "metadata": {},
   "source": [
    "### CO2 per GWH"
   ]
  },
  {
   "cell_type": "code",
   "execution_count": 7,
   "metadata": {},
   "outputs": [
    {
     "data": {
      "text/plain": [
       "(860, 141)"
      ]
     },
     "execution_count": 7,
     "metadata": {},
     "output_type": "execute_result"
    }
   ],
   "source": [
    "# Filter for dams with CO2 and power information\n",
    "CO2_data = data[data['CO2_total_per_GWH'].apply(lambda x: not pd.isna(x))]\n",
    "CO2_data = CO2_data[features]\n",
    "CO2_data.shape"
   ]
  },
  {
   "cell_type": "code",
   "execution_count": 8,
   "metadata": {},
   "outputs": [],
   "source": [
    "# Generate the test and training data \n",
    "X = CO2_data.drop(columns=['CO2_total_per_GWH'], inplace=False)\n",
    "y = np.log(CO2_data['CO2_total_per_GWH'])\n",
    "X_train, X_test, y_train, y_test = train_test_split(X, y, test_size=0.8, random_state=42)"
   ]
  },
  {
   "cell_type": "code",
   "execution_count": 9,
   "metadata": {},
   "outputs": [
    {
     "name": "stderr",
     "output_type": "stream",
     "text": [
      "/Users/green/opt/anaconda3/lib/python3.8/site-packages/sklearn/utils/extmath.py:986: RuntimeWarning: invalid value encountered in true_divide\n",
      "  updated_mean = (last_sum + new_sum) / updated_sample_count\n",
      "/Users/green/opt/anaconda3/lib/python3.8/site-packages/sklearn/utils/extmath.py:991: RuntimeWarning: invalid value encountered in true_divide\n",
      "  T = new_sum / new_sample_count\n",
      "/Users/green/opt/anaconda3/lib/python3.8/site-packages/sklearn/utils/extmath.py:1021: RuntimeWarning: invalid value encountered in true_divide\n",
      "  new_unnormalized_variance -= correction ** 2 / new_sample_count\n"
     ]
    }
   ],
   "source": [
    "# Standardize the data (i.e. set mean to 0 and std to 1)\n",
    "sc = StandardScaler()\n",
    "X_train = sc.fit_transform(X_train)\n",
    "X_test = sc.transform (X_test)"
   ]
  },
  {
   "cell_type": "code",
   "execution_count": 10,
   "metadata": {},
   "outputs": [
    {
     "data": {
      "text/plain": [
       "DAM_LEN_M          100\n",
       "soc_th_uav           1\n",
       "YEAR                12\n",
       "RES_YLD_TN          98\n",
       "RES_LSS_TN          98\n",
       "fish_per_GWH        98\n",
       "capacity_factor    860\n",
       "dtype: int64"
      ]
     },
     "execution_count": 10,
     "metadata": {},
     "output_type": "execute_result"
    }
   ],
   "source": [
    "# Check for features containing NAs\n",
    "nas = X.isnull().sum()\n",
    "nas = nas[nas != 0]\n",
    "nas"
   ]
  },
  {
   "cell_type": "code",
   "execution_count": 11,
   "metadata": {},
   "outputs": [],
   "source": [
    "# For now, drop columns with NAs. Could potentially use imputation\n",
    "X.drop(columns=list(nas.index), inplace=True)\n",
    "X_train, X_test, y_train, y_test = train_test_split(X, y, test_size=0.3, random_state=0)"
   ]
  },
  {
   "cell_type": "code",
   "execution_count": 12,
   "metadata": {},
   "outputs": [],
   "source": [
    "# Define alphas\n",
    "alphas = [5, 2, 1, 0.5, 0]"
   ]
  },
  {
   "cell_type": "code",
   "execution_count": 13,
   "metadata": {},
   "outputs": [
    {
     "name": "stderr",
     "output_type": "stream",
     "text": [
      "/var/folders/j2/hzydqpsj70x2_l0y6kvd0v8w0000gn/T/ipykernel_66585/917595828.py:12: UserWarning: With alpha=0, this algorithm does not converge well. You are advised to use the LinearRegression estimator\n",
      "  reg.fit(X_train, y_train)\n",
      "/Users/green/opt/anaconda3/lib/python3.8/site-packages/sklearn/linear_model/_coordinate_descent.py:647: UserWarning: Coordinate descent with no regularization may lead to unexpected results and is discouraged.\n",
      "  model = cd_fast.enet_coordinate_descent(\n",
      "/Users/green/opt/anaconda3/lib/python3.8/site-packages/sklearn/linear_model/_coordinate_descent.py:647: ConvergenceWarning: Objective did not converge. You might want to increase the number of iterations, check the scale of the features or consider increasing regularisation. Duality gap: 5.490e+02, tolerance: 2.772e-01 Linear regression models with null weight for the l1 regularization term are more efficiently fitted using one of the solvers implemented in sklearn.linear_model.Ridge/RidgeCV instead.\n",
      "  model = cd_fast.enet_coordinate_descent(\n"
     ]
    }
   ],
   "source": [
    "# Train models and record R2 values and the number of parameters\n",
    "CO2_test_r2s = np.zeros(len(alphas))\n",
    "CO2_train_r2s = np.zeros(len(alphas))\n",
    "CO2_n_params = np.zeros(len(alphas))\n",
    "CO2_coeffs = {}\n",
    "CO2_y_pred_test = {}\n",
    "CO2_y_pred_train = {}\n",
    "\n",
    "for i in range(len(alphas)):\n",
    "    alpha = alphas[i]\n",
    "    reg = linear_model.Lasso(alpha=alpha, fit_intercept=True, positive=False)\n",
    "    reg.fit(X_train, y_train)    \n",
    "    CO2_test_r2s[i] = reg.score(X_test, y_test)\n",
    "    CO2_train_r2s[i] = reg.score(X_train, y_train)\n",
    "    CO2_y_pred_test[alpha] = reg.predict(X_test)\n",
    "    CO2_y_pred_train[alpha] = reg.predict(X_train)\n",
    "    CO2_coeffs[alpha] = reg.coef_\n",
    "    CO2_n_params[i] = len(CO2_coeffs[alpha][CO2_coeffs[alpha] != 0])"
   ]
  },
  {
   "cell_type": "code",
   "execution_count": 14,
   "metadata": {},
   "outputs": [
    {
     "data": {
      "image/png": "[encoded data removed]",
      "text/plain": [
       "<Figure size 864x432 with 2 Axes>"
      ]
     },
     "metadata": {
      "needs_background": "light"
     },
     "output_type": "display_data"
    }
   ],
   "source": [
    "# Plot the y-values verus the predicted y-values for the regular regression for one model\n",
    "model_alpha = 0\n",
    "\n",
    "fig = plt.figure(figsize=(12,6))\n",
    "plt.subplot(1,2,2)\n",
    "plt.scatter(y_train, CO2_y_pred_train[model_alpha], alpha=0.5, c='lightgrey')\n",
    "plt.scatter(y_test, CO2_y_pred_test[model_alpha], alpha=0.5)\n",
    "plt.xlabel('y')\n",
    "plt.ylabel('y pred')\n",
    "plt.title('Test Data')\n",
    "\n",
    "plt.subplot(1,2,1)\n",
    "plt.scatter(y_train, CO2_y_pred_train[model_alpha], alpha=0.5,)\n",
    "plt.xlabel('y')\n",
    "plt.ylabel('y pred')\n",
    "plt.title('Training Data')\n",
    "plt.show()\n"
   ]
  },
  {
   "cell_type": "code",
   "execution_count": 15,
   "metadata": {
    "scrolled": true
   },
   "outputs": [
    {
     "data": {
      "image/png": "[encoded data removed]",
      "text/plain": [
       "<Figure size 864x432 with 2 Axes>"
      ]
     },
     "metadata": {
      "needs_background": "light"
     },
     "output_type": "display_data"
    }
   ],
   "source": [
    "# Plot the R2 values of the models\n",
    "fig = plt.figure(figsize=(12,6))\n",
    "plt.subplot(1,2,1)\n",
    "plt.scatter(CO2_n_params, CO2_train_r2s)\n",
    "for i in range(len(CO2_n_params)):\n",
    "    plt.text(CO2_n_params[i], CO2_train_r2s[i], s=alphas[i])\n",
    "plt.xlabel('Number of parameters')\n",
    "plt.ylabel('$R^2$')\n",
    "plt.title('Training Data')\n",
    "plt.ylim([0,1])\n",
    "\n",
    "plt.subplot(1,2,2)\n",
    "plt.scatter(CO2_n_params, CO2_test_r2s)\n",
    "for i in range(len(CO2_n_params)):\n",
    "    plt.text(CO2_n_params[i], CO2_test_r2s[i], s=alphas[i])\n",
    "plt.xlabel('Number of parameters')\n",
    "plt.ylabel('$R^2$')\n",
    "plt.title('Test Data')\n",
    "plt.ylim([0,1])\n",
    "plt.show()"
   ]
  },
  {
   "cell_type": "code",
   "execution_count": 16,
   "metadata": {},
   "outputs": [
    {
     "data": {
      "text/plain": [
       "0.6038831375238003"
      ]
     },
     "execution_count": 16,
     "metadata": {},
     "output_type": "execute_result"
    }
   ],
   "source": [
    "max(CO2_train_r2s)"
   ]
  },
  {
   "cell_type": "code",
   "execution_count": 17,
   "metadata": {},
   "outputs": [
    {
     "data": {
      "text/plain": [
       "0.4606710630197409"
      ]
     },
     "execution_count": 17,
     "metadata": {},
     "output_type": "execute_result"
    }
   ],
   "source": [
    "max(CO2_test_r2s)"
   ]
  },
  {
   "cell_type": "code",
   "execution_count": 18,
   "metadata": {},
   "outputs": [],
   "source": [
    "# Create CO2_summary dataframes\n",
    "CO2_summary = {}\n",
    "for alpha in alphas:\n",
    "    CO2_summary[alpha] = pd.DataFrame(columns=['feature', 'coeff'], data=np.array([X.columns[CO2_coeffs[alpha] != 0], CO2_coeffs[alpha][CO2_coeffs[alpha] != 0]]).T)\n",
    "    CO2_summary[alpha] = CO2_summary[alpha].join(metadata, on='feature')\n",
    "    CO2_summary[alpha]['coeff_abs'] = CO2_summary[alpha]['coeff'].apply(np.abs)\n",
    "    CO2_summary[alpha].sort_values(by='coeff_abs', inplace=True, ascending=False)"
   ]
  },
  {
   "cell_type": "code",
   "execution_count": 19,
   "metadata": {
    "scrolled": true
   },
   "outputs": [
    {
     "data": {
      "text/html": [
       "<div>\n",
       "<style scoped>\n",
       "    .dataframe tbody tr th:only-of-type {\n",
       "        vertical-align: middle;\n",
       "    }\n",
       "\n",
       "    .dataframe tbody tr th {\n",
       "        vertical-align: top;\n",
       "    }\n",
       "\n",
       "    .dataframe thead th {\n",
       "        text-align: right;\n",
       "    }\n",
       "</style>\n",
       "<table border=\"1\" class=\"dataframe\">\n",
       "  <thead>\n",
       "    <tr style=\"text-align: right;\">\n",
       "      <th></th>\n",
       "      <th>feature</th>\n",
       "      <th>coeff</th>\n",
       "      <th>description</th>\n",
       "      <th>coeff_abs</th>\n",
       "    </tr>\n",
       "  </thead>\n",
       "  <tbody>\n",
       "    <tr>\n",
       "      <th>103</th>\n",
       "      <td>lit_cl_smj-11</td>\n",
       "      <td>-3.798087</td>\n",
       "      <td>NaN</td>\n",
       "      <td>3.798087</td>\n",
       "    </tr>\n",
       "    <tr>\n",
       "      <th>69</th>\n",
       "      <td>pnv_cl_smj-13.0</td>\n",
       "      <td>2.507435</td>\n",
       "      <td>NaN</td>\n",
       "      <td>2.507435</td>\n",
       "    </tr>\n",
       "    <tr>\n",
       "      <th>50</th>\n",
       "      <td>glc_cl_smj-19</td>\n",
       "      <td>-2.009949</td>\n",
       "      <td>NaN</td>\n",
       "      <td>2.009949</td>\n",
       "    </tr>\n",
       "    <tr>\n",
       "      <th>99</th>\n",
       "      <td>lit_cl_smj-4</td>\n",
       "      <td>1.792792</td>\n",
       "      <td>NaN</td>\n",
       "      <td>1.792792</td>\n",
       "    </tr>\n",
       "    <tr>\n",
       "      <th>82</th>\n",
       "      <td>fmh_cl_smj-4</td>\n",
       "      <td>-1.647545</td>\n",
       "      <td>NaN</td>\n",
       "      <td>1.647545</td>\n",
       "    </tr>\n",
       "    <tr>\n",
       "      <th>...</th>\n",
       "      <td>...</td>\n",
       "      <td>...</td>\n",
       "      <td>...</td>\n",
       "      <td>...</td>\n",
       "    </tr>\n",
       "    <tr>\n",
       "      <th>7</th>\n",
       "      <td>GDP_capita</td>\n",
       "      <td>0.00001</td>\n",
       "      <td>GDP per capita of country, in 2020 US $</td>\n",
       "      <td>0.00001</td>\n",
       "    </tr>\n",
       "    <tr>\n",
       "      <th>23</th>\n",
       "      <td>pop_ct_usu</td>\n",
       "      <td>0.000005</td>\n",
       "      <td>Population count, thousands of people</td>\n",
       "      <td>0.000005</td>\n",
       "    </tr>\n",
       "    <tr>\n",
       "      <th>6</th>\n",
       "      <td>CATCH_SKM</td>\n",
       "      <td>0.000001</td>\n",
       "      <td>Area of upstream catchment draining into the r...</td>\n",
       "      <td>0.000001</td>\n",
       "    </tr>\n",
       "    <tr>\n",
       "      <th>3</th>\n",
       "      <td>DIS_AVG_LS</td>\n",
       "      <td>-0.000001</td>\n",
       "      <td>Long-term average discharge, in liters per second</td>\n",
       "      <td>0.000001</td>\n",
       "    </tr>\n",
       "    <tr>\n",
       "      <th>8</th>\n",
       "      <td>Population</td>\n",
       "      <td>0.0</td>\n",
       "      <td>Populatin of country</td>\n",
       "      <td>0.0</td>\n",
       "    </tr>\n",
       "  </tbody>\n",
       "</table>\n",
       "<p>108 rows × 4 columns</p>\n",
       "</div>"
      ],
      "text/plain": [
       "             feature     coeff  \\\n",
       "103    lit_cl_smj-11 -3.798087   \n",
       "69   pnv_cl_smj-13.0  2.507435   \n",
       "50     glc_cl_smj-19 -2.009949   \n",
       "99      lit_cl_smj-4  1.792792   \n",
       "82      fmh_cl_smj-4 -1.647545   \n",
       "..               ...       ...   \n",
       "7         GDP_capita   0.00001   \n",
       "23        pop_ct_usu  0.000005   \n",
       "6          CATCH_SKM  0.000001   \n",
       "3         DIS_AVG_LS -0.000001   \n",
       "8         Population       0.0   \n",
       "\n",
       "                                           description coeff_abs  \n",
       "103                                                NaN  3.798087  \n",
       "69                                                 NaN  2.507435  \n",
       "50                                                 NaN  2.009949  \n",
       "99                                                 NaN  1.792792  \n",
       "82                                                 NaN  1.647545  \n",
       "..                                                 ...       ...  \n",
       "7              GDP per capita of country, in 2020 US $   0.00001  \n",
       "23               Population count, thousands of people  0.000005  \n",
       "6    Area of upstream catchment draining into the r...  0.000001  \n",
       "3    Long-term average discharge, in liters per second  0.000001  \n",
       "8                                 Populatin of country       0.0  \n",
       "\n",
       "[108 rows x 4 columns]"
      ]
     },
     "execution_count": 19,
     "metadata": {},
     "output_type": "execute_result"
    }
   ],
   "source": [
    "CO2_summary[0]"
   ]
  },
  {
   "cell_type": "code",
   "execution_count": 40,
   "metadata": {},
   "outputs": [
    {
     "data": {
      "text/html": [
       "<div>\n",
       "<style scoped>\n",
       "    .dataframe tbody tr th:only-of-type {\n",
       "        vertical-align: middle;\n",
       "    }\n",
       "\n",
       "    .dataframe tbody tr th {\n",
       "        vertical-align: top;\n",
       "    }\n",
       "\n",
       "    .dataframe thead th {\n",
       "        text-align: right;\n",
       "    }\n",
       "</style>\n",
       "<table border=\"1\" class=\"dataframe\">\n",
       "  <thead>\n",
       "    <tr style=\"text-align: right;\">\n",
       "      <th></th>\n",
       "      <th>feature</th>\n",
       "      <th>coeff</th>\n",
       "      <th>description</th>\n",
       "      <th>coeff_abs</th>\n",
       "    </tr>\n",
       "  </thead>\n",
       "  <tbody>\n",
       "    <tr>\n",
       "      <th>2</th>\n",
       "      <td>DEPTH_M</td>\n",
       "      <td>-0.019005</td>\n",
       "      <td>Average depth of reservoir, in meters</td>\n",
       "      <td>0.019005</td>\n",
       "    </tr>\n",
       "    <tr>\n",
       "      <th>16</th>\n",
       "      <td>ire_pc_use</td>\n",
       "      <td>-0.014356</td>\n",
       "      <td>Irrigated area extent, in percent, in total wa...</td>\n",
       "      <td>0.014356</td>\n",
       "    </tr>\n",
       "    <tr>\n",
       "      <th>0</th>\n",
       "      <td>DAM_HGT_M</td>\n",
       "      <td>-0.012192</td>\n",
       "      <td>Height of dam structure, in meters</td>\n",
       "      <td>0.012192</td>\n",
       "    </tr>\n",
       "    <tr>\n",
       "      <th>18</th>\n",
       "      <td>swc_pc_uyr</td>\n",
       "      <td>-0.009322</td>\n",
       "      <td>Annual average of soil water content, in perce...</td>\n",
       "      <td>0.009322</td>\n",
       "    </tr>\n",
       "    <tr>\n",
       "      <th>10</th>\n",
       "      <td>inu_pc_umn</td>\n",
       "      <td>0.006119</td>\n",
       "      <td>Annual minimum inundation extent in total wate...</td>\n",
       "      <td>0.006119</td>\n",
       "    </tr>\n",
       "    <tr>\n",
       "      <th>13</th>\n",
       "      <td>ari_ix_uav</td>\n",
       "      <td>-0.005616</td>\n",
       "      <td>Global aridity index, in total watershed upstr...</td>\n",
       "      <td>0.005616</td>\n",
       "    </tr>\n",
       "    <tr>\n",
       "      <th>17</th>\n",
       "      <td>pac_pc_use</td>\n",
       "      <td>-0.004098</td>\n",
       "      <td>Protected area extent, in percent, in total wa...</td>\n",
       "      <td>0.004098</td>\n",
       "    </tr>\n",
       "    <tr>\n",
       "      <th>15</th>\n",
       "      <td>pst_pc_use</td>\n",
       "      <td>-0.003118</td>\n",
       "      <td>Pasture extent, in percent, in total watershed...</td>\n",
       "      <td>0.003118</td>\n",
       "    </tr>\n",
       "    <tr>\n",
       "      <th>12</th>\n",
       "      <td>ari_ix_sav</td>\n",
       "      <td>-0.003113</td>\n",
       "      <td>Global aridity index, in the reach catchment</td>\n",
       "      <td>0.003113</td>\n",
       "    </tr>\n",
       "    <tr>\n",
       "      <th>14</th>\n",
       "      <td>for_pc_use</td>\n",
       "      <td>-0.002916</td>\n",
       "      <td>Forest cover extent, in percent, in total wate...</td>\n",
       "      <td>0.002916</td>\n",
       "    </tr>\n",
       "    <tr>\n",
       "      <th>22</th>\n",
       "      <td>hft_ix_u09</td>\n",
       "      <td>-0.00214</td>\n",
       "      <td>Average human footprint as of 2009, in percent...</td>\n",
       "      <td>0.00214</td>\n",
       "    </tr>\n",
       "    <tr>\n",
       "      <th>11</th>\n",
       "      <td>sgr_dk_sav</td>\n",
       "      <td>-0.002115</td>\n",
       "      <td>Stream gradient, in decimeters per km, along t...</td>\n",
       "      <td>0.002115</td>\n",
       "    </tr>\n",
       "    <tr>\n",
       "      <th>9</th>\n",
       "      <td>run_mm_syr</td>\n",
       "      <td>0.001625</td>\n",
       "      <td>Land surface runoff, in mm</td>\n",
       "      <td>0.001625</td>\n",
       "    </tr>\n",
       "    <tr>\n",
       "      <th>4</th>\n",
       "      <td>DOR_PC</td>\n",
       "      <td>0.001321</td>\n",
       "      <td>Degree of regulation in percent; equivalent to...</td>\n",
       "      <td>0.001321</td>\n",
       "    </tr>\n",
       "    <tr>\n",
       "      <th>5</th>\n",
       "      <td>ELEV_MASL</td>\n",
       "      <td>0.000791</td>\n",
       "      <td>Elevation of reservoir surface in meters above...</td>\n",
       "      <td>0.000791</td>\n",
       "    </tr>\n",
       "    <tr>\n",
       "      <th>1</th>\n",
       "      <td>AREA_SKM</td>\n",
       "      <td>0.000735</td>\n",
       "      <td>Surface area of reservoir</td>\n",
       "      <td>0.000735</td>\n",
       "    </tr>\n",
       "    <tr>\n",
       "      <th>23</th>\n",
       "      <td>hdi_ix_sav</td>\n",
       "      <td>-0.00054</td>\n",
       "      <td>Average human development index</td>\n",
       "      <td>0.00054</td>\n",
       "    </tr>\n",
       "    <tr>\n",
       "      <th>19</th>\n",
       "      <td>ero_kh_uav</td>\n",
       "      <td>0.000042</td>\n",
       "      <td>Soil erosion, in kg per hectare per year, in t...</td>\n",
       "      <td>0.000042</td>\n",
       "    </tr>\n",
       "    <tr>\n",
       "      <th>21</th>\n",
       "      <td>ppd_pk_uav</td>\n",
       "      <td>0.000034</td>\n",
       "      <td>Population density, people per km2</td>\n",
       "      <td>0.000034</td>\n",
       "    </tr>\n",
       "    <tr>\n",
       "      <th>24</th>\n",
       "      <td>CAP_MCM</td>\n",
       "      <td>0.000029</td>\n",
       "      <td>Maximum storage capacity of the reservoir, in ...</td>\n",
       "      <td>0.000029</td>\n",
       "    </tr>\n",
       "    <tr>\n",
       "      <th>7</th>\n",
       "      <td>GDP_capita</td>\n",
       "      <td>0.000011</td>\n",
       "      <td>GDP per capita of country, in 2020 US $</td>\n",
       "      <td>0.000011</td>\n",
       "    </tr>\n",
       "    <tr>\n",
       "      <th>20</th>\n",
       "      <td>pop_ct_usu</td>\n",
       "      <td>0.000003</td>\n",
       "      <td>Population count, thousands of people</td>\n",
       "      <td>0.000003</td>\n",
       "    </tr>\n",
       "    <tr>\n",
       "      <th>6</th>\n",
       "      <td>CATCH_SKM</td>\n",
       "      <td>0.000001</td>\n",
       "      <td>Area of upstream catchment draining into the r...</td>\n",
       "      <td>0.000001</td>\n",
       "    </tr>\n",
       "    <tr>\n",
       "      <th>3</th>\n",
       "      <td>DIS_AVG_LS</td>\n",
       "      <td>-0.000001</td>\n",
       "      <td>Long-term average discharge, in liters per second</td>\n",
       "      <td>0.000001</td>\n",
       "    </tr>\n",
       "    <tr>\n",
       "      <th>8</th>\n",
       "      <td>Population</td>\n",
       "      <td>0.0</td>\n",
       "      <td>Populatin of country</td>\n",
       "      <td>0.0</td>\n",
       "    </tr>\n",
       "  </tbody>\n",
       "</table>\n",
       "</div>"
      ],
      "text/plain": [
       "       feature     coeff                                        description  \\\n",
       "2      DEPTH_M -0.019005              Average depth of reservoir, in meters   \n",
       "16  ire_pc_use -0.014356  Irrigated area extent, in percent, in total wa...   \n",
       "0    DAM_HGT_M -0.012192                 Height of dam structure, in meters   \n",
       "18  swc_pc_uyr -0.009322  Annual average of soil water content, in perce...   \n",
       "10  inu_pc_umn  0.006119  Annual minimum inundation extent in total wate...   \n",
       "13  ari_ix_uav -0.005616  Global aridity index, in total watershed upstr...   \n",
       "17  pac_pc_use -0.004098  Protected area extent, in percent, in total wa...   \n",
       "15  pst_pc_use -0.003118  Pasture extent, in percent, in total watershed...   \n",
       "12  ari_ix_sav -0.003113       Global aridity index, in the reach catchment   \n",
       "14  for_pc_use -0.002916  Forest cover extent, in percent, in total wate...   \n",
       "22  hft_ix_u09  -0.00214  Average human footprint as of 2009, in percent...   \n",
       "11  sgr_dk_sav -0.002115  Stream gradient, in decimeters per km, along t...   \n",
       "9   run_mm_syr  0.001625                         Land surface runoff, in mm   \n",
       "4       DOR_PC  0.001321  Degree of regulation in percent; equivalent to...   \n",
       "5    ELEV_MASL  0.000791  Elevation of reservoir surface in meters above...   \n",
       "1     AREA_SKM  0.000735                          Surface area of reservoir   \n",
       "23  hdi_ix_sav  -0.00054                    Average human development index   \n",
       "19  ero_kh_uav  0.000042  Soil erosion, in kg per hectare per year, in t...   \n",
       "21  ppd_pk_uav  0.000034                 Population density, people per km2   \n",
       "24     CAP_MCM  0.000029  Maximum storage capacity of the reservoir, in ...   \n",
       "7   GDP_capita  0.000011            GDP per capita of country, in 2020 US $   \n",
       "20  pop_ct_usu  0.000003              Population count, thousands of people   \n",
       "6    CATCH_SKM  0.000001  Area of upstream catchment draining into the r...   \n",
       "3   DIS_AVG_LS -0.000001  Long-term average discharge, in liters per second   \n",
       "8   Population       0.0                               Populatin of country   \n",
       "\n",
       "   coeff_abs  \n",
       "2   0.019005  \n",
       "16  0.014356  \n",
       "0   0.012192  \n",
       "18  0.009322  \n",
       "10  0.006119  \n",
       "13  0.005616  \n",
       "17  0.004098  \n",
       "15  0.003118  \n",
       "12  0.003113  \n",
       "14  0.002916  \n",
       "22   0.00214  \n",
       "11  0.002115  \n",
       "9   0.001625  \n",
       "4   0.001321  \n",
       "5   0.000791  \n",
       "1   0.000735  \n",
       "23   0.00054  \n",
       "19  0.000042  \n",
       "21  0.000034  \n",
       "24  0.000029  \n",
       "7   0.000011  \n",
       "20  0.000003  \n",
       "6   0.000001  \n",
       "3   0.000001  \n",
       "8        0.0  "
      ]
     },
     "execution_count": 40,
     "metadata": {},
     "output_type": "execute_result"
    }
   ],
   "source": [
    "CO2_summary[0.5]"
   ]
  },
  {
   "cell_type": "markdown",
   "metadata": {},
   "source": [
    "### Change in Fish per GWH"
   ]
  },
  {
   "cell_type": "code",
   "execution_count": 21,
   "metadata": {},
   "outputs": [
    {
     "data": {
      "text/plain": [
       "(977, 141)"
      ]
     },
     "execution_count": 21,
     "metadata": {},
     "output_type": "execute_result"
    }
   ],
   "source": [
    "# Filter for dams with fish and power information\n",
    "fish_data = data[data['fish_per_GWH'].apply(lambda x: not pd.isna(x))]\n",
    "fish_data = fish_data[features]\n",
    "fish_data.shape"
   ]
  },
  {
   "cell_type": "code",
   "execution_count": 22,
   "metadata": {},
   "outputs": [],
   "source": [
    "# Generate the test and training data \n",
    "X = fish_data.drop(columns=['fish_per_GWH'], inplace=False)\n",
    "y = np.log(np.ceil(np.abs(fish_data['fish_per_GWH']))) * np.sign(fish_data['fish_per_GWH'])\n",
    "X_train, X_test, y_train, y_test = train_test_split(X, y, test_size=0.3, random_state=0)"
   ]
  },
  {
   "cell_type": "code",
   "execution_count": 23,
   "metadata": {},
   "outputs": [],
   "source": [
    "# Check for features containing NAs\n",
    "nas = X.isnull().sum()\n",
    "nas = nas[nas != 0]"
   ]
  },
  {
   "cell_type": "code",
   "execution_count": 24,
   "metadata": {},
   "outputs": [],
   "source": [
    "# For now, drop columns with NAs. Could potentially use imputation\n",
    "X.drop(columns=list(nas.index), inplace=True)\n",
    "X_train, X_test, y_train, y_test = train_test_split(X, y, test_size=0.3, random_state=42)"
   ]
  },
  {
   "cell_type": "code",
   "execution_count": 25,
   "metadata": {},
   "outputs": [],
   "source": [
    "# Standardize the data (i.e. set mean to 0 and std to 1)\n",
    "sc = StandardScaler()\n",
    "X_train = sc.fit_transform(X_train)\n",
    "X_test = sc.transform (X_test)"
   ]
  },
  {
   "cell_type": "code",
   "execution_count": 34,
   "metadata": {},
   "outputs": [],
   "source": [
    "# Define alphas\n",
    "alphas = [1, 0.5, 0.1, 0.05, 0.01, 0]"
   ]
  },
  {
   "cell_type": "code",
   "execution_count": 35,
   "metadata": {},
   "outputs": [
    {
     "name": "stderr",
     "output_type": "stream",
     "text": [
      "/var/folders/j2/hzydqpsj70x2_l0y6kvd0v8w0000gn/T/ipykernel_66585/3246559428.py:12: UserWarning: With alpha=0, this algorithm does not converge well. You are advised to use the LinearRegression estimator\n",
      "  reg.fit(X_train, y_train)\n",
      "/Users/green/opt/anaconda3/lib/python3.8/site-packages/sklearn/linear_model/_coordinate_descent.py:647: UserWarning: Coordinate descent with no regularization may lead to unexpected results and is discouraged.\n",
      "  model = cd_fast.enet_coordinate_descent(\n",
      "/Users/green/opt/anaconda3/lib/python3.8/site-packages/sklearn/linear_model/_coordinate_descent.py:647: ConvergenceWarning: Objective did not converge. You might want to increase the number of iterations, check the scale of the features or consider increasing regularisation. Duality gap: 2.203e+02, tolerance: 1.175e-01 Linear regression models with null weight for the l1 regularization term are more efficiently fitted using one of the solvers implemented in sklearn.linear_model.Ridge/RidgeCV instead.\n",
      "  model = cd_fast.enet_coordinate_descent(\n"
     ]
    }
   ],
   "source": [
    "# Train models and record R2 values and the number of parameters\n",
    "fish_test_r2s = np.zeros(len(alphas))\n",
    "fish_train_r2s = np.zeros(len(alphas))\n",
    "fish_n_params = np.zeros(len(alphas))\n",
    "fish_coeffs = {}\n",
    "fish_y_pred_test = {}\n",
    "fish_y_pred_train = {}\n",
    "\n",
    "for i in range(len(alphas)):\n",
    "    alpha = alphas[i]\n",
    "    reg = linear_model.Lasso(alpha=alpha)\n",
    "    reg.fit(X_train, y_train)    \n",
    "    fish_test_r2s[i] = reg.score(X_test, y_test)\n",
    "    fish_train_r2s[i] = reg.score(X_train, y_train)\n",
    "    fish_y_pred_test[alpha] = reg.predict(X_test)\n",
    "    fish_y_pred_train[alpha] = reg.predict(X_train)\n",
    "    fish_coeffs[alpha] = reg.coef_\n",
    "    fish_n_params[i] = len(fish_coeffs[alpha][fish_coeffs[alpha] != 0])"
   ]
  },
  {
   "cell_type": "code",
   "execution_count": 36,
   "metadata": {},
   "outputs": [
    {
     "data": {
      "image/png": "[encoded data removed]",
      "text/plain": [
       "<Figure size 864x432 with 2 Axes>"
      ]
     },
     "metadata": {
      "needs_background": "light"
     },
     "output_type": "display_data"
    }
   ],
   "source": [
    "# Plot the y-values verus the predicted y-values for the regular regression\n",
    "fig = plt.figure(figsize=(12,6))\n",
    "plt.subplot(1,2,2)\n",
    "plt.scatter(y_train, fish_y_pred_train[alphas[4]], alpha=0.5, c='lightgrey')\n",
    "plt.scatter(y_test, fish_y_pred_test[alphas[4]], alpha=0.5)\n",
    "plt.xlabel('y')\n",
    "plt.ylabel('y pred')\n",
    "plt.title('Test Data')\n",
    "\n",
    "plt.subplot(1,2,1)\n",
    "plt.scatter(y_train, fish_y_pred_train[alphas[4]], alpha=0.5)\n",
    "plt.xlabel('y')\n",
    "plt.ylabel('y pred')\n",
    "plt.title('Training Data')\n",
    "plt.show()\n"
   ]
  },
  {
   "cell_type": "code",
   "execution_count": 37,
   "metadata": {},
   "outputs": [
    {
     "data": {
      "image/png": "[encoded data removed]",
      "text/plain": [
       "<Figure size 864x432 with 2 Axes>"
      ]
     },
     "metadata": {
      "needs_background": "light"
     },
     "output_type": "display_data"
    }
   ],
   "source": [
    "# Plot the R2 values of the models\n",
    "fig = plt.figure(figsize=(12,6))\n",
    "plt.subplot(1,2,1)\n",
    "plt.scatter(fish_n_params, fish_train_r2s)\n",
    "for i in range(len(fish_n_params)):\n",
    "    plt.text(fish_n_params[i], fish_train_r2s[i], s=alphas[i])\n",
    "plt.xlabel('Number of parameters')\n",
    "plt.ylabel('$R^2$')\n",
    "plt.title('Training Data')\n",
    "plt.axhline(0, c='k')\n",
    "plt.ylim([-0.1,1])\n",
    "\n",
    "plt.subplot(1,2,2)\n",
    "plt.scatter(fish_n_params, fish_test_r2s)\n",
    "for i in range(len(fish_n_params)):\n",
    "    plt.text(fish_n_params[i], fish_test_r2s[i], s=alphas[i])\n",
    "plt.xlabel('Number of parameters')\n",
    "plt.ylabel('$R^2$')\n",
    "plt.title('Test Data')\n",
    "plt.axhline(0, c='k')\n",
    "plt.ylim([-0.1,1])\n",
    "plt.show()\n"
   ]
  },
  {
   "cell_type": "code",
   "execution_count": 38,
   "metadata": {},
   "outputs": [
    {
     "data": {
      "text/plain": [
       "0.624961458230082"
      ]
     },
     "execution_count": 38,
     "metadata": {},
     "output_type": "execute_result"
    }
   ],
   "source": [
    "max(fish_train_r2s)"
   ]
  },
  {
   "cell_type": "code",
   "execution_count": 39,
   "metadata": {},
   "outputs": [
    {
     "data": {
      "text/plain": [
       "0.5086820597341412"
      ]
     },
     "execution_count": 39,
     "metadata": {},
     "output_type": "execute_result"
    }
   ],
   "source": [
    "max(fish_test_r2s)"
   ]
  },
  {
   "cell_type": "code",
   "execution_count": 32,
   "metadata": {},
   "outputs": [],
   "source": [
    "# Create fish_summary dataframes\n",
    "fish_summary = {}\n",
    "for alpha in alphas:\n",
    "    fish_summary[alpha] = pd.DataFrame(columns=['feature', 'coeff'], data=np.array([X.columns[fish_coeffs[alpha] > 0], fish_coeffs[alpha][fish_coeffs[alpha] > 0]]).T)\n",
    "    fish_summary[alpha] = fish_summary[alpha].join(metadata, on='feature')\n",
    "    fish_summary[alpha]['coeff_abs'] = fish_summary[alpha]['coeff'].apply(np.abs)\n",
    "    fish_summary[alpha].sort_values(by='coeff_abs', inplace=True, ascending=False)"
   ]
  },
  {
   "cell_type": "code",
   "execution_count": 33,
   "metadata": {},
   "outputs": [
    {
     "data": {
      "text/html": [
       "<div>\n",
       "<style scoped>\n",
       "    .dataframe tbody tr th:only-of-type {\n",
       "        vertical-align: middle;\n",
       "    }\n",
       "\n",
       "    .dataframe tbody tr th {\n",
       "        vertical-align: top;\n",
       "    }\n",
       "\n",
       "    .dataframe thead th {\n",
       "        text-align: right;\n",
       "    }\n",
       "</style>\n",
       "<table border=\"1\" class=\"dataframe\">\n",
       "  <thead>\n",
       "    <tr style=\"text-align: right;\">\n",
       "      <th></th>\n",
       "      <th>feature</th>\n",
       "      <th>coeff</th>\n",
       "      <th>description</th>\n",
       "      <th>coeff_abs</th>\n",
       "    </tr>\n",
       "  </thead>\n",
       "  <tbody>\n",
       "    <tr>\n",
       "      <th>0</th>\n",
       "      <td>DOR_PC</td>\n",
       "      <td>0.597949</td>\n",
       "      <td>Degree of regulation in percent; equivalent to...</td>\n",
       "      <td>0.597949</td>\n",
       "    </tr>\n",
       "    <tr>\n",
       "      <th>8</th>\n",
       "      <td>wet_cl_smj-11.0</td>\n",
       "      <td>0.246477</td>\n",
       "      <td>NaN</td>\n",
       "      <td>0.246477</td>\n",
       "    </tr>\n",
       "    <tr>\n",
       "      <th>1</th>\n",
       "      <td>ELEV_MASL</td>\n",
       "      <td>0.140299</td>\n",
       "      <td>Elevation of reservoir surface in meters above...</td>\n",
       "      <td>0.140299</td>\n",
       "    </tr>\n",
       "    <tr>\n",
       "      <th>9</th>\n",
       "      <td>fmh_cl_smj-8</td>\n",
       "      <td>0.092259</td>\n",
       "      <td>NaN</td>\n",
       "      <td>0.092259</td>\n",
       "    </tr>\n",
       "    <tr>\n",
       "      <th>3</th>\n",
       "      <td>ero_kh_uav</td>\n",
       "      <td>0.078677</td>\n",
       "      <td>Soil erosion, in kg per hectare per year, in t...</td>\n",
       "      <td>0.078677</td>\n",
       "    </tr>\n",
       "    <tr>\n",
       "      <th>5</th>\n",
       "      <td>clz_cl_smj-15</td>\n",
       "      <td>0.046936</td>\n",
       "      <td>NaN</td>\n",
       "      <td>0.046936</td>\n",
       "    </tr>\n",
       "    <tr>\n",
       "      <th>10</th>\n",
       "      <td>lit_cl_smj-3</td>\n",
       "      <td>0.046304</td>\n",
       "      <td>NaN</td>\n",
       "      <td>0.046304</td>\n",
       "    </tr>\n",
       "    <tr>\n",
       "      <th>2</th>\n",
       "      <td>inu_pc_umn</td>\n",
       "      <td>0.028771</td>\n",
       "      <td>Annual minimum inundation extent in total wate...</td>\n",
       "      <td>0.028771</td>\n",
       "    </tr>\n",
       "    <tr>\n",
       "      <th>7</th>\n",
       "      <td>glc_cl_smj-1</td>\n",
       "      <td>0.014467</td>\n",
       "      <td>NaN</td>\n",
       "      <td>0.014467</td>\n",
       "    </tr>\n",
       "    <tr>\n",
       "      <th>6</th>\n",
       "      <td>clz_cl_smj-6</td>\n",
       "      <td>0.010272</td>\n",
       "      <td>NaN</td>\n",
       "      <td>0.010272</td>\n",
       "    </tr>\n",
       "    <tr>\n",
       "      <th>4</th>\n",
       "      <td>clz_cl_smj-17</td>\n",
       "      <td>0.006207</td>\n",
       "      <td>NaN</td>\n",
       "      <td>0.006207</td>\n",
       "    </tr>\n",
       "  </tbody>\n",
       "</table>\n",
       "</div>"
      ],
      "text/plain": [
       "            feature     coeff  \\\n",
       "0            DOR_PC  0.597949   \n",
       "8   wet_cl_smj-11.0  0.246477   \n",
       "1         ELEV_MASL  0.140299   \n",
       "9      fmh_cl_smj-8  0.092259   \n",
       "3        ero_kh_uav  0.078677   \n",
       "5     clz_cl_smj-15  0.046936   \n",
       "10     lit_cl_smj-3  0.046304   \n",
       "2        inu_pc_umn  0.028771   \n",
       "7      glc_cl_smj-1  0.014467   \n",
       "6      clz_cl_smj-6  0.010272   \n",
       "4     clz_cl_smj-17  0.006207   \n",
       "\n",
       "                                          description coeff_abs  \n",
       "0   Degree of regulation in percent; equivalent to...  0.597949  \n",
       "8                                                 NaN  0.246477  \n",
       "1   Elevation of reservoir surface in meters above...  0.140299  \n",
       "9                                                 NaN  0.092259  \n",
       "3   Soil erosion, in kg per hectare per year, in t...  0.078677  \n",
       "5                                                 NaN  0.046936  \n",
       "10                                                NaN  0.046304  \n",
       "2   Annual minimum inundation extent in total wate...  0.028771  \n",
       "7                                                 NaN  0.014467  \n",
       "6                                                 NaN  0.010272  \n",
       "4                                                 NaN  0.006207  "
      ]
     },
     "execution_count": 33,
     "metadata": {},
     "output_type": "execute_result"
    }
   ],
   "source": [
    "fish_summary[0.05]"
   ]
  }
 ],
 "metadata": {
  "kernelspec": {
   "display_name": "Python 3 (ipykernel)",
   "language": "python",
   "name": "python3"
  },
  "language_info": {
   "codemirror_mode": {
    "name": "ipython",
    "version": 3
   },
   "file_extension": ".py",
   "mimetype": "text/x-python",
   "name": "python",
   "nbconvert_exporter": "python",
   "pygments_lexer": "ipython3",
   "version": "3.8.12"
  }
 },
 "nbformat": 4,
 "nbformat_minor": 4
}
