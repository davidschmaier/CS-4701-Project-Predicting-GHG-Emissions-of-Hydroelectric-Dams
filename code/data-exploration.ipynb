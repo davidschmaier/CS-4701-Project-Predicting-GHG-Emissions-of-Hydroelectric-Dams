{
 "cells": [
  {
   "cell_type": "markdown",
   "metadata": {},
   "source": [
    "## Hydropower Dam Data Exploration"
   ]
  },
  {
   "cell_type": "code",
   "execution_count": 2,
   "metadata": {},
   "outputs": [],
   "source": [
    "import numpy as np\n",
    "import pandas as pd\n",
    "from matplotlib import pyplot as plt"
   ]
  },
  {
   "cell_type": "code",
   "execution_count": 2,
   "metadata": {},
   "outputs": [],
   "source": [
    "# Load the data\n",
    "metadata = pd.read_csv('metafile.csv')\n",
    "data = pd.read_csv('global_dams.csv')"
   ]
  },
  {
   "cell_type": "code",
   "execution_count": 11,
   "metadata": {},
   "outputs": [
    {
     "data": {
      "text/plain": [
       "(7320, 69)"
      ]
     },
     "execution_count": 11,
     "metadata": {},
     "output_type": "execute_result"
    }
   ],
   "source": [
    "# Check the number of dams/features\n",
    "data.shape"
   ]
  },
  {
   "cell_type": "code",
   "execution_count": 6,
   "metadata": {},
   "outputs": [
    {
     "data": {
      "text/plain": [
       "Index(['GRAND_ID', 'DAM_NAME', 'MAIN_BASIN', 'SUB_BASIN', 'NEAR_CITY',\n",
       "       'COUNTRY', 'SEC_CNTRY', 'YEAR', 'REM_YEAR', 'DAM_HGT_M', 'DAM_LEN_M',\n",
       "       'AREA_SKM', 'CAP_MCM', 'DEPTH_M', 'DIS_AVG_LS', 'DOR_PC', 'ELEV_MASL',\n",
       "       'CATCH_SKM', 'USE_IRRI', 'USE_ELEC', 'USE_SUPP', 'USE_FCON', 'USE_RECR',\n",
       "       'USE_NAVI', 'USE_FISH', 'USE_PCON', 'USE_LIVE', 'USE_OTHR', 'MAIN_USE',\n",
       "       'LAKE_CTRL', 'LONG_DD', 'LAT_DD', 'COUNTRY_1', 'GDP_capita',\n",
       "       'Population', 'RES_YLD_TN', 'RES_LSS_TN', 'RES_BAL', 'FISH_RATIO',\n",
       "       'CO2EQ', 'INSCAP_MW', 'GEN_GWH_YR', 'run_mm_syr', 'inu_pc_umn',\n",
       "       'sgr_dk_sav', 'clz_cl_smj', 'ari_ix_sav', 'ari_ix_uav', 'glc_cl_smj',\n",
       "       'pnv_cl_smj', 'wet_cl_smj', 'for_pc_use', 'crp_pc_use', 'pst_pc_use',\n",
       "       'ire_pc_use', 'gla_pc_use', 'prm_pc_use', 'pac_pc_use', 'fmh_cl_smj',\n",
       "       'soc_th_uav', 'swc_pc_uyr', 'lit_cl_smj', 'ero_kh_uav', 'pop_ct_usu',\n",
       "       'ppd_pk_uav', 'urb_pc_use', 'hft_ix_u09', 'hdi_ix_sav', 'LAT_KEY'],\n",
       "      dtype='object')"
      ]
     },
     "execution_count": 6,
     "metadata": {},
     "output_type": "execute_result"
    }
   ],
   "source": [
    "# Look at the names of the features. Below are the names of the benefit/impact metrics \n",
    "# based on Rafa's email:\n",
    "#      - CAP_MCM - Storage capacity (benefit metric for water supply/irrigation dams)\n",
    "#      - GEN_GWH_YR - Gigawatts generated per year (benefit metric for hydropower dams)\n",
    "#      - FISH_RATIO - Est. fisheries change as the ratio of fisheries gain / fishereis loss in tonnes\n",
    "#      - CO2EQ - Est. CO2 emmisions in g/m^2.year\n",
    "data.columns"
   ]
  },
  {
   "cell_type": "code",
   "execution_count": 21,
   "metadata": {},
   "outputs": [
    {
     "name": "stdout",
     "output_type": "stream",
     "text": [
      "CAP_MCM: 9 NaNs\n",
      "GEN_GWH_YR: 6843 NaNs\n",
      "FISH_RATIO: 1426 NaNs\n",
      "CO2EQ: 2507 NaNs\n"
     ]
    }
   ],
   "source": [
    "# Print the number of missing values for each metric\n",
    "for column in ['CAP_MCM', 'GEN_GWH_YR', 'FISH_RATIO', 'CO2EQ']:\n",
    "    print(\"{}: {} NaNs\".format(column, data[column].isna().sum()))"
   ]
  },
  {
   "cell_type": "code",
   "execution_count": 66,
   "metadata": {},
   "outputs": [
    {
     "data": {
      "text/plain": [
       "477"
      ]
     },
     "execution_count": 66,
     "metadata": {},
     "output_type": "execute_result"
    }
   ],
   "source": [
    "7320 - 6843"
   ]
  },
  {
   "cell_type": "code",
   "execution_count": 31,
   "metadata": {},
   "outputs": [
    {
     "data": {
      "text/plain": [
       "(453, 69)"
      ]
     },
     "execution_count": 31,
     "metadata": {},
     "output_type": "execute_result"
    }
   ],
   "source": [
    "# Filter for dams where the power benefit and GHG and fisheries impacts are not NA\n",
    "data_filt = data[(~data['GEN_GWH_YR'].isna()) & \n",
    "                 (~data['FISH_RATIO'].isna()) & \n",
    "                 (~data['CO2EQ'].isna())].copy()\n",
    "data_filt.shape"
   ]
  },
  {
   "cell_type": "code",
   "execution_count": 69,
   "metadata": {},
   "outputs": [],
   "source": [
    "# Add columns to data_filt for fisheries impact and CO2 emissions per GWH generated\n",
    "data_filt['CO2_per_GWH'] = data_filt.apply(lambda x: x['CO2EQ']/x['GEN_GWH_YR'], axis=1)\n",
    "data_filt['FISH_RATIO_per_GWH'] = data_filt.apply(lambda x: (1/x['FISH_RATIO'])/x['GEN_GWH_YR'], axis=1)"
   ]
  },
  {
   "cell_type": "code",
   "execution_count": 70,
   "metadata": {},
   "outputs": [
    {
     "data": {
      "image/png": "[encoded data removed]",
      "text/plain": [
       "<Figure size 432x432 with 1 Axes>"
      ]
     },
     "metadata": {
      "needs_background": "light"
     },
     "output_type": "display_data"
    }
   ],
   "source": [
    "# Plot fisheries gain versus\n",
    "fig = plt.figure(figsize=(6,6))\n",
    "plt.scatter(data_filt['CO2_per_GWH'], data_filt['FISH_RATIO_per_GWH'])\n",
    "plt.xlabel('CO$_2$ g/m$^2$ per GWH')\n",
    "plt.ylabel('log(fisheries loss/fisheries gain)/GWH')\n",
    "plt.show()"
   ]
  },
  {
   "cell_type": "code",
   "execution_count": 65,
   "metadata": {},
   "outputs": [
    {
     "data": {
      "image/png": "[encoded data removed]",
      "text/plain": [
       "<Figure size 432x288 with 1 Axes>"
      ]
     },
     "metadata": {
      "needs_background": "light"
     },
     "output_type": "display_data"
    }
   ],
   "source": [
    "# Plot a histogram of CO2 grams/m^2.year by order of magnitude\n",
    "plt.hist(np.log10(data_filt['CO2_per_GWH']), bins=np.arange(-2,4,1))\n",
    "plt.xlabel('$\\log_{10}$(CO$_2$ per GWH)')\n",
    "plt.xticks(ticks=np.arange(-2,4,1) + 0.5, labels=np.arange(-2,4,1))\n",
    "plt.ylabel('Number of Dams')\n",
    "plt.xlim([-2.5, 4])\n",
    "plt.title('Histogram of CO$_2$ g/m$^2 \\cdot$year per GWH')\n",
    "plt.show()"
   ]
  }
 ],
 "metadata": {
  "kernelspec": {
   "display_name": "Python 3",
   "language": "python",
   "name": "python3"
  },
  "language_info": {
   "codemirror_mode": {
    "name": "ipython",
    "version": 3
   },
   "file_extension": ".py",
   "mimetype": "text/x-python",
   "name": "python",
   "nbconvert_exporter": "python",
   "pygments_lexer": "ipython3",
   "version": "3.8.5"
  }
 },
 "nbformat": 4,
 "nbformat_minor": 4
}
