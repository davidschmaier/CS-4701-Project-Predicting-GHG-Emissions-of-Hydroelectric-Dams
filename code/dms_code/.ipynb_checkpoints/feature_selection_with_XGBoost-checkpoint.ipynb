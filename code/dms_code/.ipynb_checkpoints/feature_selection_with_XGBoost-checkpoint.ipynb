{
 "cells": [
  {
   "cell_type": "markdown",
   "metadata": {},
   "source": [
    "## Test the Performance of Sparse Linear Regression\n",
    "\n",
    "Test the performance of regular/L1 regularized linear regression."
   ]
  },
  {
   "cell_type": "code",
   "execution_count": 1,
   "metadata": {},
   "outputs": [],
   "source": [
    "import numpy as np\n",
    "import os, sys, copy\n",
    "import pandas as pd\n",
    "from matplotlib import pyplot as plt\n",
    "import seaborn as sns\n",
    "from sklearn import linear_model\n",
    "from scipy.stats import pearsonr\n",
    "from sklearn.utils.multiclass import type_of_target\n",
    "from sklearn.model_selection import train_test_split\n",
    "from sklearn.preprocessing import StandardScaler\n",
    "from sklearn.ensemble import RandomForestRegressor\n",
    "from sklearn.model_selection import KFold\n",
    "from sklearn.inspection import permutation_importance\n",
    "from sklearn.ensemble import GradientBoostingRegressor\n",
    "from genetic_selection import GeneticSelectionCV\n",
    "from sklearn.decomposition import KernelPCA\n",
    "import time"
   ]
  },
  {
   "cell_type": "code",
   "execution_count": 2,
   "metadata": {
    "scrolled": false
   },
   "outputs": [
    {
     "name": "stderr",
     "output_type": "stream",
     "text": [
      "/Users/davidmschmaier/opt/anaconda3/lib/python3.8/site-packages/IPython/core/interactiveshell.py:3146: DtypeWarning: Columns (4,7,26,27) have mixed types.Specify dtype option on import or set low_memory=False.\n",
      "  has_raised = await self.run_ast_nodes(code_ast.body, cell_name,\n"
     ]
    }
   ],
   "source": [
    "'''\n",
    "filter out:\n",
    "1. NAs\n",
    "2. fish related\n",
    "3. bad features determined by their function\n",
    "'''\n",
    "\n",
    "# Load the data\n",
    "metadata = pd.read_csv('../../data/metafile_1026.csv', header=None, names=['feature', 'description'])\n",
    "original_dataset = pd.read_csv('../../data/global_dams_db_1026.csv', index_col='GRAND_ID').sort_values(by='GRAND_ID', axis='index')\n",
    "hydroatlas_feature_names = list(metadata['feature'])\n",
    "non_hydroatlas_data = original_dataset.drop(columns = hydroatlas_feature_names[45:71])\n",
    "\n",
    "atlas_level_1 = pd.read_csv('../../data/dams-atlas-merged/level01.csv', header=0, index_col='GRAND_ID').sort_values(by='GRAND_ID', axis='index').add_suffix('_L1')\n",
    "atlas_level_1 = atlas_level_1.drop(atlas_level_1.columns[:65], axis=1)\n",
    "atlas_level_2 = pd.read_csv('../../data/dams-atlas-merged/level02.csv', header=0, index_col='GRAND_ID').sort_values(by='GRAND_ID', axis='index').add_suffix('_L2')\n",
    "atlas_level_2 = atlas_level_2.drop(atlas_level_2.columns[:65], axis=1)\n",
    "atlas_level_3 = pd.read_csv('../../data/dams-atlas-merged/level03.csv', header=0, index_col='GRAND_ID').sort_values(by='GRAND_ID', axis='index').add_suffix('_L3')\n",
    "atlas_level_3 = atlas_level_3.drop(atlas_level_3.columns[:65], axis=1)\n",
    "atlas_level_4 = pd.read_csv('../../data/dams-atlas-merged/level04.csv', header=0, index_col='GRAND_ID').sort_values(by='GRAND_ID', axis='index').add_suffix('_L4')\n",
    "atlas_level_4 = atlas_level_4.drop(atlas_level_4.columns[:65], axis=1)\n",
    "atlas_level_5 = pd.read_csv('../../data/dams-atlas-merged/level05.csv', header=0, index_col='GRAND_ID').sort_values(by='GRAND_ID', axis='index').add_suffix('_L5')\n",
    "atlas_level_5 = atlas_level_5.drop(atlas_level_5.columns[:65], axis=1)\n",
    "atlas_level_6 = pd.read_csv('../../data/dams-atlas-merged/level06.csv', header=0, index_col='GRAND_ID').sort_values(by='GRAND_ID', axis='index').add_suffix('_L6')\n",
    "atlas_level_6 = atlas_level_6.drop(atlas_level_6.columns[:65], axis=1)\n",
    "atlas_level_7 = pd.read_csv('../../data/dams-atlas-merged/level07.csv', header=0, index_col='GRAND_ID').sort_values(by='GRAND_ID', axis='index').add_suffix('_L7')\n",
    "atlas_level_7 = atlas_level_7.drop(atlas_level_7.columns[:65], axis=1)\n",
    "atlas_level_8 = pd.read_csv('../../data/dams-atlas-merged/level08.csv', header=0, index_col='GRAND_ID').sort_values(by='GRAND_ID', axis='index').add_suffix('_L8')\n",
    "atlas_level_8 = atlas_level_8.drop(atlas_level_8.columns[:65], axis=1)\n",
    "atlas_level_9 = pd.read_csv('../../data/dams-atlas-merged/level09.csv', header=0, index_col='GRAND_ID').sort_values(by='GRAND_ID', axis='index').add_suffix('_L9')\n",
    "atlas_level_9 = atlas_level_9.drop(atlas_level_9.columns[:65], axis=1)\n",
    "atlas_level_10 = pd.read_csv('../../data/dams-atlas-merged/level10.csv', header=0, index_col='GRAND_ID').sort_values(by='GRAND_ID', axis='index').add_suffix('_L10')\n",
    "atlas_level_10 = atlas_level_10.drop(atlas_level_10.columns[:65], axis=1)\n",
    "atlas_level_11 = pd.read_csv('../../data/dams-atlas-merged/level11.csv', header=0, index_col='GRAND_ID').sort_values(by='GRAND_ID', axis='index').add_suffix('_L11')\n",
    "atlas_level_11 = atlas_level_11.drop(atlas_level_11.columns[:65], axis=1)\n",
    "atlas_level_12 = pd.read_csv('../../data/dams-atlas-merged/level12.csv', header=0, index_col='GRAND_ID').sort_values(by='GRAND_ID', axis='index').add_suffix('_L12')\n",
    "atlas_level_12 = atlas_level_12.drop(atlas_level_12.columns[:65], axis=1)\n",
    "\n",
    "'''\n",
    "print(non_hydroatlas_data.shape)\n",
    "print(atlas_level_1.shape)\n",
    "print(atlas_level_2.shape)\n",
    "print(atlas_level_3.shape)\n",
    "print(atlas_level_4.shape)\n",
    "print(atlas_level_5.shape)\n",
    "print(atlas_level_6.shape)\n",
    "print(atlas_level_7.shape)\n",
    "print(atlas_level_8.shape)\n",
    "print(atlas_level_9.shape)\n",
    "print(atlas_level_10.shape)\n",
    "print(atlas_level_11.shape)\n",
    "print(atlas_level_12.shape)\n",
    "'''\n",
    "\n",
    "#eliminate all dam rows not in hydroatlas data\n",
    "non_hydroatlas_dam_ids = set(non_hydroatlas_data.index)\n",
    "#print(atlas_level_10)\n",
    "#print(non_hydroatlas_data)\n",
    "all_dam_ids = [set(atlas_level_1.index), set(atlas_level_2.index), set(atlas_level_3.index), \n",
    "               set(atlas_level_4.index), set(atlas_level_5.index), set(atlas_level_6.index),\n",
    "              set(atlas_level_7.index), set(atlas_level_8.index), set(atlas_level_9.index),\n",
    "              set(atlas_level_10.index),set(atlas_level_11.index),set(atlas_level_12.index)]\n",
    "all_hydroatlas_ids = set.intersection(*all_dam_ids)\n",
    "#print(len(all_hydroatlas_ids))\n",
    "non_hydroatlas_data = non_hydroatlas_data.loc[non_hydroatlas_data.index.isin(all_hydroatlas_ids)]\n",
    "#print(non_hydroatlas_data.shape)\n",
    "\n",
    "#calculate peak and variance values for monthly features and delete monthly features\n",
    "monthly_feature_prefixes = ['tmp_dc', 'pre_mm', 'pet_mm', 'aet_mm', 'cmi_ix', 'snw_pc', 'swc_pc']\n",
    "res_level_data = [atlas_level_1, atlas_level_2, atlas_level_3, atlas_level_4, atlas_level_5, atlas_level_6, \n",
    "                  atlas_level_7, atlas_level_8, atlas_level_9, atlas_level_10, atlas_level_11, atlas_level_12]\n",
    "monthly_suffixes = ['01', '02', '03', '04', '05', '06', '07', '08', '09', '10', '11', '12']\n",
    "for monthly_feature in monthly_feature_prefixes:\n",
    "    for r_level in range(1,13):\n",
    "        res_level_data[r_level-1][f'{monthly_feature}_peak_L{r_level}'] = res_level_data[r_level-1][[f'{monthly_feature}_s{m_suffix}_L{r_level}' for m_suffix in monthly_suffixes]].max(axis=1)\n",
    "        res_level_data[r_level-1][f'{monthly_feature}_var_L{r_level}'] = res_level_data[r_level-1][[f'{monthly_feature}_s{m_suffix}_L{r_level}' for m_suffix in monthly_suffixes]].std(axis=1)\n",
    "        res_level_data[r_level-1].drop(columns = [f'{monthly_feature}_s{m_suffix}_L{r_level}' for m_suffix in monthly_suffixes], inplace = True)\n",
    "\n",
    "all_data = pd.concat([non_hydroatlas_data]+res_level_data, 1)\n",
    "\n",
    "#monthly features\n",
    "#tmp_dc_ (air temp)\n",
    "#pre_mm_ (precip)\n",
    "#pet_mm_ (potential evapotranspiration)\n",
    "#aet_mm_ (Actual Evapotranspiration)\n",
    "#cmi_ix_ (Climate Moisture Index)\n",
    "#snw_pc_ (Snow Cover Extent)\n",
    "#swc_pc_ (Soil Water Content)\n",
    "\n",
    "# Filter for dams with CO2 and power information\n",
    "all_data = all_data[all_data['CO2EQ_areal'].apply(lambda x: not pd.isna(x))]\n",
    "all_data = all_data[all_data['CO2EQ_total'].apply(lambda x: not pd.isna(x))]\n",
    "all_data = all_data[all_data['pred_GEN_GWH_YR'].apply(lambda x: not pd.isna(x))]\n",
    "\n",
    "original_dataset = original_dataset[original_dataset['CO2EQ_areal'].apply(lambda x: not pd.isna(x))]\n",
    "original_dataset = original_dataset[original_dataset['CO2EQ_total'].apply(lambda x: not pd.isna(x))]\n",
    "original_dataset = original_dataset[original_dataset['pred_GEN_GWH_YR'].apply(lambda x: not pd.isna(x))]\n",
    "#print(all_data.shape)\n",
    "                                                                                         \n",
    "#print(non_hydroatlas_data)\n",
    "#print(atlas_level_9)\n",
    "\n",
    "def useful(feature):\n",
    "    # Label cannot be used in feature\n",
    "    if feature == \"GEN_GWH_YR\" or feature == \"GEN_GWH_YR\" or feature[:4] == \"RES_\"or feature[:5] == \"CO2EQ\" or feature == \"FISH_RATIO\" or feature == \"CAP_MCM\":\n",
    "        return 0\n",
    "    # Seems ussless to me:\n",
    "    if feature == \"GRAND_ID\" or feature == \"DAM_NAME\" or feature == \"MAIN_BASIN\" or feature == \"SUB_BASIN\" or feature == \"NEAR_CITY\" or feature == \"COUNTRY\" or feature == \"SEC_CNTRY\" or feature == \"YEAR\" or feature == \"REM_YEAR\" or feature[:4] == \"USE_\" or feature == \"MAIN_USE\" or feature == \"LAKE_CTRL\" or feature == \"LONG_DD\" or feature == \"LAT_DD\" or feature == \"COUNTRY_1\":\n",
    "        return 0\n",
    "    \n",
    "    # debating features\n",
    "    if feature == \"LAT_KEY\" or feature[:5] == \"pred_\":\n",
    "        return 0\n",
    "    \n",
    "    # too many NA\n",
    "    if feature == \"INSCAP_MW\" or feature == \"CO2_areal_per_GWH\" or feature == \"CO2_total_per_GWH\" or feature == \"fish_per_GWH\" or feature == \"MWH_per_sqkm\" or feature == \"capacity_factor\" :\n",
    "        return 0\n",
    "    return 1\n",
    "\n",
    "y = all_data.apply(lambda x: x['CO2EQ_total']/x['pred_GEN_GWH_YR'], axis=1)\n",
    "y_orig = original_dataset.apply(lambda x: x['CO2EQ_total']/x['pred_GEN_GWH_YR'], axis=1)\n",
    "\n",
    "# drop non-useful features\n",
    "cols_to_drop = [x for x in all_data.columns if not useful(x)]\n",
    "all_data.drop(columns=cols_to_drop, inplace = True)\n",
    "\n",
    "cols_to_drop = [x for x in original_dataset.columns if not useful(x)]\n",
    "original_dataset.drop(columns=cols_to_drop, inplace = True)\n",
    "\n",
    "#print(all_data.shape)\n",
    "\n",
    "# For now, drop columns with NAs. Could potentially use imputation\n",
    "nas = all_data.isnull().sum()\n",
    "nas = nas[nas != 0]\n",
    "all_data.drop(columns=list(nas.index), inplace=True)\n",
    "\n",
    "nas = original_dataset.isnull().sum()\n",
    "nas = nas[nas != 0]\n",
    "original_dataset.drop(columns=list(nas.index), inplace=True)\n",
    "\n",
    "#print(all_data.shape)\n",
    "#sns.heatmap(all_data.isnull(), cbar=False, cmap=\"YlGnBu\")\n",
    "\n",
    "#Convert LAT_KEY column categories to numeric\n",
    "#print(all_data['LAT_KEY'].unique())\n",
    "#all_data.LAT_KEY = all_data.LAT_KEY.astype(\"category\").cat.codes\n",
    "\n",
    "all_data.to_csv('all_data.csv')\n",
    "\n",
    "original_dataset.to_csv('original_dataset.csv')\n",
    "\n",
    "X = all_data\n",
    "X_train, X_test, y_train, y_test = train_test_split(X, y, test_size=0.2, random_state=42)\n",
    "\n",
    "X_orig = original_dataset\n",
    "X_orig_train, X_orig_test, y_orig_train, y_orig_test = train_test_split(X_orig, y_orig, test_size=0.2, random_state=42)\n",
    "#print(all_data.shape)\n",
    "#print(X_orig.shape)\n",
    "\n",
    "\n"
   ]
  },
  {
   "cell_type": "code",
   "execution_count": 43,
   "metadata": {},
   "outputs": [
    {
     "name": "stdout",
     "output_type": "stream",
     "text": [
      "(859, 2541)\n"
     ]
    }
   ],
   "source": [
    "print(all_data.shape)"
   ]
  },
  {
   "cell_type": "code",
   "execution_count": 44,
   "metadata": {},
   "outputs": [
    {
     "ename": "ValueError",
     "evalue": "Length of values (137) does not match length of index (2541)",
     "output_type": "error",
     "traceback": [
      "\u001b[0;31m---------------------------------------------------------------------------\u001b[0m",
      "\u001b[0;31mValueError\u001b[0m                                Traceback (most recent call last)",
      "\u001b[0;32m<ipython-input-44-576d7fe7e03b>\u001b[0m in \u001b[0;36m<module>\u001b[0;34m\u001b[0m\n\u001b[1;32m      6\u001b[0m     \u001b[0mforest\u001b[0m \u001b[0;34m=\u001b[0m \u001b[0mRandomForestRegressor\u001b[0m\u001b[0;34m(\u001b[0m\u001b[0;34m)\u001b[0m\u001b[0;34m\u001b[0m\u001b[0;34m\u001b[0m\u001b[0m\n\u001b[1;32m      7\u001b[0m     \u001b[0mforest\u001b[0m\u001b[0;34m.\u001b[0m\u001b[0mfit\u001b[0m\u001b[0;34m(\u001b[0m\u001b[0mX_train\u001b[0m\u001b[0;34m.\u001b[0m\u001b[0miloc\u001b[0m\u001b[0;34m[\u001b[0m\u001b[0mtrain_index\u001b[0m\u001b[0;34m]\u001b[0m\u001b[0;34m,\u001b[0m \u001b[0my_train\u001b[0m\u001b[0;34m.\u001b[0m\u001b[0miloc\u001b[0m\u001b[0;34m[\u001b[0m\u001b[0mtrain_index\u001b[0m\u001b[0;34m]\u001b[0m\u001b[0;34m)\u001b[0m\u001b[0;34m\u001b[0m\u001b[0;34m\u001b[0m\u001b[0m\n\u001b[0;32m----> 8\u001b[0;31m     \u001b[0mgini_improvements\u001b[0m\u001b[0;34m[\u001b[0m\u001b[0;34mf'Trial {trial_number}'\u001b[0m\u001b[0;34m]\u001b[0m \u001b[0;34m=\u001b[0m \u001b[0mforest\u001b[0m\u001b[0;34m.\u001b[0m\u001b[0mfeature_importances_\u001b[0m\u001b[0;34m\u001b[0m\u001b[0;34m\u001b[0m\u001b[0m\n\u001b[0m\u001b[1;32m      9\u001b[0m \u001b[0;34m\u001b[0m\u001b[0m\n\u001b[1;32m     10\u001b[0m \u001b[0mforest_importances\u001b[0m \u001b[0;34m=\u001b[0m \u001b[0mgini_improvements\u001b[0m\u001b[0;34m.\u001b[0m\u001b[0mmean\u001b[0m\u001b[0;34m(\u001b[0m\u001b[0maxis\u001b[0m\u001b[0;34m=\u001b[0m\u001b[0;36m1\u001b[0m\u001b[0;34m)\u001b[0m\u001b[0;34m.\u001b[0m\u001b[0msort_values\u001b[0m\u001b[0;34m(\u001b[0m\u001b[0;34m)\u001b[0m\u001b[0;34m\u001b[0m\u001b[0;34m\u001b[0m\u001b[0m\n",
      "\u001b[0;32m~/opt/anaconda3/lib/python3.8/site-packages/pandas/core/frame.py\u001b[0m in \u001b[0;36m__setitem__\u001b[0;34m(self, key, value)\u001b[0m\n\u001b[1;32m   3038\u001b[0m         \u001b[0;32melse\u001b[0m\u001b[0;34m:\u001b[0m\u001b[0;34m\u001b[0m\u001b[0;34m\u001b[0m\u001b[0m\n\u001b[1;32m   3039\u001b[0m             \u001b[0;31m# set column\u001b[0m\u001b[0;34m\u001b[0m\u001b[0;34m\u001b[0m\u001b[0;34m\u001b[0m\u001b[0m\n\u001b[0;32m-> 3040\u001b[0;31m             \u001b[0mself\u001b[0m\u001b[0;34m.\u001b[0m\u001b[0m_set_item\u001b[0m\u001b[0;34m(\u001b[0m\u001b[0mkey\u001b[0m\u001b[0;34m,\u001b[0m \u001b[0mvalue\u001b[0m\u001b[0;34m)\u001b[0m\u001b[0;34m\u001b[0m\u001b[0;34m\u001b[0m\u001b[0m\n\u001b[0m\u001b[1;32m   3041\u001b[0m \u001b[0;34m\u001b[0m\u001b[0m\n\u001b[1;32m   3042\u001b[0m     \u001b[0;32mdef\u001b[0m \u001b[0m_setitem_slice\u001b[0m\u001b[0;34m(\u001b[0m\u001b[0mself\u001b[0m\u001b[0;34m,\u001b[0m \u001b[0mkey\u001b[0m\u001b[0;34m:\u001b[0m \u001b[0mslice\u001b[0m\u001b[0;34m,\u001b[0m \u001b[0mvalue\u001b[0m\u001b[0;34m)\u001b[0m\u001b[0;34m:\u001b[0m\u001b[0;34m\u001b[0m\u001b[0;34m\u001b[0m\u001b[0m\n",
      "\u001b[0;32m~/opt/anaconda3/lib/python3.8/site-packages/pandas/core/frame.py\u001b[0m in \u001b[0;36m_set_item\u001b[0;34m(self, key, value)\u001b[0m\n\u001b[1;32m   3114\u001b[0m         \"\"\"\n\u001b[1;32m   3115\u001b[0m         \u001b[0mself\u001b[0m\u001b[0;34m.\u001b[0m\u001b[0m_ensure_valid_index\u001b[0m\u001b[0;34m(\u001b[0m\u001b[0mvalue\u001b[0m\u001b[0;34m)\u001b[0m\u001b[0;34m\u001b[0m\u001b[0;34m\u001b[0m\u001b[0m\n\u001b[0;32m-> 3116\u001b[0;31m         \u001b[0mvalue\u001b[0m \u001b[0;34m=\u001b[0m \u001b[0mself\u001b[0m\u001b[0;34m.\u001b[0m\u001b[0m_sanitize_column\u001b[0m\u001b[0;34m(\u001b[0m\u001b[0mkey\u001b[0m\u001b[0;34m,\u001b[0m \u001b[0mvalue\u001b[0m\u001b[0;34m)\u001b[0m\u001b[0;34m\u001b[0m\u001b[0;34m\u001b[0m\u001b[0m\n\u001b[0m\u001b[1;32m   3117\u001b[0m         \u001b[0mNDFrame\u001b[0m\u001b[0;34m.\u001b[0m\u001b[0m_set_item\u001b[0m\u001b[0;34m(\u001b[0m\u001b[0mself\u001b[0m\u001b[0;34m,\u001b[0m \u001b[0mkey\u001b[0m\u001b[0;34m,\u001b[0m \u001b[0mvalue\u001b[0m\u001b[0;34m)\u001b[0m\u001b[0;34m\u001b[0m\u001b[0;34m\u001b[0m\u001b[0m\n\u001b[1;32m   3118\u001b[0m \u001b[0;34m\u001b[0m\u001b[0m\n",
      "\u001b[0;32m~/opt/anaconda3/lib/python3.8/site-packages/pandas/core/frame.py\u001b[0m in \u001b[0;36m_sanitize_column\u001b[0;34m(self, key, value, broadcast)\u001b[0m\n\u001b[1;32m   3762\u001b[0m \u001b[0;34m\u001b[0m\u001b[0m\n\u001b[1;32m   3763\u001b[0m             \u001b[0;31m# turn me into an ndarray\u001b[0m\u001b[0;34m\u001b[0m\u001b[0;34m\u001b[0m\u001b[0;34m\u001b[0m\u001b[0m\n\u001b[0;32m-> 3764\u001b[0;31m             \u001b[0mvalue\u001b[0m \u001b[0;34m=\u001b[0m \u001b[0msanitize_index\u001b[0m\u001b[0;34m(\u001b[0m\u001b[0mvalue\u001b[0m\u001b[0;34m,\u001b[0m \u001b[0mself\u001b[0m\u001b[0;34m.\u001b[0m\u001b[0mindex\u001b[0m\u001b[0;34m)\u001b[0m\u001b[0;34m\u001b[0m\u001b[0;34m\u001b[0m\u001b[0m\n\u001b[0m\u001b[1;32m   3765\u001b[0m             \u001b[0;32mif\u001b[0m \u001b[0;32mnot\u001b[0m \u001b[0misinstance\u001b[0m\u001b[0;34m(\u001b[0m\u001b[0mvalue\u001b[0m\u001b[0;34m,\u001b[0m \u001b[0;34m(\u001b[0m\u001b[0mnp\u001b[0m\u001b[0;34m.\u001b[0m\u001b[0mndarray\u001b[0m\u001b[0;34m,\u001b[0m \u001b[0mIndex\u001b[0m\u001b[0;34m)\u001b[0m\u001b[0;34m)\u001b[0m\u001b[0;34m:\u001b[0m\u001b[0;34m\u001b[0m\u001b[0;34m\u001b[0m\u001b[0m\n\u001b[1;32m   3766\u001b[0m                 \u001b[0;32mif\u001b[0m \u001b[0misinstance\u001b[0m\u001b[0;34m(\u001b[0m\u001b[0mvalue\u001b[0m\u001b[0;34m,\u001b[0m \u001b[0mlist\u001b[0m\u001b[0;34m)\u001b[0m \u001b[0;32mand\u001b[0m \u001b[0mlen\u001b[0m\u001b[0;34m(\u001b[0m\u001b[0mvalue\u001b[0m\u001b[0;34m)\u001b[0m \u001b[0;34m>\u001b[0m \u001b[0;36m0\u001b[0m\u001b[0;34m:\u001b[0m\u001b[0;34m\u001b[0m\u001b[0;34m\u001b[0m\u001b[0m\n",
      "\u001b[0;32m~/opt/anaconda3/lib/python3.8/site-packages/pandas/core/internals/construction.py\u001b[0m in \u001b[0;36msanitize_index\u001b[0;34m(data, index)\u001b[0m\n\u001b[1;32m    745\u001b[0m     \"\"\"\n\u001b[1;32m    746\u001b[0m     \u001b[0;32mif\u001b[0m \u001b[0mlen\u001b[0m\u001b[0;34m(\u001b[0m\u001b[0mdata\u001b[0m\u001b[0;34m)\u001b[0m \u001b[0;34m!=\u001b[0m \u001b[0mlen\u001b[0m\u001b[0;34m(\u001b[0m\u001b[0mindex\u001b[0m\u001b[0;34m)\u001b[0m\u001b[0;34m:\u001b[0m\u001b[0;34m\u001b[0m\u001b[0;34m\u001b[0m\u001b[0m\n\u001b[0;32m--> 747\u001b[0;31m         raise ValueError(\n\u001b[0m\u001b[1;32m    748\u001b[0m             \u001b[0;34m\"Length of values \"\u001b[0m\u001b[0;34m\u001b[0m\u001b[0;34m\u001b[0m\u001b[0m\n\u001b[1;32m    749\u001b[0m             \u001b[0;34mf\"({len(data)}) \"\u001b[0m\u001b[0;34m\u001b[0m\u001b[0;34m\u001b[0m\u001b[0m\n",
      "\u001b[0;31mValueError\u001b[0m: Length of values (137) does not match length of index (2541)"
     ]
    }
   ],
   "source": [
    "#Gini/Purity-based Feature Importance\n",
    "gini_improvements = pd.DataFrame(index = all_data.columns)\n",
    "kf = KFold(n_splits=5)\n",
    "trial_number = 1\n",
    "for train_index, test_index in kf.split(X_train):\n",
    "    forest = RandomForestRegressor()\n",
    "    forest.fit(X_train.iloc[train_index], y_train.iloc[train_index])\n",
    "    gini_improvements[f'Trial {trial_number}'] = forest.feature_importances_\n",
    "    \n",
    "forest_importances = gini_improvements.mean(axis=1).sort_values()\n",
    "\n",
    "good_features = forest_importances[forest_importances>1e-4].sort_values(ascending = False)\n",
    "for importance, feature in zip(good_features, good_features.index):\n",
    "    print(feature, importance)\n",
    "fig, ax = plt.subplots()\n",
    "plt.title(\"Histogram of gini importances\")\n",
    "forest_importances.hist(ax=ax, bins=300)\n",
    "plt.show()\n",
    "\n",
    "fig, ax = plt.subplots()\n",
    "plt.title(\"Histogram of gini importances\")\n",
    "forest_importances[forest_importances>1e-4].hist(ax=ax, bins=300)\n",
    "plt.show()\n",
    "\n",
    "good_features = forest_importances[forest_importances>3e-3].sort_values()\n",
    "corr = X_train[good_features.index].corr()\n",
    "sns.heatmap(corr, \n",
    "        xticklabels=corr.columns,\n",
    "        yticklabels=corr.columns)\n",
    "purity_select_features = good_features.index"
   ]
  },
  {
   "cell_type": "code",
   "execution_count": 10,
   "metadata": {},
   "outputs": [
    {
     "name": "stdout",
     "output_type": "stream",
     "text": [
      "56\n",
      "Index(['dis_m3_pmn_L12', 'for_pc_use_L12', 'ele_mt_sav_L5', 'wet_pc_u01_L11',\n",
      "       'riv_tc_ssu_L9', 'cmi_ix_var_L10', 'glc_pc_u03_L10', 'dis_m3_pmn_L9',\n",
      "       'ire_pc_use_L9', 'swc_pc_peak_L7', 'ire_pc_sse_L10', 'pet_mm_var_L7',\n",
      "       'glc_pc_u03_L12', 'glc_pc_u03_L11', 'cmi_ix_peak_L6', 'swc_pc_peak_L8',\n",
      "       'dis_m3_pmn_L10', 'riv_tc_usu_L12', 'riv_tc_ssu_L12', 'cmi_ix_peak_L12',\n",
      "       'ria_ha_usu_L10', 'slp_dg_uav_L12', 'ele_mt_smn_L6', 'riv_tc_ssu_L11',\n",
      "       'dis_m3_pyr_L8', 'run_mm_syr_L9', 'ria_ha_ssu_L8', 'cmi_ix_peak_L8',\n",
      "       'cmi_ix_var_L11', 'glc_pc_u03_L9', 'dis_m3_pmn_L11', 'dis_m3_pyr_L9',\n",
      "       'cmi_ix_var_L9', 'DIS_AVG_LS', 'cmi_ix_peak_L9', 'ire_pc_sse_L8',\n",
      "       'ria_ha_usu_L12', 'ire_pc_use_L11', 'ria_ha_ssu_L10', 'cmi_ix_var_L6',\n",
      "       'cmi_ix_var_L8', 'riv_tc_ssu_L8', 'riv_tc_usu_L10', 'dis_m3_pmx_L10',\n",
      "       'dis_m3_pyr_L10', 'ire_pc_use_L10', 'riv_tc_usu_L11', 'cmi_ix_peak_L7',\n",
      "       'dis_m3_pyr_L12', 'ire_pc_sse_L9', 'run_mm_syr_L7', 'dis_m3_pmx_L11',\n",
      "       'DOR_PC', 'riv_tc_ssu_L10', 'ire_pc_use_L12', 'DAM_HGT_M'],\n",
      "      dtype='object')\n"
     ]
    }
   ],
   "source": [
    "print(len(purity_select_features))\n",
    "print(purity_select_features)"
   ]
  },
  {
   "cell_type": "code",
   "execution_count": 4,
   "metadata": {},
   "outputs": [
    {
     "name": "stdout",
     "output_type": "stream",
     "text": [
      "(687, 2541)\n",
      "Elapsed time to compute the importances: 368.877 seconds\n",
      "Index(['DAM_HGT_M', 'AREA_SKM', 'DEPTH_M', 'DIS_AVG_LS', 'DOR_PC', 'ELEV_MASL',\n",
      "       'CATCH_SKM', 'GDP_capita', 'Population', 'dis_m3_pyr_L1',\n",
      "       ...\n",
      "       'pet_mm_peak_L12', 'pet_mm_var_L12', 'aet_mm_peak_L12',\n",
      "       'aet_mm_var_L12', 'cmi_ix_peak_L12', 'cmi_ix_var_L12',\n",
      "       'snw_pc_peak_L12', 'snw_pc_var_L12', 'swc_pc_peak_L12',\n",
      "       'swc_pc_var_L12'],\n",
      "      dtype='object', length=2541)\n",
      "[ 4.17859445e-01 -2.38927447e-04  2.98312735e-03 ...  5.01046414e-05\n",
      " -2.01707314e-03  1.56499640e-07]\n",
      "glc_pc_s04_L3 0.00010473814846271302\n",
      "dor_pc_pva_L9 0.00010710927028573236\n",
      "pnv_pc_u05_L12 0.00010825180782758625\n",
      "wet_pc_u01_L9 0.00010989603113618074\n",
      "ero_kh_sav_L5 0.0001132239577452343\n",
      "pet_mm_uyr_L7 0.00011858874491619265\n",
      "soc_th_uav_L8 0.00011953537345394949\n",
      "wet_cl_smj_L8 0.0001229599302906892\n",
      "wet_pc_s01_L7 0.00012764750965593707\n",
      "lka_pc_use_L12 0.0001278745943741333\n",
      "pre_mm_var_L11 0.0001281625305929235\n",
      "pnv_pc_s09_L11 0.00012877826246938674\n",
      "wet_pc_sg1_L11 0.00013218374088556085\n",
      "ero_kh_sav_L9 0.00013347502679251778\n",
      "wet_pc_u02_L7 0.00013775496040232537\n",
      "lkv_mc_usu_L9 0.00013877846311088904\n",
      "swc_pc_syr_L9 0.00014189308059116003\n",
      "cmi_ix_var_L10 0.00014294253576132565\n",
      "pet_mm_syr_L7 0.0001437714241343313\n",
      "lka_pc_sse_L7 0.00014466050050985225\n",
      "wet_pc_u01_L4 0.0001466108469401206\n",
      "pop_ct_usu_L5 0.00014859521933182628\n",
      "dis_m3_pmn_L10 0.0001509429358960479\n",
      "glc_pc_u22_L12 0.0001543435158754658\n",
      "pnv_pc_s08_L8 0.00015725766086855942\n",
      "snd_pc_sav_L8 0.00016105224772066106\n",
      "aet_mm_var_L7 0.0001630259994402028\n",
      "pac_pc_use_L3 0.00016332445274135353\n",
      "pnv_pc_s09_L6 0.0001640180568016958\n",
      "dis_m3_pyr_L11 0.00016517246467312452\n",
      "cly_pc_uav_L6 0.00016906080787841836\n",
      "cly_pc_uav_L8 0.00017763376178259183\n",
      "pnv_pc_u09_L9 0.00019029316426645294\n",
      "soc_th_uav_L9 0.00019361178872140394\n",
      "rdd_mk_uav_L5 0.00019670687643301709\n",
      "for_pc_sse_L10 0.00020843124630149924\n",
      "glc_pc_s12_L11 0.00021077629534324016\n",
      "cmi_ix_var_L5 0.00021254187768486864\n",
      "snw_pc_syr_L11 0.00021575681676339054\n",
      "pet_mm_var_L10 0.00021903568782865034\n",
      "gdp_ud_sav_L6 0.00021941051379470444\n",
      "hft_ix_u93_L11 0.00022072699129740413\n",
      "slt_pc_sav_L6 0.00024016594645309697\n",
      "ppd_pk_uav_L3 0.0002445916594782438\n",
      "cmi_ix_syr_L7 0.0002651209639814023\n",
      "inu_pc_smn_L6 0.0002700025564533637\n",
      "dis_m3_pmn_L12 0.0002850069038102143\n",
      "wet_pc_sg1_L9 0.0002872939926533924\n",
      "cmi_ix_uyr_L12 0.00029600520666687167\n",
      "riv_tc_ssu_L6 0.0002974210852786707\n",
      "inu_pc_ult_L5 0.000312906229425125\n",
      "dis_m3_pmx_L12 0.00031356428188825667\n",
      "nli_ix_uav_L9 0.0003724588412409413\n",
      "lka_pc_use_L10 0.0003730942520050129\n",
      "pnv_cl_smj_L3 0.0003761603517490553\n",
      "ari_ix_uav_L11 0.00038203824335337756\n",
      "kar_pc_sse_L8 0.0004020745444301199\n",
      "glc_pc_s20_L6 0.00041218673915640605\n",
      "wet_pc_ug1_L12 0.0004135872297072685\n",
      "dis_m3_pmn_L11 0.00042764653444555823\n",
      "slt_pc_sav_L10 0.0004298529350123648\n",
      "glc_pc_s20_L8 0.00043638089776000256\n",
      "hdi_ix_sav_L4 0.000470109082404746\n",
      "soc_th_uav_L6 0.000490441770397787\n",
      "dor_pc_pva_L8 0.0005012721525928798\n",
      "ari_ix_uav_L5 0.0005591196932977716\n",
      "soc_th_uav_L10 0.0005837737766881679\n",
      "wet_pc_u01_L11 0.0006785135563581624\n",
      "rev_mc_usu_L7 0.0007282232024681257\n",
      "rev_mc_usu_L9 0.0009978678964812082\n",
      "inu_pc_umn_L6 0.0010632169054501928\n",
      "kar_pc_sse_L5 0.0011911881749563035\n",
      "inu_pc_ult_L8 0.0012145814336846695\n",
      "pop_ct_ssu_L8 0.0012928512769389334\n",
      "slp_dg_uav_L12 0.0013219077010743984\n",
      "cmi_ix_var_L9 0.0013531670054152457\n",
      "ari_ix_uav_L10 0.0014162770944762815\n",
      "slp_dg_sav_L8 0.0014937618801344032\n",
      "tmp_dc_syr_L5 0.0015181224545881334\n",
      "dis_m3_pyr_L10 0.0015292717193718275\n",
      "ari_ix_sav_L8 0.001532559351508811\n",
      "tec_cl_smj_L4 0.0015378568340631005\n",
      "pac_pc_use_L7 0.0015857191615414544\n",
      "cmi_ix_uyr_L10 0.0016448678530353144\n",
      "gdp_ud_usu_L5 0.0017194327517591756\n",
      "glc_pc_s20_L11 0.0017563538323685179\n",
      "glc_pc_s20_L10 0.0017648079490061753\n",
      "dis_m3_pyr_L6 0.0017873623781172188\n",
      "ele_mt_uav_L11 0.0018561756560302677\n",
      "wet_pc_s01_L9 0.0018563590238451\n",
      "slt_pc_sav_L8 0.0018644979554710227\n",
      "glc_pc_u02_L9 0.0018914759882135202\n",
      "glc_pc_u02_L12 0.0020136080678681114\n",
      "swc_pc_peak_L4 0.0020497713279176155\n",
      "swc_pc_var_L9 0.0020920129992279103\n",
      "slt_pc_sav_L4 0.0021043658039561985\n",
      "swc_pc_var_L10 0.002110151820243311\n",
      "cly_pc_uav_L9 0.00211326332510593\n",
      "tmp_dc_peak_L11 0.002164258075591452\n",
      "ero_kh_sav_L6 0.002178617305123609\n",
      "snd_pc_uav_L10 0.0022460969224748274\n",
      "glc_pc_s20_L7 0.0023325938571353566\n",
      "tmp_dc_uyr_L8 0.0025836227190927153\n",
      "ele_mt_uav_L10 0.0025928826871353893\n",
      "cly_pc_sav_L8 0.0026550900107494614\n",
      "cmi_ix_var_L8 0.002658125727009275\n",
      "pre_mm_uyr_L7 0.002797830739956442\n",
      "inu_pc_smx_L8 0.0029128063764152557\n",
      "DEPTH_M 0.002983127349195591\n",
      "pop_ct_usu_L6 0.0030186240145541167\n",
      "ele_mt_sav_L8 0.003193172313013204\n",
      "pnv_pc_u08_L5 0.0032072525547019006\n",
      "cmi_ix_var_L11 0.0033291084311946606\n",
      "ria_ha_ssu_L8 0.003359738749135632\n",
      "swc_pc_var_L5 0.0037684731376077417\n",
      "riv_tc_ssu_L8 0.009760299243316738\n",
      "DOR_PC 0.012325978546195392\n",
      "DAM_HGT_M 0.417859445315577\n"
     ]
    },
    {
     "data": {
      "image/png": "[encoded data removed]",
      "text/plain": [
       "<Figure size 432x288 with 1 Axes>"
      ]
     },
     "metadata": {
      "needs_background": "light"
     },
     "output_type": "display_data"
    },
    {
     "data": {
      "image/png": "[encoded data removed]",
      "text/plain": [
       "<Figure size 432x288 with 1 Axes>"
      ]
     },
     "metadata": {
      "needs_background": "light"
     },
     "output_type": "display_data"
    },
    {
     "name": "stdout",
     "output_type": "stream",
     "text": [
      "Index(['pop_ct_usu_L6', 'ele_mt_sav_L8', 'pnv_pc_u08_L5', 'cmi_ix_var_L11',\n",
      "       'ria_ha_ssu_L8', 'swc_pc_var_L5', 'riv_tc_ssu_L8', 'DOR_PC',\n",
      "       'DAM_HGT_M'],\n",
      "      dtype='object')\n",
      "9\n"
     ]
    },
    {
     "data": {
      "image/png": "[encoded data removed]",
      "text/plain": [
       "<Figure size 432x288 with 2 Axes>"
      ]
     },
     "metadata": {
      "needs_background": "light"
     },
     "output_type": "display_data"
    }
   ],
   "source": [
    "#Permutation Importance Feature Selection\n",
    "forest = RandomForestRegressor(random_state=0)\n",
    "X_tr, X_val, y_tr, y_val = train_test_split(X_train, y_train, test_size=0.3, random_state=42)\n",
    "forest.fit(X_tr, y_tr)\n",
    "print(X_train.shape)\n",
    "\n",
    "start_time = time.time()\n",
    "result = permutation_importance(\n",
    "forest, X_val, y_val, n_repeats=10, random_state=42, n_jobs=2\n",
    ")\n",
    "elapsed_time = time.time() - start_time\n",
    "print(f\"Elapsed time to compute the importances: {elapsed_time:.3f} seconds\")\n",
    "\n",
    "print(all_data.columns)\n",
    "print(result.importances_mean)\n",
    "forest_importances = pd.Series(result.importances_mean, index=all_data.columns)\n",
    "#print(forest_importances.sort_values())\n",
    "good_features = forest_importances[forest_importances>1e-4].sort_values()\n",
    "for importance, feature in zip(good_features, good_features.index):\n",
    "    print(feature, importance)\n",
    "fig, ax = plt.subplots()\n",
    "plt.title(\"Histogram of permutation importances\")\n",
    "forest_importances.hist(ax=ax, bins=300)\n",
    "plt.show()\n",
    "\n",
    "fig, ax = plt.subplots()\n",
    "plt.title(\"Histogram of permutation importances\")\n",
    "forest_importances[forest_importances>1e-4].hist(ax=ax, bins=300)\n",
    "plt.show()\n",
    "\n",
    "good_features = forest_importances[forest_importances>3e-3].sort_values()\n",
    "corr = X_train[good_features.index].corr()\n",
    "sns.heatmap(corr, \n",
    "        xticklabels=corr.columns,\n",
    "        yticklabels=corr.columns)\n",
    "perm_imp_select_features = good_features.index\n",
    "print(perm_imp_select_features)\n",
    "print(len(perm_imp_select_features))"
   ]
  },
  {
   "cell_type": "code",
   "execution_count": 9,
   "metadata": {},
   "outputs": [
    {
     "name": "stdout",
     "output_type": "stream",
     "text": [
      "Index(['inu_pc_umn_L6', 'kar_pc_sse_L5', 'inu_pc_ult_L8', 'pop_ct_ssu_L8',\n",
      "       'slp_dg_uav_L12', 'cmi_ix_var_L9', 'ari_ix_uav_L10', 'slp_dg_sav_L8',\n",
      "       'tmp_dc_syr_L5', 'dis_m3_pyr_L10', 'ari_ix_sav_L8', 'tec_cl_smj_L4',\n",
      "       'pac_pc_use_L7', 'cmi_ix_uyr_L10', 'gdp_ud_usu_L5', 'glc_pc_s20_L11',\n",
      "       'glc_pc_s20_L10', 'dis_m3_pyr_L6', 'ele_mt_uav_L11', 'wet_pc_s01_L9',\n",
      "       'slt_pc_sav_L8', 'glc_pc_u02_L9', 'glc_pc_u02_L12', 'swc_pc_peak_L4',\n",
      "       'swc_pc_var_L9', 'slt_pc_sav_L4', 'swc_pc_var_L10', 'cly_pc_uav_L9',\n",
      "       'tmp_dc_peak_L11', 'ero_kh_sav_L6', 'snd_pc_uav_L10', 'glc_pc_s20_L7',\n",
      "       'tmp_dc_uyr_L8', 'ele_mt_uav_L10', 'cly_pc_sav_L8', 'cmi_ix_var_L8',\n",
      "       'pre_mm_uyr_L7', 'inu_pc_smx_L8', 'DEPTH_M', 'pop_ct_usu_L6',\n",
      "       'ele_mt_sav_L8', 'pnv_pc_u08_L5', 'cmi_ix_var_L11', 'ria_ha_ssu_L8',\n",
      "       'swc_pc_var_L5', 'riv_tc_ssu_L8', 'DOR_PC', 'DAM_HGT_M'],\n",
      "      dtype='object')\n",
      "48\n"
     ]
    }
   ],
   "source": [
    "good_features = forest_importances[forest_importances>1e-3].sort_values()\n",
    "perm_imp_select_features = good_features.index\n",
    "print(perm_imp_select_features)\n",
    "print(len(perm_imp_select_features))"
   ]
  },
  {
   "cell_type": "code",
   "execution_count": 5,
   "metadata": {},
   "outputs": [
    {
     "name": "stdout",
     "output_type": "stream",
     "text": [
      "5 clz_cl_smj\n",
      "6 glc_cl_smj\n",
      "7 pnv_cl_smj\n",
      "7 wet_cl_smj\n",
      "6 tbi_cl_smj\n",
      "5 fmh_cl_smj\n",
      "3 lit_cl_smj\n",
      "14 clz_cl_smj\n",
      "19 glc_cl_smj\n",
      "14 pnv_cl_smj\n",
      "10 wet_cl_smj\n",
      "13 tbi_cl_smj\n",
      "11 fmh_cl_smj\n",
      "14 lit_cl_smj\n",
      "8 cls_cl_smj\n",
      "8 tec_cl_smj\n",
      "8 fec_cl_smj\n",
      "7 gad_id_smj\n"
     ]
    }
   ],
   "source": [
    "# Change categorial features to one-hot encoding for Lasso\n",
    "categorial_features = ['clz_cl_smj', 'glc_cl_smj', 'pnv_cl_smj', 'wet_cl_smj', 'tbi_cl_smj',\n",
    "                       'fmh_cl_smj', 'lit_cl_smj']\n",
    "\n",
    "# Only look at levels 1 and 12 for categorical data, to avoid having ~thousand one hot encoding features\n",
    "X_one_hot = all_data.copy()\n",
    "for level in [1,12]:\n",
    "    for feature in categorial_features:\n",
    "        categories = pd.unique(X_one_hot[f'{feature}_L{level}'])\n",
    "        categories.sort()\n",
    "        print(len(categories), feature)\n",
    "        for category in categories:\n",
    "            key = '{}_{}_{}'.format(feature, category, f'L{level}')\n",
    "            X_one_hot[key] = X_one_hot[f'{feature}_L{level}'].apply(lambda x: 1 if x == category else 0)\n",
    "            \n",
    "#these features had too many categories beyond resolution levels 1, so we only do one hot encoding for level 1\n",
    "too_many_categories = ['cls_cl_smj', 'tec_cl_smj', 'fec_cl_smj', 'gad_id_smj']\n",
    "for feature in too_many_categories:\n",
    "    categories = pd.unique(X_one_hot[f'{feature}_L1'])\n",
    "    categories.sort()\n",
    "    print(len(categories), feature)\n",
    "    for category in categories:\n",
    "        key = '{}_{}_{}'.format(feature, category, f'L1')\n",
    "        X_one_hot[key] = X_one_hot[f'{feature}_L1'].apply(lambda x: 1 if x == category else 0)\n",
    "        \n",
    "for level in range(1,13):\n",
    "    for feature in categorial_features:\n",
    "        X_one_hot.drop(columns = [f'{feature}_L{level}'], inplace = True)\n",
    "            \n",
    "X_one_hot.to_csv('all_data_one_hot.csv')"
   ]
  },
  {
   "cell_type": "code",
   "execution_count": 21,
   "metadata": {},
   "outputs": [
    {
     "name": "stdout",
     "output_type": "stream",
     "text": [
      "(859, 283)\n"
     ]
    },
    {
     "ename": "ValueError",
     "evalue": "There are significant negative eigenvalues (0.0700993 of the maximum positive). Either the matrix is not PSD, or there was an issue while computing the eigendecomposition of the matrix.",
     "output_type": "error",
     "traceback": [
      "\u001b[0;31m---------------------------------------------------------------------------\u001b[0m",
      "\u001b[0;31mValueError\u001b[0m                                Traceback (most recent call last)",
      "\u001b[0;32m<ipython-input-21-fb01d63e2de2>\u001b[0m in \u001b[0;36m<module>\u001b[0;34m\u001b[0m\n\u001b[1;32m     57\u001b[0m     \u001b[0;32mfor\u001b[0m \u001b[0mgamma\u001b[0m \u001b[0;32min\u001b[0m \u001b[0mgammas\u001b[0m\u001b[0;34m:\u001b[0m\u001b[0;34m\u001b[0m\u001b[0;34m\u001b[0m\u001b[0m\n\u001b[1;32m     58\u001b[0m         \u001b[0mkpca\u001b[0m \u001b[0;34m=\u001b[0m \u001b[0mKernelPCA\u001b[0m\u001b[0;34m(\u001b[0m\u001b[0mkernel\u001b[0m\u001b[0;34m=\u001b[0m\u001b[0;34m\"rbf\"\u001b[0m\u001b[0;34m,\u001b[0m \u001b[0mgamma\u001b[0m\u001b[0;34m=\u001b[0m\u001b[0mgamma\u001b[0m\u001b[0;34m)\u001b[0m\u001b[0;34m\u001b[0m\u001b[0;34m\u001b[0m\u001b[0m\n\u001b[0;32m---> 59\u001b[0;31m         \u001b[0mX_kpca\u001b[0m \u001b[0;34m=\u001b[0m \u001b[0mkpca\u001b[0m\u001b[0;34m.\u001b[0m\u001b[0mfit_transform\u001b[0m\u001b[0;34m(\u001b[0m\u001b[0mX_train\u001b[0m\u001b[0;34m)\u001b[0m\u001b[0;34m\u001b[0m\u001b[0;34m\u001b[0m\u001b[0m\n\u001b[0m\u001b[1;32m     60\u001b[0m         \u001b[0mplt\u001b[0m\u001b[0;34m.\u001b[0m\u001b[0mfigure\u001b[0m\u001b[0;34m(\u001b[0m\u001b[0mfigsize\u001b[0m\u001b[0;34m=\u001b[0m\u001b[0;34m(\u001b[0m\u001b[0;36m20\u001b[0m\u001b[0;34m,\u001b[0m\u001b[0;36m20\u001b[0m\u001b[0;34m)\u001b[0m\u001b[0;34m)\u001b[0m\u001b[0;34m\u001b[0m\u001b[0;34m\u001b[0m\u001b[0m\n\u001b[1;32m     61\u001b[0m         \u001b[0mplt\u001b[0m\u001b[0;34m.\u001b[0m\u001b[0mscatter\u001b[0m\u001b[0;34m(\u001b[0m\u001b[0mX_kpca\u001b[0m\u001b[0;34m[\u001b[0m\u001b[0;34m:\u001b[0m\u001b[0;34m,\u001b[0m \u001b[0;36m0\u001b[0m\u001b[0;34m]\u001b[0m\u001b[0;34m,\u001b[0m \u001b[0mX_kpca\u001b[0m\u001b[0;34m[\u001b[0m\u001b[0;34m:\u001b[0m\u001b[0;34m,\u001b[0m \u001b[0;36m1\u001b[0m\u001b[0;34m]\u001b[0m\u001b[0;34m,\u001b[0m \u001b[0mc\u001b[0m\u001b[0;34m=\u001b[0m\u001b[0my\u001b[0m\u001b[0;34m,\u001b[0m \u001b[0ms\u001b[0m\u001b[0;34m=\u001b[0m\u001b[0;36m1\u001b[0m\u001b[0;34m,\u001b[0m \u001b[0mmarker\u001b[0m\u001b[0;34m=\u001b[0m\u001b[0;34m'.'\u001b[0m\u001b[0;34m,\u001b[0m \u001b[0malpha\u001b[0m\u001b[0;34m=\u001b[0m\u001b[0;36m0.5\u001b[0m\u001b[0;34m,\u001b[0m \u001b[0mcmap\u001b[0m\u001b[0;34m=\u001b[0m\u001b[0;34m'coolwarm'\u001b[0m\u001b[0;34m)\u001b[0m\u001b[0;34m\u001b[0m\u001b[0;34m\u001b[0m\u001b[0m\n",
      "\u001b[0;32m~/opt/anaconda3/lib/python3.8/site-packages/sklearn/decomposition/_kernel_pca.py\u001b[0m in \u001b[0;36mfit_transform\u001b[0;34m(self, X, y, **params)\u001b[0m\n\u001b[1;32m    303\u001b[0m         \u001b[0mX_new\u001b[0m \u001b[0;34m:\u001b[0m \u001b[0marray\u001b[0m\u001b[0;34m-\u001b[0m\u001b[0mlike\u001b[0m\u001b[0;34m,\u001b[0m \u001b[0mshape\u001b[0m \u001b[0;34m(\u001b[0m\u001b[0mn_samples\u001b[0m\u001b[0;34m,\u001b[0m \u001b[0mn_components\u001b[0m\u001b[0;34m)\u001b[0m\u001b[0;34m\u001b[0m\u001b[0;34m\u001b[0m\u001b[0m\n\u001b[1;32m    304\u001b[0m         \"\"\"\n\u001b[0;32m--> 305\u001b[0;31m         \u001b[0mself\u001b[0m\u001b[0;34m.\u001b[0m\u001b[0mfit\u001b[0m\u001b[0;34m(\u001b[0m\u001b[0mX\u001b[0m\u001b[0;34m,\u001b[0m \u001b[0;34m**\u001b[0m\u001b[0mparams\u001b[0m\u001b[0;34m)\u001b[0m\u001b[0;34m\u001b[0m\u001b[0;34m\u001b[0m\u001b[0m\n\u001b[0m\u001b[1;32m    306\u001b[0m \u001b[0;34m\u001b[0m\u001b[0m\n\u001b[1;32m    307\u001b[0m         \u001b[0;31m# no need to use the kernel to transform X, use shortcut expression\u001b[0m\u001b[0;34m\u001b[0m\u001b[0;34m\u001b[0m\u001b[0;34m\u001b[0m\u001b[0m\n",
      "\u001b[0;32m~/opt/anaconda3/lib/python3.8/site-packages/sklearn/decomposition/_kernel_pca.py\u001b[0m in \u001b[0;36mfit\u001b[0;34m(self, X, y)\u001b[0m\n\u001b[1;32m    279\u001b[0m         \u001b[0mself\u001b[0m\u001b[0;34m.\u001b[0m\u001b[0m_centerer\u001b[0m \u001b[0;34m=\u001b[0m \u001b[0mKernelCenterer\u001b[0m\u001b[0;34m(\u001b[0m\u001b[0;34m)\u001b[0m\u001b[0;34m\u001b[0m\u001b[0;34m\u001b[0m\u001b[0m\n\u001b[1;32m    280\u001b[0m         \u001b[0mK\u001b[0m \u001b[0;34m=\u001b[0m \u001b[0mself\u001b[0m\u001b[0;34m.\u001b[0m\u001b[0m_get_kernel\u001b[0m\u001b[0;34m(\u001b[0m\u001b[0mX\u001b[0m\u001b[0;34m)\u001b[0m\u001b[0;34m\u001b[0m\u001b[0;34m\u001b[0m\u001b[0m\n\u001b[0;32m--> 281\u001b[0;31m         \u001b[0mself\u001b[0m\u001b[0;34m.\u001b[0m\u001b[0m_fit_transform\u001b[0m\u001b[0;34m(\u001b[0m\u001b[0mK\u001b[0m\u001b[0;34m)\u001b[0m\u001b[0;34m\u001b[0m\u001b[0;34m\u001b[0m\u001b[0m\n\u001b[0m\u001b[1;32m    282\u001b[0m \u001b[0;34m\u001b[0m\u001b[0m\n\u001b[1;32m    283\u001b[0m         \u001b[0;32mif\u001b[0m \u001b[0mself\u001b[0m\u001b[0;34m.\u001b[0m\u001b[0mfit_inverse_transform\u001b[0m\u001b[0;34m:\u001b[0m\u001b[0;34m\u001b[0m\u001b[0;34m\u001b[0m\u001b[0m\n",
      "\u001b[0;32m~/opt/anaconda3/lib/python3.8/site-packages/sklearn/decomposition/_kernel_pca.py\u001b[0m in \u001b[0;36m_fit_transform\u001b[0;34m(self, K)\u001b[0m\n\u001b[1;32m    213\u001b[0m \u001b[0;34m\u001b[0m\u001b[0m\n\u001b[1;32m    214\u001b[0m         \u001b[0;31m# make sure that the eigenvalues are ok and fix numerical issues\u001b[0m\u001b[0;34m\u001b[0m\u001b[0;34m\u001b[0m\u001b[0;34m\u001b[0m\u001b[0m\n\u001b[0;32m--> 215\u001b[0;31m         self.lambdas_ = _check_psd_eigenvalues(self.lambdas_,\n\u001b[0m\u001b[1;32m    216\u001b[0m                                                enable_warnings=False)\n\u001b[1;32m    217\u001b[0m \u001b[0;34m\u001b[0m\u001b[0m\n",
      "\u001b[0;32m~/opt/anaconda3/lib/python3.8/site-packages/sklearn/utils/validation.py\u001b[0m in \u001b[0;36m_check_psd_eigenvalues\u001b[0;34m(lambdas, enable_warnings)\u001b[0m\n\u001b[1;32m   1221\u001b[0m         if (min_eig < -significant_neg_ratio * max_eig\n\u001b[1;32m   1222\u001b[0m                 and min_eig < -significant_neg_value):\n\u001b[0;32m-> 1223\u001b[0;31m             raise ValueError(\"There are significant negative eigenvalues (%g\"\n\u001b[0m\u001b[1;32m   1224\u001b[0m                              \u001b[0;34m\" of the maximum positive). Either the matrix is \"\u001b[0m\u001b[0;34m\u001b[0m\u001b[0;34m\u001b[0m\u001b[0m\n\u001b[1;32m   1225\u001b[0m                              \u001b[0;34m\"not PSD, or there was an issue while computing \"\u001b[0m\u001b[0;34m\u001b[0m\u001b[0;34m\u001b[0m\u001b[0m\n",
      "\u001b[0;31mValueError\u001b[0m: There are significant negative eigenvalues (0.0700993 of the maximum positive). Either the matrix is not PSD, or there was an issue while computing the eigendecomposition of the matrix."
     ]
    }
   ],
   "source": [
    "#Lasso Feature Selection\n",
    "\n",
    "# Define alphas\n",
    "alphas = [1, 0.5, .25, .1]\n",
    "\n",
    "y_log = np.log(y)\n",
    "\n",
    "# Train models and record R2 values and the number of parameters\n",
    "CO2_test_r2s = np.zeros(len(alphas))\n",
    "CO2_train_r2s = np.zeros(len(alphas))\n",
    "CO2_n_params = np.zeros(len(alphas))\n",
    "CO2_coeffs = {}\n",
    "CO2_y_pred_test = {}\n",
    "CO2_y_pred_train = {}\n",
    "\n",
    "def only_L1(x):\n",
    "    if x[-2:] in ['L2', 'L3', 'L4', 'L5', 'L6', 'L7', 'L8', 'L9'] or x[-3:] in ['L10','L11', 'L12']:\n",
    "        return True\n",
    "    else:\n",
    "        return False\n",
    "    \n",
    "def only_L6(x):\n",
    "    if x[-2:] in ['L1', 'L2', 'L3', 'L4', 'L5', 'L7', 'L8', 'L9'] or x[-3:] in ['L10','L11', 'L12']:\n",
    "        return True\n",
    "    else:\n",
    "        return False\n",
    "    \n",
    "def only_L9(x):\n",
    "    if x[-2:] in ['L1', 'L2', 'L3', 'L4', 'L5', 'L6', 'L7', 'L8'] or x[-3:] in ['L10','L11', 'L12']:\n",
    "        return True\n",
    "    else:\n",
    "        return False\n",
    "    \n",
    "def only_L12(x):\n",
    "    if x[-2:] in ['L1', 'L2', 'L3', 'L4', 'L5', 'L6','L7', 'L8', 'L9'] or x[-3:] in ['L10','L11']:\n",
    "        return True\n",
    "    else:\n",
    "        return False\n",
    "\n",
    "X_L1 = X_one_hot.drop(columns=[col for col in X_one_hot.columns if only_L1(col)], inplace=False)\n",
    "X_L6 = X_one_hot.drop(columns=[col for col in X_one_hot.columns if only_L6(col)], inplace=False)\n",
    "X_L9 = X_one_hot.drop(columns=[col for col in X_one_hot.columns if only_L9(col)], inplace=False)\n",
    "X_L12 = X_one_hot.drop(columns=[col for col in X_one_hot.columns if only_L12(col)], inplace=False)\n",
    "res_levels = [X_L1, X_L6, X_L9, X_L12]\n",
    "#print(X_one_hot.shape)\n",
    "levels = [1,6,9,12]\n",
    "\n",
    "feature_set = set()\n",
    "\n",
    "for level, X in zip(levels,res_levels):\n",
    "    print(X.shape)\n",
    "    X_train, X_test, y_train, y_test = train_test_split(X, y_log, test_size=0.2, random_state=42)\n",
    "        \n",
    "    X_train, X_val, y_train, y_val = train_test_split(X_train, y_train, test_size=0.3, random_state=42)\n",
    "\n",
    "    # Standardize the data (i.e. set mean to 0 and std to 1)\n",
    "    sc = StandardScaler()\n",
    "    norm_train_data = sc.fit_transform(X_train)\n",
    "    norm_val_data = sc.transform(X_val)\n",
    "    X_train = pd.DataFrame(columns=X_train.columns, index=X_train.index, data=norm_train_data)\n",
    "    X_val = pd.DataFrame(columns=X_val.columns, index=X_val.index, data=norm_val_data)\n",
    "    for i in range(len(alphas)):\n",
    "        print('alpha: ', alphas[i], \"level: \", level)\n",
    "        alpha = alphas[i]\n",
    "        reg = linear_model.Lasso(alpha=alpha, fit_intercept=True, positive=False)\n",
    "        reg.fit(X_train, y_train)    \n",
    "        CO2_test_r2s[i] = reg.score(X_val, y_val)\n",
    "        CO2_train_r2s[i] = reg.score(X_train, y_train)\n",
    "        CO2_y_pred_test[alpha] = reg.predict(X_val)\n",
    "        CO2_y_pred_train[alpha] = reg.predict(X_train)\n",
    "        CO2_coeffs[alpha] = reg.coef_\n",
    "        CO2_n_params[i] = len(CO2_coeffs[alpha][CO2_coeffs[alpha] != 0])\n",
    "        \n",
    "        # Create CO2_summary dataframes\n",
    "        CO2_summary = {}\n",
    "        CO2_summary[alpha] = pd.DataFrame(columns=['feature', 'coeff'], data=np.array([X_train.columns[CO2_coeffs[alpha] != 0], CO2_coeffs[alpha][CO2_coeffs[alpha] != 0]]).T)\n",
    "        CO2_summary[alpha]['coeff_abs'] = CO2_summary[alpha]['coeff'].apply(np.abs)\n",
    "        CO2_summary[alpha].sort_values(by='coeff_abs', inplace=True, ascending=False)\n",
    "        feature_set = feature_set.union(X_train.columns[CO2_coeffs[alpha] != 0])\n",
    "        \n",
    "        print(CO2_summary[alpha])\n",
    "        \n",
    "        fig = plt.figure(figsize=(12,6))\n",
    "        plt.subplot(1,2,2)\n",
    "        plt.scatter(y_train, CO2_y_pred_train[alphas[i]], alpha=0.5, c='lightgrey')\n",
    "        plt.scatter(y_val, CO2_y_pred_test[alphas[i]], alpha=0.5)\n",
    "        plt.xlabel('y')\n",
    "        plt.ylabel('y pred')\n",
    "        plt.title('Validation Data')\n",
    "\n",
    "        plt.subplot(1,2,1)\n",
    "        plt.scatter(y_train, CO2_y_pred_train[alphas[i]], alpha=0.5,)\n",
    "        plt.xlabel('y')\n",
    "        plt.ylabel('y pred')\n",
    "        plt.title('Training Data')\n",
    "        plt.show()\n",
    "        print('------------------------------------------------')\n",
    "print(len(feature_set))\n",
    "\n",
    "\n",
    "\n",
    "#try Lasso again, but this time only on the features that were selected in initial Lasso models\n",
    "\n",
    "X_filtered = X_one_hot[list(feature_set)]\n",
    "X_train, X_test, y_train, y_test = train_test_split(X_filtered, y_log, test_size=0.2, random_state=42)\n",
    "X_train, X_val, y_train, y_val = train_test_split(X_train, y_train, test_size=0.3, random_state=42)\n",
    "# Standardize the data (i.e. set mean to 0 and std to 1)\n",
    "sc = StandardScaler()\n",
    "norm_train_data = sc.fit_transform(X_train)\n",
    "norm_val_data = sc.transform(X_val)\n",
    "X_train = pd.DataFrame(columns=X_train.columns, index=X_train.index, data=norm_train_data)\n",
    "X_val = pd.DataFrame(columns=X_val.columns, index=X_val.index, data=norm_val_data)\n",
    "\n",
    "alphas = [1, 0.5, .25, .1, 0]\n",
    "CO2_test_r2s = np.zeros(len(alphas))\n",
    "CO2_train_r2s = np.zeros(len(alphas))\n",
    "CO2_n_params = np.zeros(len(alphas))\n",
    "CO2_coeffs = {}\n",
    "CO2_y_pred_test = {}\n",
    "CO2_y_pred_train = {}\n",
    "\n",
    "for i in range(len(alphas)):\n",
    "    alpha = alphas[i]\n",
    "    print(\"only selected features\", \"alpha = \" , alpha)\n",
    "    reg = linear_model.Lasso(alpha=alpha, fit_intercept=True, positive=False)\n",
    "    reg.fit(X_train, y_train)    \n",
    "    CO2_test_r2s[i] = reg.score(X_val, y_val)\n",
    "    CO2_train_r2s[i] = reg.score(X_train, y_train)\n",
    "    CO2_y_pred_test[alpha] = reg.predict(X_val)\n",
    "    CO2_y_pred_train[alpha] = reg.predict(X_train)\n",
    "    CO2_coeffs[alpha] = reg.coef_\n",
    "    CO2_n_params[i] = len(CO2_coeffs[alpha][CO2_coeffs[alpha] != 0])\n",
    "    \n",
    "    # Create CO2_summary dataframes\n",
    "    CO2_summary = {}\n",
    "    CO2_summary[alpha] = pd.DataFrame(columns=['feature', 'coeff'], data=np.array([X_train.columns[CO2_coeffs[alpha] != 0], CO2_coeffs[alpha][CO2_coeffs[alpha] != 0]]).T)\n",
    "    CO2_summary[alpha]['coeff_abs'] = CO2_summary[alpha]['coeff'].apply(np.abs)\n",
    "    CO2_summary[alpha].sort_values(by='coeff_abs', inplace=True, ascending=False)\n",
    "    if alpha == .1:\n",
    "        lasso_select_features = (X_train.columns[np.abs(CO2_coeffs[alpha]) > 1e-6])\n",
    "\n",
    "    print(\"number of features: \", len(CO2_summary[alpha]))\n",
    "    print(\"mean of squared validation error = \", np.mean((y_val - CO2_y_pred_test[alphas[i]])**2))\n",
    "    print(CO2_summary[alpha])\n",
    "    \n",
    "\n",
    "    fig = plt.figure(figsize=(12,6))\n",
    "    plt.subplot(1,2,2)\n",
    "    plt.scatter(y_train, CO2_y_pred_train[alphas[i]], alpha=0.5, c='lightgrey')\n",
    "    plt.scatter(y_val, CO2_y_pred_test[alphas[i]], alpha=0.5)\n",
    "    plt.xlabel('y')\n",
    "    plt.ylabel('y pred')\n",
    "    plt.title('Validation Data')\n",
    "\n",
    "    plt.subplot(1,2,1)\n",
    "    plt.scatter(y_train, CO2_y_pred_train[alphas[i]], alpha=0.5,)\n",
    "    plt.xlabel('y')\n",
    "    plt.ylabel('y pred')\n",
    "    plt.title('Training Data')\n",
    "    plt.show()\n",
    "\n",
    "print(len(lasso_select_features))\n",
    "print(lasso_select_features)"
   ]
  },
  {
   "cell_type": "code",
   "execution_count": 42,
   "metadata": {},
   "outputs": [
    {
     "name": "stdout",
     "output_type": "stream",
     "text": [
      "Fitting 3 folds for each of 25 candidates, totalling 75 fits\n"
     ]
    },
    {
     "name": "stderr",
     "output_type": "stream",
     "text": [
      "[Parallel(n_jobs=1)]: Using backend SequentialBackend with 1 concurrent workers.\n",
      "[Parallel(n_jobs=1)]: Done  75 out of  75 | elapsed:   19.0s finished\n"
     ]
    },
    {
     "name": "stdout",
     "output_type": "stream",
     "text": [
      "Model with rank: 1\n",
      "Mean validation score: 0.921 (std: 0.004)\n",
      "Parameters: {'gamma': 0.20722826740283984, 'learning_rate': 0.06824966453099654, 'max_depth': 2, 'n_estimators': 475}\n",
      "\n",
      "Model with rank: 2\n",
      "Mean validation score: 0.918 (std: 0.004)\n",
      "Parameters: {'gamma': 0.15068028866695826, 'learning_rate': 0.21228922813737985, 'max_depth': 2, 'n_estimators': 320}\n",
      "\n",
      "Model with rank: 3\n",
      "Mean validation score: 0.914 (std: 0.003)\n",
      "Parameters: {'gamma': 0.40189584190665617, 'learning_rate': 0.03872425493931249, 'max_depth': 2, 'n_estimators': 493}\n",
      "\n"
     ]
    },
    {
     "data": {
      "image/png": "[encoded data removed]",
      "text/plain": [
       "<Figure size 864x432 with 2 Axes>"
      ]
     },
     "metadata": {
      "needs_background": "light"
     },
     "output_type": "display_data"
    },
    {
     "data": {
      "image/png": "[encoded data removed]",
      "text/plain": [
       "<Figure size 864x432 with 2 Axes>"
      ]
     },
     "metadata": {
      "needs_background": "light"
     },
     "output_type": "display_data"
    },
    {
     "name": "stdout",
     "output_type": "stream",
     "text": [
      "Fitting 3 folds for each of 25 candidates, totalling 75 fits\n"
     ]
    },
    {
     "name": "stderr",
     "output_type": "stream",
     "text": [
      "[Parallel(n_jobs=1)]: Using backend SequentialBackend with 1 concurrent workers.\n",
      "[Parallel(n_jobs=1)]: Done  75 out of  75 | elapsed: 12.9min finished\n"
     ]
    },
    {
     "name": "stdout",
     "output_type": "stream",
     "text": [
      "Model with rank: 1\n",
      "Mean validation score: 0.923 (std: 0.012)\n",
      "Parameters: {'gamma': 0.10875207185882085, 'learning_rate': 0.04311470405846674, 'max_depth': 2, 'n_estimators': 625}\n",
      "\n"
     ]
    },
    {
     "data": {
      "image/png": "[encoded data removed]",
      "text/plain": [
       "<Figure size 864x432 with 2 Axes>"
      ]
     },
     "metadata": {
      "needs_background": "light"
     },
     "output_type": "display_data"
    },
    {
     "data": {
      "image/png": "[encoded data removed]",
      "text/plain": [
       "<Figure size 864x432 with 2 Axes>"
      ]
     },
     "metadata": {
      "needs_background": "light"
     },
     "output_type": "display_data"
    },
    {
     "name": "stdout",
     "output_type": "stream",
     "text": [
      "Fitting 3 folds for each of 25 candidates, totalling 75 fits\n"
     ]
    },
    {
     "name": "stderr",
     "output_type": "stream",
     "text": [
      "[Parallel(n_jobs=1)]: Using backend SequentialBackend with 1 concurrent workers.\n",
      "[Parallel(n_jobs=1)]: Done  75 out of  75 | elapsed:  1.6min finished\n"
     ]
    },
    {
     "name": "stdout",
     "output_type": "stream",
     "text": [
      "Model with rank: 1\n",
      "Mean validation score: 0.930 (std: 0.008)\n",
      "Parameters: {'gamma': 0.05823162708095808, 'learning_rate': 0.0789545116542362, 'max_depth': 2, 'n_estimators': 731}\n",
      "\n"
     ]
    },
    {
     "data": {
      "image/png": "[encoded data removed]",
      "text/plain": [
       "<Figure size 864x432 with 2 Axes>"
      ]
     },
     "metadata": {
      "needs_background": "light"
     },
     "output_type": "display_data"
    },
    {
     "data": {
      "image/png": "[encoded data removed]",
      "text/plain": [
       "<Figure size 864x432 with 2 Axes>"
      ]
     },
     "metadata": {
      "needs_background": "light"
     },
     "output_type": "display_data"
    }
   ],
   "source": [
    "import xgboost as xgb\n",
    "from sklearn.model_selection import cross_val_score, GridSearchCV, KFold, RandomizedSearchCV, train_test_split\n",
    "from scipy.stats import uniform, randint\n",
    "\n",
    "def report_best_scores(results, n_top=3):\n",
    "    for i in range(1, n_top + 1):\n",
    "        candidates = np.flatnonzero(results['rank_test_score'] == i)\n",
    "        for candidate in candidates:\n",
    "            print(\"Model with rank: {0}\".format(i))\n",
    "            print(\"Mean validation score: {0:.3f} (std: {1:.3f})\".format(\n",
    "                  results['mean_test_score'][candidate],\n",
    "                  results['std_test_score'][candidate]))\n",
    "            print(\"Parameters: {0}\".format(results['params'][candidate]))\n",
    "            print(\"\")\n",
    "\n",
    "#train on original dataset\n",
    "X_train, X_test, y_train, y_test = train_test_split(X_orig, np.log(y_orig), test_size=0.2, random_state=42)\n",
    "\n",
    "xgb_model = xgb.XGBRegressor()\n",
    "\n",
    "params = {\n",
    "    \"gamma\": uniform(0, 0.5),\n",
    "    \"learning_rate\": uniform(0.03, 0.3), # default 0.1 \n",
    "    \"max_depth\": randint(2, 6), # default 3\n",
    "    \"n_estimators\": randint(100, 500), # default 100\n",
    "}\n",
    "\n",
    "#random_state=42\n",
    "search = RandomizedSearchCV(xgb_model, param_distributions=params, n_iter=25, scoring = 'r2', cv=3, verbose=1, n_jobs=1, return_train_score=True)\n",
    "\n",
    "search.fit(X_train, y_train)\n",
    "\n",
    "report_best_scores(search.cv_results_)\n",
    "#print(search.cv_results_)\n",
    "\n",
    "model_orig_features = xgb.XGBRegressor(**search.best_params_)\n",
    "model_orig_features.fit(X_train, y_train)\n",
    "y_pred_train = model_orig_features.predict(X_train)\n",
    "y_pred_test = model_orig_features.predict(X_test)\n",
    "\n",
    "fig = plt.figure(figsize=(12,6))\n",
    "plt.subplot(1,2,2)\n",
    "plt.scatter(y_train, y_pred_train, alpha=0.5, c='lightgrey')\n",
    "plt.scatter(y_test, y_pred_test, alpha=0.5)\n",
    "plt.xlabel('y')\n",
    "plt.ylabel('y pred')\n",
    "plt.title('Test Data with Original Features')\n",
    "\n",
    "plt.subplot(1,2,1)\n",
    "plt.scatter(y_train, y_pred_train, alpha=0.5,)\n",
    "plt.xlabel('y')\n",
    "plt.ylabel('y pred')\n",
    "plt.title('Training Data with Original Features')\n",
    "plt.show()\n",
    "\n",
    "fig = plt.figure(figsize=(12,6))\n",
    "plt.subplot(1,2,2)\n",
    "plt.scatter(np.exp(y_train), np.exp(y_pred_train), alpha=0.5, c='lightgrey')\n",
    "plt.scatter(np.exp(y_test), np.exp(y_pred_test), alpha=0.5)\n",
    "plt.xlabel('y')\n",
    "plt.ylabel('y pred')\n",
    "plt.title('Test Data with Original Features')\n",
    "\n",
    "plt.subplot(1,2,1)\n",
    "plt.scatter(np.exp(y_train), np.exp(y_pred_train), alpha=0.5,)\n",
    "plt.xlabel('y')\n",
    "plt.ylabel('y pred')\n",
    "plt.title('Training Data with Original Features')\n",
    "plt.show()\n",
    "\n",
    "#train on all resolution level data\n",
    "X = all_data\n",
    "X_train, X_test, y_train, y_test = train_test_split(X, np.log(y), test_size=0.2, random_state=42)\n",
    "\n",
    "xgb_model = xgb.XGBRegressor()\n",
    "\n",
    "params = {\n",
    "    #\"colsample_bytree\": uniform(0.7, 0.3),\n",
    "    \"gamma\": uniform(0, 0.5),\n",
    "    \"learning_rate\": uniform(0.03, 0.3), # default 0.1 \n",
    "    \"max_depth\": randint(2, 6), # default 3\n",
    "    \"n_estimators\": randint(100, 1000), # default 100\n",
    "}\n",
    "\n",
    "search = RandomizedSearchCV(xgb_model, param_distributions=params, n_iter=25, cv=3, verbose=1, n_jobs=1, return_train_score=True)\n",
    "\n",
    "search.fit(X_train, y_train)\n",
    "\n",
    "report_best_scores(search.cv_results_, 1)\n",
    "\n",
    "model_all_features = xgb.XGBRegressor(**search.best_params_)\n",
    "model_all_features.fit(X_train, y_train)\n",
    "y_pred_train = model_all_features.predict(X_train)\n",
    "y_pred_test = model_all_features.predict(X_test)\n",
    "\n",
    "fig = plt.figure(figsize=(12,6))\n",
    "plt.subplot(1,2,2)\n",
    "plt.scatter(y_train, y_pred_train, alpha=0.5, c='lightgrey')\n",
    "plt.scatter(y_test, y_pred_test, alpha=0.5)\n",
    "plt.xlabel('y')\n",
    "plt.ylabel('y pred')\n",
    "plt.title('Test Data with All Features')\n",
    "\n",
    "plt.subplot(1,2,1)\n",
    "plt.scatter(y_train, y_pred_train, alpha=0.5,)\n",
    "plt.xlabel('y')\n",
    "plt.ylabel('y pred')\n",
    "plt.title('Training Data with All Features')\n",
    "plt.show()\n",
    "\n",
    "fig = plt.figure(figsize=(12,6))\n",
    "plt.subplot(1,2,2)\n",
    "plt.scatter(np.exp(y_train), np.exp(y_pred_train), alpha=0.5, c='lightgrey')\n",
    "plt.scatter(np.exp(y_test), np.exp(y_pred_test), alpha=0.5)\n",
    "plt.xlabel('y')\n",
    "plt.ylabel('y pred')\n",
    "plt.title('Test Data with All Features')\n",
    "\n",
    "plt.subplot(1,2,1)\n",
    "plt.scatter(np.exp(y_train), np.exp(y_pred_train), alpha=0.5,)\n",
    "plt.xlabel('y')\n",
    "plt.ylabel('y pred')\n",
    "plt.title('Training Data with All Features')\n",
    "plt.show()\n",
    "\n",
    "#train only on selected features\n",
    "selected_features = set(purity_select_features).union(set(perm_imp_select_features))\n",
    "lasso_unique_features = set(lasso_select_features).difference(selected_features)\n",
    "#print(selected_features)\n",
    "#print(len(selected_features))\n",
    "\n",
    "X = pd.concat([all_data[list(selected_features)], X_one_hot[list(lasso_unique_features)]], axis = 1)\n",
    "\n",
    "X_train, X_test, y_train, y_test = train_test_split(X, np.log(y), test_size=0.2, random_state=42)\n",
    "\n",
    "xgb_model = xgb.XGBRegressor()\n",
    "\n",
    "params = {\n",
    "    \"gamma\": uniform(0, 0.5),\n",
    "    \"learning_rate\": uniform(0.03, 0.3), # default 0.1 \n",
    "    \"max_depth\": randint(2, 6), # default 3\n",
    "    \"n_estimators\": randint(100, 1000), # default 100\n",
    "}\n",
    "\n",
    "search = RandomizedSearchCV(xgb_model, param_distributions=params, n_iter=25, cv=3, verbose=1, n_jobs=1, return_train_score=True)\n",
    "\n",
    "search.fit(X_train, y_train)\n",
    "\n",
    "report_best_scores(search.cv_results_, 1)\n",
    "\n",
    "model_select_features = xgb.XGBRegressor(**search.best_params_)\n",
    "model_select_features.fit(X_train, y_train)\n",
    "y_pred_train = model_select_features.predict(X_train)\n",
    "y_pred_test = model_select_features.predict(X_test)\n",
    "\n",
    "fig = plt.figure(figsize=(12,6))\n",
    "plt.subplot(1,2,2)\n",
    "plt.scatter(y_train, y_pred_train, alpha=0.5, c='lightgrey')\n",
    "plt.scatter(y_test, y_pred_test, alpha=0.5)\n",
    "plt.xlabel('y')\n",
    "plt.ylabel('y pred')\n",
    "plt.title('Test Data with Selected Features')\n",
    "\n",
    "plt.subplot(1,2,1)\n",
    "plt.scatter(y_train, y_pred_train, alpha=0.5,)\n",
    "plt.xlabel('y')\n",
    "plt.ylabel('y pred')\n",
    "plt.title('Training Data with Selected Features')\n",
    "plt.show()\n",
    "\n",
    "fig = plt.figure(figsize=(12,6))\n",
    "plt.subplot(1,2,2)\n",
    "plt.scatter(np.exp(y_train), np.exp(y_pred_train), alpha=0.5, c='lightgrey')\n",
    "plt.scatter(np.exp(y_test), np.exp(y_pred_test), alpha=0.5)\n",
    "plt.xlabel('y')\n",
    "plt.ylabel('y pred')\n",
    "plt.title('Test Data with Selected Features')\n",
    "\n",
    "plt.subplot(1,2,1)\n",
    "plt.scatter(np.exp(y_train), np.exp(y_pred_train), alpha=0.5,)\n",
    "plt.xlabel('y')\n",
    "plt.ylabel('y pred')\n",
    "plt.title('Training Data with Selected Features')\n",
    "plt.show()\n"
   ]
  },
  {
   "cell_type": "code",
   "execution_count": null,
   "metadata": {},
   "outputs": [],
   "source": [
    "#Exploring effect of gamma and n_estimators"
   ]
  },
  {
   "cell_type": "code",
   "execution_count": null,
   "metadata": {},
   "outputs": [],
   "source": [
    "#PCA\n",
    "gammas = [0.01, 0.001,0.0005, 0.0001, 0.00001]\n",
    "\n",
    "for gamma in gammas:\n",
    "    kpca = KernelPCA(kernel=\"rbf\", gamma=gamma)\n",
    "    X_kpca = kpca.fit_transform(X)\n",
    "    plt.figure(figsize=(20,20))\n",
    "    plt.scatter(X_kpca[:, 0], X_kpca[:, 1], c=y, s=1, marker='.', alpha=0.5, cmap='coolwarm')\n",
    "    plt.title(r\"Projection by KPCA, $\\gamma=$\"+f\"{gamma}\", fontsize=25)\n",
    "    plt.xlabel(r\"1st principal component in space induced by kernel feature map\", fontsize=20)\n",
    "    plt.ylabel(\"2nd component\", fontsize=20)\n",
    "    plt.colorbar()\n",
    "    plt.show()"
   ]
  },
  {
   "cell_type": "code",
   "execution_count": null,
   "metadata": {},
   "outputs": [],
   "source": [
    "'''\n",
    "#Genetic Algorithm Feature Selection\n",
    "\n",
    "estimator = GradientBoostingRegressor(random_state=0, n_estimators=1000, verbose=1)\n",
    "GA_selector = GeneticSelectionCV(estimator,\n",
    "                                  cv=5,\n",
    "                                  verbose=1,\n",
    "                                  scoring=\"neg_mean_squared_error\",\n",
    "                                  max_features=80,\n",
    "                                  n_population=50,\n",
    "                                  crossover_proba=0.5,\n",
    "                                  mutation_proba=0.2,\n",
    "                                  n_generations=40,\n",
    "                                  crossover_independent_proba=0.5,\n",
    "                                  mutation_independent_proba=0.05,\n",
    "                                  tournament_size=3,\n",
    "                                  n_gen_no_change=10,\n",
    "                                  caching=True,\n",
    "                                  n_jobs=-1)\n",
    "GA_selector = estimator.fit(X, y)\n",
    "\n",
    "cv_score = GA_selector.generation_scores_[-1]\n",
    "print('cv_score', cv_score)\n",
    "print(GA_selector.support_)\n",
    "'''"
   ]
  },
  {
   "cell_type": "code",
   "execution_count": null,
   "metadata": {},
   "outputs": [],
   "source": [
    "# Delare a vector of numerical features to use\n",
    "features = ['DAM_HGT_M', 'DAM_LEN_M', 'AREA_SKM', 'DEPTH_M', 'DIS_AVG_LS', 'DOR_PC', 'ELEV_MASL', 'CATCH_SKM', \n",
    "            'GDP_capita', 'Population', 'run_mm_syr', 'inu_pc_umn', 'sgr_dk_sav', 'ari_ix_sav', 'ari_ix_uav', \n",
    "            'for_pc_use', 'crp_pc_use', 'pst_pc_use', 'ire_pc_use', 'gla_pc_use', 'prm_pc_use', 'pac_pc_use', \n",
    "            'soc_th_uav', 'swc_pc_uyr', 'ero_kh_uav', 'pop_ct_usu', 'ppd_pk_uav', 'urb_pc_use', 'hft_ix_u09', \n",
    "            'hdi_ix_sav', 'YEAR', 'CAP_MCM', 'RES_YLD_TN', 'RES_LSS_TN', 'CO2_total_per_GWH', 'fish_per_GWH', \n",
    "            'capacity_factor']"
   ]
  },
  {
   "cell_type": "code",
   "execution_count": null,
   "metadata": {},
   "outputs": [],
   "source": [
    "# Change categorial features to one-hot encoding\n",
    "categorial_features = ['clz_cl_smj', 'glc_cl_smj', 'pnv_cl_smj', 'wet_cl_smj', \n",
    "                       'fmh_cl_smj', 'lit_cl_smj', 'MAIN_USE', 'LAKE_CTRL']\n",
    "\n",
    "for feature in categorial_features:\n",
    "    categories = pd.unique(data[feature])\n",
    "    for category in categories:\n",
    "        key = '{}-{}'.format(feature, category)\n",
    "        data[key] = data[feature].apply(lambda x: 1 if x == category else 0)\n",
    "        features.append(key)"
   ]
  },
  {
   "cell_type": "code",
   "execution_count": null,
   "metadata": {},
   "outputs": [],
   "source": [
    "# # Add columns for CO2 per GWH and fish per GWH\n",
    "data['CO2_areal_per_GWH'] = data.apply(lambda x: x['CO2EQ_areal']/x['pred_GEN_GWH_YR'], axis=1)\n",
    "data['CO2_total_per_GWH'] = data.apply(lambda x: x['CO2EQ_total']/x['pred_GEN_GWH_YR'], axis=1)\n",
    "data['fish_per_GWH'] = data.apply(lambda x: (x['RES_BAL']/x['pred_GEN_GWH_YR']), axis=1)"
   ]
  },
  {
   "cell_type": "code",
   "execution_count": null,
   "metadata": {},
   "outputs": [],
   "source": [
    "# Save the data with the new features\n",
    "# data.to_csv('../data/global_dams_db__with_objs_0922.csv')"
   ]
  },
  {
   "cell_type": "markdown",
   "metadata": {},
   "source": [
    "### CO2 per GWH"
   ]
  },
  {
   "cell_type": "code",
   "execution_count": null,
   "metadata": {},
   "outputs": [],
   "source": [
    "# Filter for dams with CO2 and power information\n",
    "CO2_data = data[data['CO2_total_per_GWH'].apply(lambda x: not pd.isna(x))]\n",
    "CO2_data = CO2_data[features]\n",
    "CO2_data.shape"
   ]
  },
  {
   "cell_type": "code",
   "execution_count": null,
   "metadata": {},
   "outputs": [],
   "source": [
    "# Generate the test and training data \n",
    "X = CO2_data.drop(columns=['CO2_total_per_GWH'], inplace=False)\n",
    "y = np.log(CO2_data['CO2_total_per_GWH'])\n",
    "X_train, X_test, y_train, y_test = train_test_split(X, y, test_size=0.8, random_state=42)"
   ]
  },
  {
   "cell_type": "code",
   "execution_count": null,
   "metadata": {},
   "outputs": [],
   "source": [
    "# Standardize the data (i.e. set mean to 0 and std to 1)\n",
    "sc = StandardScaler()\n",
    "X_train = sc.fit_transform(X_train)\n",
    "X_test = sc.transform (X_test)"
   ]
  },
  {
   "cell_type": "code",
   "execution_count": null,
   "metadata": {},
   "outputs": [],
   "source": [
    "# Check for features containing NAs\n",
    "nas = X.isnull().sum()\n",
    "nas = nas[nas != 0]\n",
    "nas"
   ]
  },
  {
   "cell_type": "code",
   "execution_count": null,
   "metadata": {},
   "outputs": [],
   "source": [
    "# For now, drop columns with NAs. Could potentially use imputation\n",
    "X.drop(columns=list(nas.index), inplace=True)\n",
    "X_train, X_test, y_train, y_test = train_test_split(X, y, test_size=0.3, random_state=0)"
   ]
  },
  {
   "cell_type": "code",
   "execution_count": null,
   "metadata": {},
   "outputs": [],
   "source": [
    "# Define alphas\n",
    "alphas = [5, 2, 1, 0.5, 0]"
   ]
  },
  {
   "cell_type": "code",
   "execution_count": null,
   "metadata": {},
   "outputs": [],
   "source": [
    "# Train models and record R2 values and the number of parameters\n",
    "CO2_test_r2s = np.zeros(len(alphas))\n",
    "CO2_train_r2s = np.zeros(len(alphas))\n",
    "CO2_n_params = np.zeros(len(alphas))\n",
    "CO2_coeffs = {}\n",
    "CO2_y_pred_test = {}\n",
    "CO2_y_pred_train = {}\n",
    "\n",
    "for i in range(len(alphas)):\n",
    "    alpha = alphas[i]\n",
    "    reg = linear_model.Lasso(alpha=alpha, fit_intercept=True, positive=False)\n",
    "    reg.fit(X_train, y_train)    \n",
    "    CO2_test_r2s[i] = reg.score(X_test, y_test)\n",
    "    CO2_train_r2s[i] = reg.score(X_train, y_train)\n",
    "    CO2_y_pred_test[alpha] = reg.predict(X_test)\n",
    "    CO2_y_pred_train[alpha] = reg.predict(X_train)\n",
    "    CO2_coeffs[alpha] = reg.coef_\n",
    "    CO2_n_params[i] = len(CO2_coeffs[alpha][CO2_coeffs[alpha] != 0])"
   ]
  },
  {
   "cell_type": "code",
   "execution_count": null,
   "metadata": {},
   "outputs": [],
   "source": [
    "# Plot the y-values verus the predicted y-values for the regular regression for one model\n",
    "model_alpha = 0\n",
    "\n",
    "fig = plt.figure(figsize=(12,6))\n",
    "plt.subplot(1,2,2)\n",
    "plt.scatter(y_train, CO2_y_pred_train[model_alpha], alpha=0.5, c='lightgrey')\n",
    "plt.scatter(y_test, CO2_y_pred_test[model_alpha], alpha=0.5)\n",
    "plt.xlabel('y')\n",
    "plt.ylabel('y pred')\n",
    "plt.title('Test Data')\n",
    "\n",
    "plt.subplot(1,2,1)\n",
    "plt.scatter(y_train, CO2_y_pred_train[model_alpha], alpha=0.5,)\n",
    "plt.xlabel('y')\n",
    "plt.ylabel('y pred')\n",
    "plt.title('Training Data')\n",
    "plt.show()\n"
   ]
  },
  {
   "cell_type": "code",
   "execution_count": null,
   "metadata": {
    "scrolled": true
   },
   "outputs": [],
   "source": [
    "# Plot the R2 values of the models\n",
    "fig = plt.figure(figsize=(12,6))\n",
    "plt.subplot(1,2,1)\n",
    "plt.scatter(CO2_n_params, CO2_train_r2s)\n",
    "for i in range(len(CO2_n_params)):\n",
    "    plt.text(CO2_n_params[i], CO2_train_r2s[i], s=alphas[i])\n",
    "plt.xlabel('Number of parameters')\n",
    "plt.ylabel('$R^2$')\n",
    "plt.title('Training Data')\n",
    "plt.ylim([0,1])\n",
    "\n",
    "plt.subplot(1,2,2)\n",
    "plt.scatter(CO2_n_params, CO2_test_r2s)\n",
    "for i in range(len(CO2_n_params)):\n",
    "    plt.text(CO2_n_params[i], CO2_test_r2s[i], s=alphas[i])\n",
    "plt.xlabel('Number of parameters')\n",
    "plt.ylabel('$R^2$')\n",
    "plt.title('Test Data')\n",
    "plt.ylim([0,1])\n",
    "plt.show()"
   ]
  },
  {
   "cell_type": "code",
   "execution_count": null,
   "metadata": {},
   "outputs": [],
   "source": [
    "max(CO2_train_r2s)"
   ]
  },
  {
   "cell_type": "code",
   "execution_count": null,
   "metadata": {},
   "outputs": [],
   "source": [
    "max(CO2_test_r2s)"
   ]
  },
  {
   "cell_type": "code",
   "execution_count": null,
   "metadata": {},
   "outputs": [],
   "source": [
    "# Create CO2_summary dataframes\n",
    "CO2_summary = {}\n",
    "for alpha in alphas:\n",
    "    CO2_summary[alpha] = pd.DataFrame(columns=['feature', 'coeff'], data=np.array([X.columns[CO2_coeffs[alpha] != 0], CO2_coeffs[alpha][CO2_coeffs[alpha] != 0]]).T)\n",
    "    CO2_summary[alpha] = CO2_summary[alpha].join(metadata, on='feature')\n",
    "    CO2_summary[alpha]['coeff_abs'] = CO2_summary[alpha]['coeff'].apply(np.abs)\n",
    "    CO2_summary[alpha].sort_values(by='coeff_abs', inplace=True, ascending=False)"
   ]
  },
  {
   "cell_type": "code",
   "execution_count": null,
   "metadata": {
    "scrolled": true
   },
   "outputs": [],
   "source": [
    "CO2_summary[0]"
   ]
  },
  {
   "cell_type": "code",
   "execution_count": null,
   "metadata": {},
   "outputs": [],
   "source": [
    "pd.set_option(\"max_colwidth\", 5000000)\n",
    "CO2_summary[0.5]"
   ]
  },
  {
   "cell_type": "markdown",
   "metadata": {},
   "source": [
    "### Change in Fish per GWH"
   ]
  },
  {
   "cell_type": "code",
   "execution_count": null,
   "metadata": {},
   "outputs": [],
   "source": [
    "# Filter for dams with fish and power information\n",
    "fish_data = data[data['fish_per_GWH'].apply(lambda x: not pd.isna(x))]\n",
    "fish_data = fish_data[features]\n",
    "fish_data.shape"
   ]
  },
  {
   "cell_type": "code",
   "execution_count": null,
   "metadata": {},
   "outputs": [],
   "source": [
    "# Generate the test and training data \n",
    "X = fish_data.drop(columns=['fish_per_GWH'], inplace=False)\n",
    "y = np.log(np.ceil(np.abs(fish_data['fish_per_GWH']))) * np.sign(fish_data['fish_per_GWH'])\n",
    "X_train, X_test, y_train, y_test = train_test_split(X, y, test_size=0.3, random_state=0)"
   ]
  },
  {
   "cell_type": "code",
   "execution_count": null,
   "metadata": {},
   "outputs": [],
   "source": [
    "# Check for features containing NAs\n",
    "nas = X.isnull().sum()\n",
    "nas = nas[nas != 0]"
   ]
  },
  {
   "cell_type": "code",
   "execution_count": null,
   "metadata": {},
   "outputs": [],
   "source": [
    "# For now, drop columns with NAs. Could potentially use imputation\n",
    "X.drop(columns=list(nas.index), inplace=True)\n",
    "X_train, X_test, y_train, y_test = train_test_split(X, y, test_size=0.3, random_state=42)"
   ]
  },
  {
   "cell_type": "code",
   "execution_count": null,
   "metadata": {},
   "outputs": [],
   "source": [
    "# Standardize the data (i.e. set mean to 0 and std to 1)\n",
    "sc = StandardScaler()\n",
    "X_train = sc.fit_transform(X_train)\n",
    "X_test = sc.transform (X_test)"
   ]
  },
  {
   "cell_type": "code",
   "execution_count": null,
   "metadata": {},
   "outputs": [],
   "source": [
    "# Define alphas\n",
    "alphas = [1, 0.5, 0.1, 0.05, 0.01, 0]"
   ]
  },
  {
   "cell_type": "code",
   "execution_count": null,
   "metadata": {},
   "outputs": [],
   "source": [
    "# Train models and record R2 values and the number of parameters\n",
    "fish_test_r2s = np.zeros(len(alphas))\n",
    "fish_train_r2s = np.zeros(len(alphas))\n",
    "fish_n_params = np.zeros(len(alphas))\n",
    "fish_coeffs = {}\n",
    "fish_y_pred_test = {}\n",
    "fish_y_pred_train = {}\n",
    "\n",
    "for i in range(len(alphas)):\n",
    "    alpha = alphas[i]\n",
    "    reg = linear_model.Lasso(alpha=alpha)\n",
    "    reg.fit(X_train, y_train)    \n",
    "    fish_test_r2s[i] = reg.score(X_test, y_test)\n",
    "    fish_train_r2s[i] = reg.score(X_train, y_train)\n",
    "    fish_y_pred_test[alpha] = reg.predict(X_test)\n",
    "    fish_y_pred_train[alpha] = reg.predict(X_train)\n",
    "    fish_coeffs[alpha] = reg.coef_\n",
    "    fish_n_params[i] = len(fish_coeffs[alpha][fish_coeffs[alpha] != 0])"
   ]
  },
  {
   "cell_type": "code",
   "execution_count": null,
   "metadata": {},
   "outputs": [],
   "source": [
    "# Plot the y-values verus the predicted y-values for the regular regression\n",
    "fig = plt.figure(figsize=(12,6))\n",
    "plt.subplot(1,2,2)\n",
    "plt.scatter(y_train, fish_y_pred_train[alphas[4]], alpha=0.5, c='lightgrey')\n",
    "plt.scatter(y_test, fish_y_pred_test[alphas[4]], alpha=0.5)\n",
    "plt.xlabel('y')\n",
    "plt.ylabel('y pred')\n",
    "plt.title('Test Data')\n",
    "\n",
    "plt.subplot(1,2,1)\n",
    "plt.scatter(y_train, fish_y_pred_train[alphas[4]], alpha=0.5)\n",
    "plt.xlabel('y')\n",
    "plt.ylabel('y pred')\n",
    "plt.title('Training Data')\n",
    "plt.show()\n"
   ]
  },
  {
   "cell_type": "code",
   "execution_count": null,
   "metadata": {},
   "outputs": [],
   "source": [
    "# Plot the R2 values of the models\n",
    "fig = plt.figure(figsize=(12,6))\n",
    "plt.subplot(1,2,1)\n",
    "plt.scatter(fish_n_params, fish_train_r2s)\n",
    "for i in range(len(fish_n_params)):\n",
    "    plt.text(fish_n_params[i], fish_train_r2s[i], s=alphas[i])\n",
    "plt.xlabel('Number of parameters')\n",
    "plt.ylabel('$R^2$')\n",
    "plt.title('Training Data')\n",
    "plt.axhline(0, c='k')\n",
    "plt.ylim([-0.1,1])\n",
    "\n",
    "plt.subplot(1,2,2)\n",
    "plt.scatter(fish_n_params, fish_test_r2s)\n",
    "for i in range(len(fish_n_params)):\n",
    "    plt.text(fish_n_params[i], fish_test_r2s[i], s=alphas[i])\n",
    "plt.xlabel('Number of parameters')\n",
    "plt.ylabel('$R^2$')\n",
    "plt.title('Test Data')\n",
    "plt.axhline(0, c='k')\n",
    "plt.ylim([-0.1,1])\n",
    "plt.show()\n"
   ]
  },
  {
   "cell_type": "code",
   "execution_count": null,
   "metadata": {},
   "outputs": [],
   "source": [
    "max(fish_train_r2s)"
   ]
  },
  {
   "cell_type": "code",
   "execution_count": null,
   "metadata": {},
   "outputs": [],
   "source": [
    "max(fish_test_r2s)"
   ]
  },
  {
   "cell_type": "code",
   "execution_count": null,
   "metadata": {},
   "outputs": [],
   "source": [
    "# Create fish_summary dataframes\n",
    "fish_summary = {}\n",
    "for alpha in alphas:\n",
    "    fish_summary[alpha] = pd.DataFrame(columns=['feature', 'coeff'], data=np.array([X.columns[fish_coeffs[alpha] > 0], fish_coeffs[alpha][fish_coeffs[alpha] > 0]]).T)\n",
    "    fish_summary[alpha] = fish_summary[alpha].join(metadata, on='feature')\n",
    "    fish_summary[alpha]['coeff_abs'] = fish_summary[alpha]['coeff'].apply(np.abs)\n",
    "    fish_summary[alpha].sort_values(by='coeff_abs', inplace=True, ascending=False)"
   ]
  },
  {
   "cell_type": "code",
   "execution_count": null,
   "metadata": {},
   "outputs": [],
   "source": [
    "fish_summary[0.05]"
   ]
  }
 ],
 "metadata": {
  "kernelspec": {
   "display_name": "Python 3",
   "language": "python",
   "name": "python3"
  },
  "language_info": {
   "codemirror_mode": {
    "name": "ipython",
    "version": 3
   },
   "file_extension": ".py",
   "mimetype": "text/x-python",
   "name": "python",
   "nbconvert_exporter": "python",
   "pygments_lexer": "ipython3",
   "version": "3.8.5"
  }
 },
 "nbformat": 4,
 "nbformat_minor": 4
}
